{
  "nbformat": 4,
  "nbformat_minor": 0,
  "metadata": {
    "colab": {
      "provenance": []
    },
    "kernelspec": {
      "name": "python3",
      "display_name": "Python 3"
    },
    "language_info": {
      "name": "python"
    },
    "accelerator": "TPU",
    "gpuClass": "standard"
  },
  "cells": [
    {
      "cell_type": "markdown",
      "source": [
        "DATA COLLECTION AND ANALYSIS"
      ],
      "metadata": {
        "id": "WPGJ7ZZAGjkd"
      }
    },
    {
      "cell_type": "code",
      "source": [
        "from google.colab import drive\n",
        "drive.mount('/content/drive')"
      ],
      "metadata": {
        "colab": {
          "base_uri": "https://localhost:8080/"
        },
        "id": "hIwD2MN5eV8V",
        "outputId": "a4bda9ca-ac9c-43b9-f6c3-2fc97205e664"
      },
      "execution_count": null,
      "outputs": [
        {
          "output_type": "stream",
          "name": "stdout",
          "text": [
            "Drive already mounted at /content/drive; to attempt to forcibly remount, call drive.mount(\"/content/drive\", force_remount=True).\n"
          ]
        }
      ]
    },
    {
      "cell_type": "code",
      "execution_count": null,
      "metadata": {
        "id": "cAayryGrB1yb"
      },
      "outputs": [],
      "source": [
        "import numpy as np\n",
        "import pandas as pd\n",
        "path=\"/content/drive/MyDrive/Colab Notebooks/Parkinsson disease.csv\"\n",
        "PD=pd.read_csv(path)\n"
      ]
    },
    {
      "cell_type": "code",
      "source": [
        "PD.head()"
      ],
      "metadata": {
        "colab": {
          "base_uri": "https://localhost:8080/",
          "height": 300
        },
        "id": "XqAlrDTE4x2c",
        "outputId": "0f07c287-61ca-4df7-e75c-c3b8c8c352a2"
      },
      "execution_count": null,
      "outputs": [
        {
          "output_type": "execute_result",
          "data": {
            "text/plain": [
              "             name  MDVP:Fo(Hz)  MDVP:Fhi(Hz)  MDVP:Flo(Hz)  MDVP:Jitter(%)  \\\n",
              "0  phon_R01_S01_1      119.992       157.302        74.997         0.00784   \n",
              "1  phon_R01_S01_2      122.400       148.650       113.819         0.00968   \n",
              "2  phon_R01_S01_3      116.682       131.111       111.555         0.01050   \n",
              "3  phon_R01_S01_4      116.676       137.871       111.366         0.00997   \n",
              "4  phon_R01_S01_5      116.014       141.781       110.655         0.01284   \n",
              "\n",
              "   MDVP:Jitter(Abs)  MDVP:RAP  MDVP:PPQ  Jitter:DDP  MDVP:Shimmer  ...  \\\n",
              "0           0.00007   0.00370   0.00554     0.01109       0.04374  ...   \n",
              "1           0.00008   0.00465   0.00696     0.01394       0.06134  ...   \n",
              "2           0.00009   0.00544   0.00781     0.01633       0.05233  ...   \n",
              "3           0.00009   0.00502   0.00698     0.01505       0.05492  ...   \n",
              "4           0.00011   0.00655   0.00908     0.01966       0.06425  ...   \n",
              "\n",
              "   Shimmer:DDA      NHR     HNR  status      RPDE       DFA   spread1  \\\n",
              "0      0.06545  0.02211  21.033       1  0.414783  0.815285 -4.813031   \n",
              "1      0.09403  0.01929  19.085       1  0.458359  0.819521 -4.075192   \n",
              "2      0.08270  0.01309  20.651       1  0.429895  0.825288 -4.443179   \n",
              "3      0.08771  0.01353  20.644       1  0.434969  0.819235 -4.117501   \n",
              "4      0.10470  0.01767  19.649       1  0.417356  0.823484 -3.747787   \n",
              "\n",
              "    spread2        D2       PPE  \n",
              "0  0.266482  2.301442  0.284654  \n",
              "1  0.335590  2.486855  0.368674  \n",
              "2  0.311173  2.342259  0.332634  \n",
              "3  0.334147  2.405554  0.368975  \n",
              "4  0.234513  2.332180  0.410335  \n",
              "\n",
              "[5 rows x 24 columns]"
            ],
            "text/html": [
              "\n",
              "  <div id=\"df-b6a9f3b8-5deb-45d1-ad21-ae21b2f09bcc\">\n",
              "    <div class=\"colab-df-container\">\n",
              "      <div>\n",
              "<style scoped>\n",
              "    .dataframe tbody tr th:only-of-type {\n",
              "        vertical-align: middle;\n",
              "    }\n",
              "\n",
              "    .dataframe tbody tr th {\n",
              "        vertical-align: top;\n",
              "    }\n",
              "\n",
              "    .dataframe thead th {\n",
              "        text-align: right;\n",
              "    }\n",
              "</style>\n",
              "<table border=\"1\" class=\"dataframe\">\n",
              "  <thead>\n",
              "    <tr style=\"text-align: right;\">\n",
              "      <th></th>\n",
              "      <th>name</th>\n",
              "      <th>MDVP:Fo(Hz)</th>\n",
              "      <th>MDVP:Fhi(Hz)</th>\n",
              "      <th>MDVP:Flo(Hz)</th>\n",
              "      <th>MDVP:Jitter(%)</th>\n",
              "      <th>MDVP:Jitter(Abs)</th>\n",
              "      <th>MDVP:RAP</th>\n",
              "      <th>MDVP:PPQ</th>\n",
              "      <th>Jitter:DDP</th>\n",
              "      <th>MDVP:Shimmer</th>\n",
              "      <th>...</th>\n",
              "      <th>Shimmer:DDA</th>\n",
              "      <th>NHR</th>\n",
              "      <th>HNR</th>\n",
              "      <th>status</th>\n",
              "      <th>RPDE</th>\n",
              "      <th>DFA</th>\n",
              "      <th>spread1</th>\n",
              "      <th>spread2</th>\n",
              "      <th>D2</th>\n",
              "      <th>PPE</th>\n",
              "    </tr>\n",
              "  </thead>\n",
              "  <tbody>\n",
              "    <tr>\n",
              "      <th>0</th>\n",
              "      <td>phon_R01_S01_1</td>\n",
              "      <td>119.992</td>\n",
              "      <td>157.302</td>\n",
              "      <td>74.997</td>\n",
              "      <td>0.00784</td>\n",
              "      <td>0.00007</td>\n",
              "      <td>0.00370</td>\n",
              "      <td>0.00554</td>\n",
              "      <td>0.01109</td>\n",
              "      <td>0.04374</td>\n",
              "      <td>...</td>\n",
              "      <td>0.06545</td>\n",
              "      <td>0.02211</td>\n",
              "      <td>21.033</td>\n",
              "      <td>1</td>\n",
              "      <td>0.414783</td>\n",
              "      <td>0.815285</td>\n",
              "      <td>-4.813031</td>\n",
              "      <td>0.266482</td>\n",
              "      <td>2.301442</td>\n",
              "      <td>0.284654</td>\n",
              "    </tr>\n",
              "    <tr>\n",
              "      <th>1</th>\n",
              "      <td>phon_R01_S01_2</td>\n",
              "      <td>122.400</td>\n",
              "      <td>148.650</td>\n",
              "      <td>113.819</td>\n",
              "      <td>0.00968</td>\n",
              "      <td>0.00008</td>\n",
              "      <td>0.00465</td>\n",
              "      <td>0.00696</td>\n",
              "      <td>0.01394</td>\n",
              "      <td>0.06134</td>\n",
              "      <td>...</td>\n",
              "      <td>0.09403</td>\n",
              "      <td>0.01929</td>\n",
              "      <td>19.085</td>\n",
              "      <td>1</td>\n",
              "      <td>0.458359</td>\n",
              "      <td>0.819521</td>\n",
              "      <td>-4.075192</td>\n",
              "      <td>0.335590</td>\n",
              "      <td>2.486855</td>\n",
              "      <td>0.368674</td>\n",
              "    </tr>\n",
              "    <tr>\n",
              "      <th>2</th>\n",
              "      <td>phon_R01_S01_3</td>\n",
              "      <td>116.682</td>\n",
              "      <td>131.111</td>\n",
              "      <td>111.555</td>\n",
              "      <td>0.01050</td>\n",
              "      <td>0.00009</td>\n",
              "      <td>0.00544</td>\n",
              "      <td>0.00781</td>\n",
              "      <td>0.01633</td>\n",
              "      <td>0.05233</td>\n",
              "      <td>...</td>\n",
              "      <td>0.08270</td>\n",
              "      <td>0.01309</td>\n",
              "      <td>20.651</td>\n",
              "      <td>1</td>\n",
              "      <td>0.429895</td>\n",
              "      <td>0.825288</td>\n",
              "      <td>-4.443179</td>\n",
              "      <td>0.311173</td>\n",
              "      <td>2.342259</td>\n",
              "      <td>0.332634</td>\n",
              "    </tr>\n",
              "    <tr>\n",
              "      <th>3</th>\n",
              "      <td>phon_R01_S01_4</td>\n",
              "      <td>116.676</td>\n",
              "      <td>137.871</td>\n",
              "      <td>111.366</td>\n",
              "      <td>0.00997</td>\n",
              "      <td>0.00009</td>\n",
              "      <td>0.00502</td>\n",
              "      <td>0.00698</td>\n",
              "      <td>0.01505</td>\n",
              "      <td>0.05492</td>\n",
              "      <td>...</td>\n",
              "      <td>0.08771</td>\n",
              "      <td>0.01353</td>\n",
              "      <td>20.644</td>\n",
              "      <td>1</td>\n",
              "      <td>0.434969</td>\n",
              "      <td>0.819235</td>\n",
              "      <td>-4.117501</td>\n",
              "      <td>0.334147</td>\n",
              "      <td>2.405554</td>\n",
              "      <td>0.368975</td>\n",
              "    </tr>\n",
              "    <tr>\n",
              "      <th>4</th>\n",
              "      <td>phon_R01_S01_5</td>\n",
              "      <td>116.014</td>\n",
              "      <td>141.781</td>\n",
              "      <td>110.655</td>\n",
              "      <td>0.01284</td>\n",
              "      <td>0.00011</td>\n",
              "      <td>0.00655</td>\n",
              "      <td>0.00908</td>\n",
              "      <td>0.01966</td>\n",
              "      <td>0.06425</td>\n",
              "      <td>...</td>\n",
              "      <td>0.10470</td>\n",
              "      <td>0.01767</td>\n",
              "      <td>19.649</td>\n",
              "      <td>1</td>\n",
              "      <td>0.417356</td>\n",
              "      <td>0.823484</td>\n",
              "      <td>-3.747787</td>\n",
              "      <td>0.234513</td>\n",
              "      <td>2.332180</td>\n",
              "      <td>0.410335</td>\n",
              "    </tr>\n",
              "  </tbody>\n",
              "</table>\n",
              "<p>5 rows × 24 columns</p>\n",
              "</div>\n",
              "      <button class=\"colab-df-convert\" onclick=\"convertToInteractive('df-b6a9f3b8-5deb-45d1-ad21-ae21b2f09bcc')\"\n",
              "              title=\"Convert this dataframe to an interactive table.\"\n",
              "              style=\"display:none;\">\n",
              "        \n",
              "  <svg xmlns=\"http://www.w3.org/2000/svg\" height=\"24px\"viewBox=\"0 0 24 24\"\n",
              "       width=\"24px\">\n",
              "    <path d=\"M0 0h24v24H0V0z\" fill=\"none\"/>\n",
              "    <path d=\"M18.56 5.44l.94 2.06.94-2.06 2.06-.94-2.06-.94-.94-2.06-.94 2.06-2.06.94zm-11 1L8.5 8.5l.94-2.06 2.06-.94-2.06-.94L8.5 2.5l-.94 2.06-2.06.94zm10 10l.94 2.06.94-2.06 2.06-.94-2.06-.94-.94-2.06-.94 2.06-2.06.94z\"/><path d=\"M17.41 7.96l-1.37-1.37c-.4-.4-.92-.59-1.43-.59-.52 0-1.04.2-1.43.59L10.3 9.45l-7.72 7.72c-.78.78-.78 2.05 0 2.83L4 21.41c.39.39.9.59 1.41.59.51 0 1.02-.2 1.41-.59l7.78-7.78 2.81-2.81c.8-.78.8-2.07 0-2.86zM5.41 20L4 18.59l7.72-7.72 1.47 1.35L5.41 20z\"/>\n",
              "  </svg>\n",
              "      </button>\n",
              "      \n",
              "  <style>\n",
              "    .colab-df-container {\n",
              "      display:flex;\n",
              "      flex-wrap:wrap;\n",
              "      gap: 12px;\n",
              "    }\n",
              "\n",
              "    .colab-df-convert {\n",
              "      background-color: #E8F0FE;\n",
              "      border: none;\n",
              "      border-radius: 50%;\n",
              "      cursor: pointer;\n",
              "      display: none;\n",
              "      fill: #1967D2;\n",
              "      height: 32px;\n",
              "      padding: 0 0 0 0;\n",
              "      width: 32px;\n",
              "    }\n",
              "\n",
              "    .colab-df-convert:hover {\n",
              "      background-color: #E2EBFA;\n",
              "      box-shadow: 0px 1px 2px rgba(60, 64, 67, 0.3), 0px 1px 3px 1px rgba(60, 64, 67, 0.15);\n",
              "      fill: #174EA6;\n",
              "    }\n",
              "\n",
              "    [theme=dark] .colab-df-convert {\n",
              "      background-color: #3B4455;\n",
              "      fill: #D2E3FC;\n",
              "    }\n",
              "\n",
              "    [theme=dark] .colab-df-convert:hover {\n",
              "      background-color: #434B5C;\n",
              "      box-shadow: 0px 1px 3px 1px rgba(0, 0, 0, 0.15);\n",
              "      filter: drop-shadow(0px 1px 2px rgba(0, 0, 0, 0.3));\n",
              "      fill: #FFFFFF;\n",
              "    }\n",
              "  </style>\n",
              "\n",
              "      <script>\n",
              "        const buttonEl =\n",
              "          document.querySelector('#df-b6a9f3b8-5deb-45d1-ad21-ae21b2f09bcc button.colab-df-convert');\n",
              "        buttonEl.style.display =\n",
              "          google.colab.kernel.accessAllowed ? 'block' : 'none';\n",
              "\n",
              "        async function convertToInteractive(key) {\n",
              "          const element = document.querySelector('#df-b6a9f3b8-5deb-45d1-ad21-ae21b2f09bcc');\n",
              "          const dataTable =\n",
              "            await google.colab.kernel.invokeFunction('convertToInteractive',\n",
              "                                                     [key], {});\n",
              "          if (!dataTable) return;\n",
              "\n",
              "          const docLinkHtml = 'Like what you see? Visit the ' +\n",
              "            '<a target=\"_blank\" href=https://colab.research.google.com/notebooks/data_table.ipynb>data table notebook</a>'\n",
              "            + ' to learn more about interactive tables.';\n",
              "          element.innerHTML = '';\n",
              "          dataTable['output_type'] = 'display_data';\n",
              "          await google.colab.output.renderOutput(dataTable, element);\n",
              "          const docLink = document.createElement('div');\n",
              "          docLink.innerHTML = docLinkHtml;\n",
              "          element.appendChild(docLink);\n",
              "        }\n",
              "      </script>\n",
              "    </div>\n",
              "  </div>\n",
              "  "
            ]
          },
          "metadata": {},
          "execution_count": 3
        }
      ]
    },
    {
      "cell_type": "code",
      "source": [
        "PD.info()"
      ],
      "metadata": {
        "colab": {
          "base_uri": "https://localhost:8080/"
        },
        "id": "XI9ME1Kj43zJ",
        "outputId": "cd5615cf-aabc-440a-8352-f75e3e8bcca6"
      },
      "execution_count": null,
      "outputs": [
        {
          "output_type": "stream",
          "name": "stdout",
          "text": [
            "<class 'pandas.core.frame.DataFrame'>\n",
            "RangeIndex: 195 entries, 0 to 194\n",
            "Data columns (total 24 columns):\n",
            " #   Column            Non-Null Count  Dtype  \n",
            "---  ------            --------------  -----  \n",
            " 0   name              195 non-null    object \n",
            " 1   MDVP:Fo(Hz)       195 non-null    float64\n",
            " 2   MDVP:Fhi(Hz)      195 non-null    float64\n",
            " 3   MDVP:Flo(Hz)      195 non-null    float64\n",
            " 4   MDVP:Jitter(%)    195 non-null    float64\n",
            " 5   MDVP:Jitter(Abs)  195 non-null    float64\n",
            " 6   MDVP:RAP          195 non-null    float64\n",
            " 7   MDVP:PPQ          195 non-null    float64\n",
            " 8   Jitter:DDP        195 non-null    float64\n",
            " 9   MDVP:Shimmer      195 non-null    float64\n",
            " 10  MDVP:Shimmer(dB)  195 non-null    float64\n",
            " 11  Shimmer:APQ3      195 non-null    float64\n",
            " 12  Shimmer:APQ5      195 non-null    float64\n",
            " 13  MDVP:APQ          195 non-null    float64\n",
            " 14  Shimmer:DDA       195 non-null    float64\n",
            " 15  NHR               195 non-null    float64\n",
            " 16  HNR               195 non-null    float64\n",
            " 17  status            195 non-null    int64  \n",
            " 18  RPDE              195 non-null    float64\n",
            " 19  DFA               195 non-null    float64\n",
            " 20  spread1           195 non-null    float64\n",
            " 21  spread2           195 non-null    float64\n",
            " 22  D2                195 non-null    float64\n",
            " 23  PPE               195 non-null    float64\n",
            "dtypes: float64(22), int64(1), object(1)\n",
            "memory usage: 36.7+ KB\n"
          ]
        }
      ]
    },
    {
      "cell_type": "code",
      "source": [
        "PD.describe()"
      ],
      "metadata": {
        "colab": {
          "base_uri": "https://localhost:8080/",
          "height": 393
        },
        "id": "RW4Wj9u949Jm",
        "outputId": "708f348e-e761-4887-f7e1-5ecf0fd46eb3"
      },
      "execution_count": null,
      "outputs": [
        {
          "output_type": "execute_result",
          "data": {
            "text/plain": [
              "       MDVP:Fo(Hz)  MDVP:Fhi(Hz)  MDVP:Flo(Hz)  MDVP:Jitter(%)  \\\n",
              "count   195.000000    195.000000    195.000000      195.000000   \n",
              "mean    154.228641    197.104918    116.324631        0.006220   \n",
              "std      41.390065     91.491548     43.521413        0.004848   \n",
              "min      88.333000    102.145000     65.476000        0.001680   \n",
              "25%     117.572000    134.862500     84.291000        0.003460   \n",
              "50%     148.790000    175.829000    104.315000        0.004940   \n",
              "75%     182.769000    224.205500    140.018500        0.007365   \n",
              "max     260.105000    592.030000    239.170000        0.033160   \n",
              "\n",
              "       MDVP:Jitter(Abs)    MDVP:RAP    MDVP:PPQ  Jitter:DDP  MDVP:Shimmer  \\\n",
              "count        195.000000  195.000000  195.000000  195.000000    195.000000   \n",
              "mean           0.000044    0.003306    0.003446    0.009920      0.029709   \n",
              "std            0.000035    0.002968    0.002759    0.008903      0.018857   \n",
              "min            0.000007    0.000680    0.000920    0.002040      0.009540   \n",
              "25%            0.000020    0.001660    0.001860    0.004985      0.016505   \n",
              "50%            0.000030    0.002500    0.002690    0.007490      0.022970   \n",
              "75%            0.000060    0.003835    0.003955    0.011505      0.037885   \n",
              "max            0.000260    0.021440    0.019580    0.064330      0.119080   \n",
              "\n",
              "       MDVP:Shimmer(dB)  ...  Shimmer:DDA         NHR         HNR      status  \\\n",
              "count        195.000000  ...   195.000000  195.000000  195.000000  195.000000   \n",
              "mean           0.282251  ...     0.046993    0.024847   21.885974    0.753846   \n",
              "std            0.194877  ...     0.030459    0.040418    4.425764    0.431878   \n",
              "min            0.085000  ...     0.013640    0.000650    8.441000    0.000000   \n",
              "25%            0.148500  ...     0.024735    0.005925   19.198000    1.000000   \n",
              "50%            0.221000  ...     0.038360    0.011660   22.085000    1.000000   \n",
              "75%            0.350000  ...     0.060795    0.025640   25.075500    1.000000   \n",
              "max            1.302000  ...     0.169420    0.314820   33.047000    1.000000   \n",
              "\n",
              "             RPDE         DFA     spread1     spread2          D2         PPE  \n",
              "count  195.000000  195.000000  195.000000  195.000000  195.000000  195.000000  \n",
              "mean     0.498536    0.718099   -5.684397    0.226510    2.381826    0.206552  \n",
              "std      0.103942    0.055336    1.090208    0.083406    0.382799    0.090119  \n",
              "min      0.256570    0.574282   -7.964984    0.006274    1.423287    0.044539  \n",
              "25%      0.421306    0.674758   -6.450096    0.174351    2.099125    0.137451  \n",
              "50%      0.495954    0.722254   -5.720868    0.218885    2.361532    0.194052  \n",
              "75%      0.587562    0.761881   -5.046192    0.279234    2.636456    0.252980  \n",
              "max      0.685151    0.825288   -2.434031    0.450493    3.671155    0.527367  \n",
              "\n",
              "[8 rows x 23 columns]"
            ],
            "text/html": [
              "\n",
              "  <div id=\"df-c2fd5f4c-74bf-4d47-a2d9-f365a7ea22cf\">\n",
              "    <div class=\"colab-df-container\">\n",
              "      <div>\n",
              "<style scoped>\n",
              "    .dataframe tbody tr th:only-of-type {\n",
              "        vertical-align: middle;\n",
              "    }\n",
              "\n",
              "    .dataframe tbody tr th {\n",
              "        vertical-align: top;\n",
              "    }\n",
              "\n",
              "    .dataframe thead th {\n",
              "        text-align: right;\n",
              "    }\n",
              "</style>\n",
              "<table border=\"1\" class=\"dataframe\">\n",
              "  <thead>\n",
              "    <tr style=\"text-align: right;\">\n",
              "      <th></th>\n",
              "      <th>MDVP:Fo(Hz)</th>\n",
              "      <th>MDVP:Fhi(Hz)</th>\n",
              "      <th>MDVP:Flo(Hz)</th>\n",
              "      <th>MDVP:Jitter(%)</th>\n",
              "      <th>MDVP:Jitter(Abs)</th>\n",
              "      <th>MDVP:RAP</th>\n",
              "      <th>MDVP:PPQ</th>\n",
              "      <th>Jitter:DDP</th>\n",
              "      <th>MDVP:Shimmer</th>\n",
              "      <th>MDVP:Shimmer(dB)</th>\n",
              "      <th>...</th>\n",
              "      <th>Shimmer:DDA</th>\n",
              "      <th>NHR</th>\n",
              "      <th>HNR</th>\n",
              "      <th>status</th>\n",
              "      <th>RPDE</th>\n",
              "      <th>DFA</th>\n",
              "      <th>spread1</th>\n",
              "      <th>spread2</th>\n",
              "      <th>D2</th>\n",
              "      <th>PPE</th>\n",
              "    </tr>\n",
              "  </thead>\n",
              "  <tbody>\n",
              "    <tr>\n",
              "      <th>count</th>\n",
              "      <td>195.000000</td>\n",
              "      <td>195.000000</td>\n",
              "      <td>195.000000</td>\n",
              "      <td>195.000000</td>\n",
              "      <td>195.000000</td>\n",
              "      <td>195.000000</td>\n",
              "      <td>195.000000</td>\n",
              "      <td>195.000000</td>\n",
              "      <td>195.000000</td>\n",
              "      <td>195.000000</td>\n",
              "      <td>...</td>\n",
              "      <td>195.000000</td>\n",
              "      <td>195.000000</td>\n",
              "      <td>195.000000</td>\n",
              "      <td>195.000000</td>\n",
              "      <td>195.000000</td>\n",
              "      <td>195.000000</td>\n",
              "      <td>195.000000</td>\n",
              "      <td>195.000000</td>\n",
              "      <td>195.000000</td>\n",
              "      <td>195.000000</td>\n",
              "    </tr>\n",
              "    <tr>\n",
              "      <th>mean</th>\n",
              "      <td>154.228641</td>\n",
              "      <td>197.104918</td>\n",
              "      <td>116.324631</td>\n",
              "      <td>0.006220</td>\n",
              "      <td>0.000044</td>\n",
              "      <td>0.003306</td>\n",
              "      <td>0.003446</td>\n",
              "      <td>0.009920</td>\n",
              "      <td>0.029709</td>\n",
              "      <td>0.282251</td>\n",
              "      <td>...</td>\n",
              "      <td>0.046993</td>\n",
              "      <td>0.024847</td>\n",
              "      <td>21.885974</td>\n",
              "      <td>0.753846</td>\n",
              "      <td>0.498536</td>\n",
              "      <td>0.718099</td>\n",
              "      <td>-5.684397</td>\n",
              "      <td>0.226510</td>\n",
              "      <td>2.381826</td>\n",
              "      <td>0.206552</td>\n",
              "    </tr>\n",
              "    <tr>\n",
              "      <th>std</th>\n",
              "      <td>41.390065</td>\n",
              "      <td>91.491548</td>\n",
              "      <td>43.521413</td>\n",
              "      <td>0.004848</td>\n",
              "      <td>0.000035</td>\n",
              "      <td>0.002968</td>\n",
              "      <td>0.002759</td>\n",
              "      <td>0.008903</td>\n",
              "      <td>0.018857</td>\n",
              "      <td>0.194877</td>\n",
              "      <td>...</td>\n",
              "      <td>0.030459</td>\n",
              "      <td>0.040418</td>\n",
              "      <td>4.425764</td>\n",
              "      <td>0.431878</td>\n",
              "      <td>0.103942</td>\n",
              "      <td>0.055336</td>\n",
              "      <td>1.090208</td>\n",
              "      <td>0.083406</td>\n",
              "      <td>0.382799</td>\n",
              "      <td>0.090119</td>\n",
              "    </tr>\n",
              "    <tr>\n",
              "      <th>min</th>\n",
              "      <td>88.333000</td>\n",
              "      <td>102.145000</td>\n",
              "      <td>65.476000</td>\n",
              "      <td>0.001680</td>\n",
              "      <td>0.000007</td>\n",
              "      <td>0.000680</td>\n",
              "      <td>0.000920</td>\n",
              "      <td>0.002040</td>\n",
              "      <td>0.009540</td>\n",
              "      <td>0.085000</td>\n",
              "      <td>...</td>\n",
              "      <td>0.013640</td>\n",
              "      <td>0.000650</td>\n",
              "      <td>8.441000</td>\n",
              "      <td>0.000000</td>\n",
              "      <td>0.256570</td>\n",
              "      <td>0.574282</td>\n",
              "      <td>-7.964984</td>\n",
              "      <td>0.006274</td>\n",
              "      <td>1.423287</td>\n",
              "      <td>0.044539</td>\n",
              "    </tr>\n",
              "    <tr>\n",
              "      <th>25%</th>\n",
              "      <td>117.572000</td>\n",
              "      <td>134.862500</td>\n",
              "      <td>84.291000</td>\n",
              "      <td>0.003460</td>\n",
              "      <td>0.000020</td>\n",
              "      <td>0.001660</td>\n",
              "      <td>0.001860</td>\n",
              "      <td>0.004985</td>\n",
              "      <td>0.016505</td>\n",
              "      <td>0.148500</td>\n",
              "      <td>...</td>\n",
              "      <td>0.024735</td>\n",
              "      <td>0.005925</td>\n",
              "      <td>19.198000</td>\n",
              "      <td>1.000000</td>\n",
              "      <td>0.421306</td>\n",
              "      <td>0.674758</td>\n",
              "      <td>-6.450096</td>\n",
              "      <td>0.174351</td>\n",
              "      <td>2.099125</td>\n",
              "      <td>0.137451</td>\n",
              "    </tr>\n",
              "    <tr>\n",
              "      <th>50%</th>\n",
              "      <td>148.790000</td>\n",
              "      <td>175.829000</td>\n",
              "      <td>104.315000</td>\n",
              "      <td>0.004940</td>\n",
              "      <td>0.000030</td>\n",
              "      <td>0.002500</td>\n",
              "      <td>0.002690</td>\n",
              "      <td>0.007490</td>\n",
              "      <td>0.022970</td>\n",
              "      <td>0.221000</td>\n",
              "      <td>...</td>\n",
              "      <td>0.038360</td>\n",
              "      <td>0.011660</td>\n",
              "      <td>22.085000</td>\n",
              "      <td>1.000000</td>\n",
              "      <td>0.495954</td>\n",
              "      <td>0.722254</td>\n",
              "      <td>-5.720868</td>\n",
              "      <td>0.218885</td>\n",
              "      <td>2.361532</td>\n",
              "      <td>0.194052</td>\n",
              "    </tr>\n",
              "    <tr>\n",
              "      <th>75%</th>\n",
              "      <td>182.769000</td>\n",
              "      <td>224.205500</td>\n",
              "      <td>140.018500</td>\n",
              "      <td>0.007365</td>\n",
              "      <td>0.000060</td>\n",
              "      <td>0.003835</td>\n",
              "      <td>0.003955</td>\n",
              "      <td>0.011505</td>\n",
              "      <td>0.037885</td>\n",
              "      <td>0.350000</td>\n",
              "      <td>...</td>\n",
              "      <td>0.060795</td>\n",
              "      <td>0.025640</td>\n",
              "      <td>25.075500</td>\n",
              "      <td>1.000000</td>\n",
              "      <td>0.587562</td>\n",
              "      <td>0.761881</td>\n",
              "      <td>-5.046192</td>\n",
              "      <td>0.279234</td>\n",
              "      <td>2.636456</td>\n",
              "      <td>0.252980</td>\n",
              "    </tr>\n",
              "    <tr>\n",
              "      <th>max</th>\n",
              "      <td>260.105000</td>\n",
              "      <td>592.030000</td>\n",
              "      <td>239.170000</td>\n",
              "      <td>0.033160</td>\n",
              "      <td>0.000260</td>\n",
              "      <td>0.021440</td>\n",
              "      <td>0.019580</td>\n",
              "      <td>0.064330</td>\n",
              "      <td>0.119080</td>\n",
              "      <td>1.302000</td>\n",
              "      <td>...</td>\n",
              "      <td>0.169420</td>\n",
              "      <td>0.314820</td>\n",
              "      <td>33.047000</td>\n",
              "      <td>1.000000</td>\n",
              "      <td>0.685151</td>\n",
              "      <td>0.825288</td>\n",
              "      <td>-2.434031</td>\n",
              "      <td>0.450493</td>\n",
              "      <td>3.671155</td>\n",
              "      <td>0.527367</td>\n",
              "    </tr>\n",
              "  </tbody>\n",
              "</table>\n",
              "<p>8 rows × 23 columns</p>\n",
              "</div>\n",
              "      <button class=\"colab-df-convert\" onclick=\"convertToInteractive('df-c2fd5f4c-74bf-4d47-a2d9-f365a7ea22cf')\"\n",
              "              title=\"Convert this dataframe to an interactive table.\"\n",
              "              style=\"display:none;\">\n",
              "        \n",
              "  <svg xmlns=\"http://www.w3.org/2000/svg\" height=\"24px\"viewBox=\"0 0 24 24\"\n",
              "       width=\"24px\">\n",
              "    <path d=\"M0 0h24v24H0V0z\" fill=\"none\"/>\n",
              "    <path d=\"M18.56 5.44l.94 2.06.94-2.06 2.06-.94-2.06-.94-.94-2.06-.94 2.06-2.06.94zm-11 1L8.5 8.5l.94-2.06 2.06-.94-2.06-.94L8.5 2.5l-.94 2.06-2.06.94zm10 10l.94 2.06.94-2.06 2.06-.94-2.06-.94-.94-2.06-.94 2.06-2.06.94z\"/><path d=\"M17.41 7.96l-1.37-1.37c-.4-.4-.92-.59-1.43-.59-.52 0-1.04.2-1.43.59L10.3 9.45l-7.72 7.72c-.78.78-.78 2.05 0 2.83L4 21.41c.39.39.9.59 1.41.59.51 0 1.02-.2 1.41-.59l7.78-7.78 2.81-2.81c.8-.78.8-2.07 0-2.86zM5.41 20L4 18.59l7.72-7.72 1.47 1.35L5.41 20z\"/>\n",
              "  </svg>\n",
              "      </button>\n",
              "      \n",
              "  <style>\n",
              "    .colab-df-container {\n",
              "      display:flex;\n",
              "      flex-wrap:wrap;\n",
              "      gap: 12px;\n",
              "    }\n",
              "\n",
              "    .colab-df-convert {\n",
              "      background-color: #E8F0FE;\n",
              "      border: none;\n",
              "      border-radius: 50%;\n",
              "      cursor: pointer;\n",
              "      display: none;\n",
              "      fill: #1967D2;\n",
              "      height: 32px;\n",
              "      padding: 0 0 0 0;\n",
              "      width: 32px;\n",
              "    }\n",
              "\n",
              "    .colab-df-convert:hover {\n",
              "      background-color: #E2EBFA;\n",
              "      box-shadow: 0px 1px 2px rgba(60, 64, 67, 0.3), 0px 1px 3px 1px rgba(60, 64, 67, 0.15);\n",
              "      fill: #174EA6;\n",
              "    }\n",
              "\n",
              "    [theme=dark] .colab-df-convert {\n",
              "      background-color: #3B4455;\n",
              "      fill: #D2E3FC;\n",
              "    }\n",
              "\n",
              "    [theme=dark] .colab-df-convert:hover {\n",
              "      background-color: #434B5C;\n",
              "      box-shadow: 0px 1px 3px 1px rgba(0, 0, 0, 0.15);\n",
              "      filter: drop-shadow(0px 1px 2px rgba(0, 0, 0, 0.3));\n",
              "      fill: #FFFFFF;\n",
              "    }\n",
              "  </style>\n",
              "\n",
              "      <script>\n",
              "        const buttonEl =\n",
              "          document.querySelector('#df-c2fd5f4c-74bf-4d47-a2d9-f365a7ea22cf button.colab-df-convert');\n",
              "        buttonEl.style.display =\n",
              "          google.colab.kernel.accessAllowed ? 'block' : 'none';\n",
              "\n",
              "        async function convertToInteractive(key) {\n",
              "          const element = document.querySelector('#df-c2fd5f4c-74bf-4d47-a2d9-f365a7ea22cf');\n",
              "          const dataTable =\n",
              "            await google.colab.kernel.invokeFunction('convertToInteractive',\n",
              "                                                     [key], {});\n",
              "          if (!dataTable) return;\n",
              "\n",
              "          const docLinkHtml = 'Like what you see? Visit the ' +\n",
              "            '<a target=\"_blank\" href=https://colab.research.google.com/notebooks/data_table.ipynb>data table notebook</a>'\n",
              "            + ' to learn more about interactive tables.';\n",
              "          element.innerHTML = '';\n",
              "          dataTable['output_type'] = 'display_data';\n",
              "          await google.colab.output.renderOutput(dataTable, element);\n",
              "          const docLink = document.createElement('div');\n",
              "          docLink.innerHTML = docLinkHtml;\n",
              "          element.appendChild(docLink);\n",
              "        }\n",
              "      </script>\n",
              "    </div>\n",
              "  </div>\n",
              "  "
            ]
          },
          "metadata": {},
          "execution_count": 5
        }
      ]
    },
    {
      "cell_type": "code",
      "source": [
        "PD"
      ],
      "metadata": {
        "colab": {
          "base_uri": "https://localhost:8080/",
          "height": 487
        },
        "id": "jmGv5jo66VRH",
        "outputId": "b67e9f97-c3e8-4b34-f40e-1905adba1f31"
      },
      "execution_count": null,
      "outputs": [
        {
          "output_type": "execute_result",
          "data": {
            "text/plain": [
              "               name  MDVP:Fo(Hz)  MDVP:Fhi(Hz)  MDVP:Flo(Hz)  MDVP:Jitter(%)  \\\n",
              "0    phon_R01_S01_1      119.992       157.302        74.997         0.00784   \n",
              "1    phon_R01_S01_2      122.400       148.650       113.819         0.00968   \n",
              "2    phon_R01_S01_3      116.682       131.111       111.555         0.01050   \n",
              "3    phon_R01_S01_4      116.676       137.871       111.366         0.00997   \n",
              "4    phon_R01_S01_5      116.014       141.781       110.655         0.01284   \n",
              "..              ...          ...           ...           ...             ...   \n",
              "190  phon_R01_S50_2      174.188       230.978        94.261         0.00459   \n",
              "191  phon_R01_S50_3      209.516       253.017        89.488         0.00564   \n",
              "192  phon_R01_S50_4      174.688       240.005        74.287         0.01360   \n",
              "193  phon_R01_S50_5      198.764       396.961        74.904         0.00740   \n",
              "194  phon_R01_S50_6      214.289       260.277        77.973         0.00567   \n",
              "\n",
              "     MDVP:Jitter(Abs)  MDVP:RAP  MDVP:PPQ  Jitter:DDP  MDVP:Shimmer  ...  \\\n",
              "0             0.00007   0.00370   0.00554     0.01109       0.04374  ...   \n",
              "1             0.00008   0.00465   0.00696     0.01394       0.06134  ...   \n",
              "2             0.00009   0.00544   0.00781     0.01633       0.05233  ...   \n",
              "3             0.00009   0.00502   0.00698     0.01505       0.05492  ...   \n",
              "4             0.00011   0.00655   0.00908     0.01966       0.06425  ...   \n",
              "..                ...       ...       ...         ...           ...  ...   \n",
              "190           0.00003   0.00263   0.00259     0.00790       0.04087  ...   \n",
              "191           0.00003   0.00331   0.00292     0.00994       0.02751  ...   \n",
              "192           0.00008   0.00624   0.00564     0.01873       0.02308  ...   \n",
              "193           0.00004   0.00370   0.00390     0.01109       0.02296  ...   \n",
              "194           0.00003   0.00295   0.00317     0.00885       0.01884  ...   \n",
              "\n",
              "     Shimmer:DDA      NHR     HNR  status      RPDE       DFA   spread1  \\\n",
              "0        0.06545  0.02211  21.033       1  0.414783  0.815285 -4.813031   \n",
              "1        0.09403  0.01929  19.085       1  0.458359  0.819521 -4.075192   \n",
              "2        0.08270  0.01309  20.651       1  0.429895  0.825288 -4.443179   \n",
              "3        0.08771  0.01353  20.644       1  0.434969  0.819235 -4.117501   \n",
              "4        0.10470  0.01767  19.649       1  0.417356  0.823484 -3.747787   \n",
              "..           ...      ...     ...     ...       ...       ...       ...   \n",
              "190      0.07008  0.02764  19.517       0  0.448439  0.657899 -6.538586   \n",
              "191      0.04812  0.01810  19.147       0  0.431674  0.683244 -6.195325   \n",
              "192      0.03804  0.10715  17.883       0  0.407567  0.655683 -6.787197   \n",
              "193      0.03794  0.07223  19.020       0  0.451221  0.643956 -6.744577   \n",
              "194      0.03078  0.04398  21.209       0  0.462803  0.664357 -5.724056   \n",
              "\n",
              "      spread2        D2       PPE  \n",
              "0    0.266482  2.301442  0.284654  \n",
              "1    0.335590  2.486855  0.368674  \n",
              "2    0.311173  2.342259  0.332634  \n",
              "3    0.334147  2.405554  0.368975  \n",
              "4    0.234513  2.332180  0.410335  \n",
              "..        ...       ...       ...  \n",
              "190  0.121952  2.657476  0.133050  \n",
              "191  0.129303  2.784312  0.168895  \n",
              "192  0.158453  2.679772  0.131728  \n",
              "193  0.207454  2.138608  0.123306  \n",
              "194  0.190667  2.555477  0.148569  \n",
              "\n",
              "[195 rows x 24 columns]"
            ],
            "text/html": [
              "\n",
              "  <div id=\"df-4829f296-39d5-465e-8589-393bbe03b1c2\">\n",
              "    <div class=\"colab-df-container\">\n",
              "      <div>\n",
              "<style scoped>\n",
              "    .dataframe tbody tr th:only-of-type {\n",
              "        vertical-align: middle;\n",
              "    }\n",
              "\n",
              "    .dataframe tbody tr th {\n",
              "        vertical-align: top;\n",
              "    }\n",
              "\n",
              "    .dataframe thead th {\n",
              "        text-align: right;\n",
              "    }\n",
              "</style>\n",
              "<table border=\"1\" class=\"dataframe\">\n",
              "  <thead>\n",
              "    <tr style=\"text-align: right;\">\n",
              "      <th></th>\n",
              "      <th>name</th>\n",
              "      <th>MDVP:Fo(Hz)</th>\n",
              "      <th>MDVP:Fhi(Hz)</th>\n",
              "      <th>MDVP:Flo(Hz)</th>\n",
              "      <th>MDVP:Jitter(%)</th>\n",
              "      <th>MDVP:Jitter(Abs)</th>\n",
              "      <th>MDVP:RAP</th>\n",
              "      <th>MDVP:PPQ</th>\n",
              "      <th>Jitter:DDP</th>\n",
              "      <th>MDVP:Shimmer</th>\n",
              "      <th>...</th>\n",
              "      <th>Shimmer:DDA</th>\n",
              "      <th>NHR</th>\n",
              "      <th>HNR</th>\n",
              "      <th>status</th>\n",
              "      <th>RPDE</th>\n",
              "      <th>DFA</th>\n",
              "      <th>spread1</th>\n",
              "      <th>spread2</th>\n",
              "      <th>D2</th>\n",
              "      <th>PPE</th>\n",
              "    </tr>\n",
              "  </thead>\n",
              "  <tbody>\n",
              "    <tr>\n",
              "      <th>0</th>\n",
              "      <td>phon_R01_S01_1</td>\n",
              "      <td>119.992</td>\n",
              "      <td>157.302</td>\n",
              "      <td>74.997</td>\n",
              "      <td>0.00784</td>\n",
              "      <td>0.00007</td>\n",
              "      <td>0.00370</td>\n",
              "      <td>0.00554</td>\n",
              "      <td>0.01109</td>\n",
              "      <td>0.04374</td>\n",
              "      <td>...</td>\n",
              "      <td>0.06545</td>\n",
              "      <td>0.02211</td>\n",
              "      <td>21.033</td>\n",
              "      <td>1</td>\n",
              "      <td>0.414783</td>\n",
              "      <td>0.815285</td>\n",
              "      <td>-4.813031</td>\n",
              "      <td>0.266482</td>\n",
              "      <td>2.301442</td>\n",
              "      <td>0.284654</td>\n",
              "    </tr>\n",
              "    <tr>\n",
              "      <th>1</th>\n",
              "      <td>phon_R01_S01_2</td>\n",
              "      <td>122.400</td>\n",
              "      <td>148.650</td>\n",
              "      <td>113.819</td>\n",
              "      <td>0.00968</td>\n",
              "      <td>0.00008</td>\n",
              "      <td>0.00465</td>\n",
              "      <td>0.00696</td>\n",
              "      <td>0.01394</td>\n",
              "      <td>0.06134</td>\n",
              "      <td>...</td>\n",
              "      <td>0.09403</td>\n",
              "      <td>0.01929</td>\n",
              "      <td>19.085</td>\n",
              "      <td>1</td>\n",
              "      <td>0.458359</td>\n",
              "      <td>0.819521</td>\n",
              "      <td>-4.075192</td>\n",
              "      <td>0.335590</td>\n",
              "      <td>2.486855</td>\n",
              "      <td>0.368674</td>\n",
              "    </tr>\n",
              "    <tr>\n",
              "      <th>2</th>\n",
              "      <td>phon_R01_S01_3</td>\n",
              "      <td>116.682</td>\n",
              "      <td>131.111</td>\n",
              "      <td>111.555</td>\n",
              "      <td>0.01050</td>\n",
              "      <td>0.00009</td>\n",
              "      <td>0.00544</td>\n",
              "      <td>0.00781</td>\n",
              "      <td>0.01633</td>\n",
              "      <td>0.05233</td>\n",
              "      <td>...</td>\n",
              "      <td>0.08270</td>\n",
              "      <td>0.01309</td>\n",
              "      <td>20.651</td>\n",
              "      <td>1</td>\n",
              "      <td>0.429895</td>\n",
              "      <td>0.825288</td>\n",
              "      <td>-4.443179</td>\n",
              "      <td>0.311173</td>\n",
              "      <td>2.342259</td>\n",
              "      <td>0.332634</td>\n",
              "    </tr>\n",
              "    <tr>\n",
              "      <th>3</th>\n",
              "      <td>phon_R01_S01_4</td>\n",
              "      <td>116.676</td>\n",
              "      <td>137.871</td>\n",
              "      <td>111.366</td>\n",
              "      <td>0.00997</td>\n",
              "      <td>0.00009</td>\n",
              "      <td>0.00502</td>\n",
              "      <td>0.00698</td>\n",
              "      <td>0.01505</td>\n",
              "      <td>0.05492</td>\n",
              "      <td>...</td>\n",
              "      <td>0.08771</td>\n",
              "      <td>0.01353</td>\n",
              "      <td>20.644</td>\n",
              "      <td>1</td>\n",
              "      <td>0.434969</td>\n",
              "      <td>0.819235</td>\n",
              "      <td>-4.117501</td>\n",
              "      <td>0.334147</td>\n",
              "      <td>2.405554</td>\n",
              "      <td>0.368975</td>\n",
              "    </tr>\n",
              "    <tr>\n",
              "      <th>4</th>\n",
              "      <td>phon_R01_S01_5</td>\n",
              "      <td>116.014</td>\n",
              "      <td>141.781</td>\n",
              "      <td>110.655</td>\n",
              "      <td>0.01284</td>\n",
              "      <td>0.00011</td>\n",
              "      <td>0.00655</td>\n",
              "      <td>0.00908</td>\n",
              "      <td>0.01966</td>\n",
              "      <td>0.06425</td>\n",
              "      <td>...</td>\n",
              "      <td>0.10470</td>\n",
              "      <td>0.01767</td>\n",
              "      <td>19.649</td>\n",
              "      <td>1</td>\n",
              "      <td>0.417356</td>\n",
              "      <td>0.823484</td>\n",
              "      <td>-3.747787</td>\n",
              "      <td>0.234513</td>\n",
              "      <td>2.332180</td>\n",
              "      <td>0.410335</td>\n",
              "    </tr>\n",
              "    <tr>\n",
              "      <th>...</th>\n",
              "      <td>...</td>\n",
              "      <td>...</td>\n",
              "      <td>...</td>\n",
              "      <td>...</td>\n",
              "      <td>...</td>\n",
              "      <td>...</td>\n",
              "      <td>...</td>\n",
              "      <td>...</td>\n",
              "      <td>...</td>\n",
              "      <td>...</td>\n",
              "      <td>...</td>\n",
              "      <td>...</td>\n",
              "      <td>...</td>\n",
              "      <td>...</td>\n",
              "      <td>...</td>\n",
              "      <td>...</td>\n",
              "      <td>...</td>\n",
              "      <td>...</td>\n",
              "      <td>...</td>\n",
              "      <td>...</td>\n",
              "      <td>...</td>\n",
              "    </tr>\n",
              "    <tr>\n",
              "      <th>190</th>\n",
              "      <td>phon_R01_S50_2</td>\n",
              "      <td>174.188</td>\n",
              "      <td>230.978</td>\n",
              "      <td>94.261</td>\n",
              "      <td>0.00459</td>\n",
              "      <td>0.00003</td>\n",
              "      <td>0.00263</td>\n",
              "      <td>0.00259</td>\n",
              "      <td>0.00790</td>\n",
              "      <td>0.04087</td>\n",
              "      <td>...</td>\n",
              "      <td>0.07008</td>\n",
              "      <td>0.02764</td>\n",
              "      <td>19.517</td>\n",
              "      <td>0</td>\n",
              "      <td>0.448439</td>\n",
              "      <td>0.657899</td>\n",
              "      <td>-6.538586</td>\n",
              "      <td>0.121952</td>\n",
              "      <td>2.657476</td>\n",
              "      <td>0.133050</td>\n",
              "    </tr>\n",
              "    <tr>\n",
              "      <th>191</th>\n",
              "      <td>phon_R01_S50_3</td>\n",
              "      <td>209.516</td>\n",
              "      <td>253.017</td>\n",
              "      <td>89.488</td>\n",
              "      <td>0.00564</td>\n",
              "      <td>0.00003</td>\n",
              "      <td>0.00331</td>\n",
              "      <td>0.00292</td>\n",
              "      <td>0.00994</td>\n",
              "      <td>0.02751</td>\n",
              "      <td>...</td>\n",
              "      <td>0.04812</td>\n",
              "      <td>0.01810</td>\n",
              "      <td>19.147</td>\n",
              "      <td>0</td>\n",
              "      <td>0.431674</td>\n",
              "      <td>0.683244</td>\n",
              "      <td>-6.195325</td>\n",
              "      <td>0.129303</td>\n",
              "      <td>2.784312</td>\n",
              "      <td>0.168895</td>\n",
              "    </tr>\n",
              "    <tr>\n",
              "      <th>192</th>\n",
              "      <td>phon_R01_S50_4</td>\n",
              "      <td>174.688</td>\n",
              "      <td>240.005</td>\n",
              "      <td>74.287</td>\n",
              "      <td>0.01360</td>\n",
              "      <td>0.00008</td>\n",
              "      <td>0.00624</td>\n",
              "      <td>0.00564</td>\n",
              "      <td>0.01873</td>\n",
              "      <td>0.02308</td>\n",
              "      <td>...</td>\n",
              "      <td>0.03804</td>\n",
              "      <td>0.10715</td>\n",
              "      <td>17.883</td>\n",
              "      <td>0</td>\n",
              "      <td>0.407567</td>\n",
              "      <td>0.655683</td>\n",
              "      <td>-6.787197</td>\n",
              "      <td>0.158453</td>\n",
              "      <td>2.679772</td>\n",
              "      <td>0.131728</td>\n",
              "    </tr>\n",
              "    <tr>\n",
              "      <th>193</th>\n",
              "      <td>phon_R01_S50_5</td>\n",
              "      <td>198.764</td>\n",
              "      <td>396.961</td>\n",
              "      <td>74.904</td>\n",
              "      <td>0.00740</td>\n",
              "      <td>0.00004</td>\n",
              "      <td>0.00370</td>\n",
              "      <td>0.00390</td>\n",
              "      <td>0.01109</td>\n",
              "      <td>0.02296</td>\n",
              "      <td>...</td>\n",
              "      <td>0.03794</td>\n",
              "      <td>0.07223</td>\n",
              "      <td>19.020</td>\n",
              "      <td>0</td>\n",
              "      <td>0.451221</td>\n",
              "      <td>0.643956</td>\n",
              "      <td>-6.744577</td>\n",
              "      <td>0.207454</td>\n",
              "      <td>2.138608</td>\n",
              "      <td>0.123306</td>\n",
              "    </tr>\n",
              "    <tr>\n",
              "      <th>194</th>\n",
              "      <td>phon_R01_S50_6</td>\n",
              "      <td>214.289</td>\n",
              "      <td>260.277</td>\n",
              "      <td>77.973</td>\n",
              "      <td>0.00567</td>\n",
              "      <td>0.00003</td>\n",
              "      <td>0.00295</td>\n",
              "      <td>0.00317</td>\n",
              "      <td>0.00885</td>\n",
              "      <td>0.01884</td>\n",
              "      <td>...</td>\n",
              "      <td>0.03078</td>\n",
              "      <td>0.04398</td>\n",
              "      <td>21.209</td>\n",
              "      <td>0</td>\n",
              "      <td>0.462803</td>\n",
              "      <td>0.664357</td>\n",
              "      <td>-5.724056</td>\n",
              "      <td>0.190667</td>\n",
              "      <td>2.555477</td>\n",
              "      <td>0.148569</td>\n",
              "    </tr>\n",
              "  </tbody>\n",
              "</table>\n",
              "<p>195 rows × 24 columns</p>\n",
              "</div>\n",
              "      <button class=\"colab-df-convert\" onclick=\"convertToInteractive('df-4829f296-39d5-465e-8589-393bbe03b1c2')\"\n",
              "              title=\"Convert this dataframe to an interactive table.\"\n",
              "              style=\"display:none;\">\n",
              "        \n",
              "  <svg xmlns=\"http://www.w3.org/2000/svg\" height=\"24px\"viewBox=\"0 0 24 24\"\n",
              "       width=\"24px\">\n",
              "    <path d=\"M0 0h24v24H0V0z\" fill=\"none\"/>\n",
              "    <path d=\"M18.56 5.44l.94 2.06.94-2.06 2.06-.94-2.06-.94-.94-2.06-.94 2.06-2.06.94zm-11 1L8.5 8.5l.94-2.06 2.06-.94-2.06-.94L8.5 2.5l-.94 2.06-2.06.94zm10 10l.94 2.06.94-2.06 2.06-.94-2.06-.94-.94-2.06-.94 2.06-2.06.94z\"/><path d=\"M17.41 7.96l-1.37-1.37c-.4-.4-.92-.59-1.43-.59-.52 0-1.04.2-1.43.59L10.3 9.45l-7.72 7.72c-.78.78-.78 2.05 0 2.83L4 21.41c.39.39.9.59 1.41.59.51 0 1.02-.2 1.41-.59l7.78-7.78 2.81-2.81c.8-.78.8-2.07 0-2.86zM5.41 20L4 18.59l7.72-7.72 1.47 1.35L5.41 20z\"/>\n",
              "  </svg>\n",
              "      </button>\n",
              "      \n",
              "  <style>\n",
              "    .colab-df-container {\n",
              "      display:flex;\n",
              "      flex-wrap:wrap;\n",
              "      gap: 12px;\n",
              "    }\n",
              "\n",
              "    .colab-df-convert {\n",
              "      background-color: #E8F0FE;\n",
              "      border: none;\n",
              "      border-radius: 50%;\n",
              "      cursor: pointer;\n",
              "      display: none;\n",
              "      fill: #1967D2;\n",
              "      height: 32px;\n",
              "      padding: 0 0 0 0;\n",
              "      width: 32px;\n",
              "    }\n",
              "\n",
              "    .colab-df-convert:hover {\n",
              "      background-color: #E2EBFA;\n",
              "      box-shadow: 0px 1px 2px rgba(60, 64, 67, 0.3), 0px 1px 3px 1px rgba(60, 64, 67, 0.15);\n",
              "      fill: #174EA6;\n",
              "    }\n",
              "\n",
              "    [theme=dark] .colab-df-convert {\n",
              "      background-color: #3B4455;\n",
              "      fill: #D2E3FC;\n",
              "    }\n",
              "\n",
              "    [theme=dark] .colab-df-convert:hover {\n",
              "      background-color: #434B5C;\n",
              "      box-shadow: 0px 1px 3px 1px rgba(0, 0, 0, 0.15);\n",
              "      filter: drop-shadow(0px 1px 2px rgba(0, 0, 0, 0.3));\n",
              "      fill: #FFFFFF;\n",
              "    }\n",
              "  </style>\n",
              "\n",
              "      <script>\n",
              "        const buttonEl =\n",
              "          document.querySelector('#df-4829f296-39d5-465e-8589-393bbe03b1c2 button.colab-df-convert');\n",
              "        buttonEl.style.display =\n",
              "          google.colab.kernel.accessAllowed ? 'block' : 'none';\n",
              "\n",
              "        async function convertToInteractive(key) {\n",
              "          const element = document.querySelector('#df-4829f296-39d5-465e-8589-393bbe03b1c2');\n",
              "          const dataTable =\n",
              "            await google.colab.kernel.invokeFunction('convertToInteractive',\n",
              "                                                     [key], {});\n",
              "          if (!dataTable) return;\n",
              "\n",
              "          const docLinkHtml = 'Like what you see? Visit the ' +\n",
              "            '<a target=\"_blank\" href=https://colab.research.google.com/notebooks/data_table.ipynb>data table notebook</a>'\n",
              "            + ' to learn more about interactive tables.';\n",
              "          element.innerHTML = '';\n",
              "          dataTable['output_type'] = 'display_data';\n",
              "          await google.colab.output.renderOutput(dataTable, element);\n",
              "          const docLink = document.createElement('div');\n",
              "          docLink.innerHTML = docLinkHtml;\n",
              "          element.appendChild(docLink);\n",
              "        }\n",
              "      </script>\n",
              "    </div>\n",
              "  </div>\n",
              "  "
            ]
          },
          "metadata": {},
          "execution_count": 10
        }
      ]
    },
    {
      "cell_type": "code",
      "source": [
        "len(PD.name.unique())"
      ],
      "metadata": {
        "colab": {
          "base_uri": "https://localhost:8080/"
        },
        "id": "KQlsCR_g6aBn",
        "outputId": "55b9a1cd-63fd-47ec-bd3f-5b349ecb31f4"
      },
      "execution_count": null,
      "outputs": [
        {
          "output_type": "execute_result",
          "data": {
            "text/plain": [
              "195"
            ]
          },
          "metadata": {},
          "execution_count": 6
        }
      ]
    },
    {
      "cell_type": "code",
      "source": [
        "len(PD.status.unique())"
      ],
      "metadata": {
        "colab": {
          "base_uri": "https://localhost:8080/"
        },
        "id": "Vu0fNbTR6jR1",
        "outputId": "a6315d1d-7bad-4dfe-feba-26c8675dd02c"
      },
      "execution_count": null,
      "outputs": [
        {
          "output_type": "execute_result",
          "data": {
            "text/plain": [
              "2"
            ]
          },
          "metadata": {},
          "execution_count": 11
        }
      ]
    },
    {
      "cell_type": "code",
      "source": [
        "PD.isnull().sum()"
      ],
      "metadata": {
        "colab": {
          "base_uri": "https://localhost:8080/"
        },
        "id": "Mr7xtEAt-Z39",
        "outputId": "17c88351-8432-415d-a0de-8e7455f5dd9f"
      },
      "execution_count": null,
      "outputs": [
        {
          "output_type": "execute_result",
          "data": {
            "text/plain": [
              "name                0\n",
              "MDVP:Fo(Hz)         0\n",
              "MDVP:Fhi(Hz)        0\n",
              "MDVP:Flo(Hz)        0\n",
              "MDVP:Jitter(%)      0\n",
              "MDVP:Jitter(Abs)    0\n",
              "MDVP:RAP            0\n",
              "MDVP:PPQ            0\n",
              "Jitter:DDP          0\n",
              "MDVP:Shimmer        0\n",
              "MDVP:Shimmer(dB)    0\n",
              "Shimmer:APQ3        0\n",
              "Shimmer:APQ5        0\n",
              "MDVP:APQ            0\n",
              "Shimmer:DDA         0\n",
              "NHR                 0\n",
              "HNR                 0\n",
              "status              0\n",
              "RPDE                0\n",
              "DFA                 0\n",
              "spread1             0\n",
              "spread2             0\n",
              "D2                  0\n",
              "PPE                 0\n",
              "dtype: int64"
            ]
          },
          "metadata": {},
          "execution_count": 13
        }
      ]
    },
    {
      "cell_type": "code",
      "source": [
        "PD.columns"
      ],
      "metadata": {
        "colab": {
          "base_uri": "https://localhost:8080/"
        },
        "id": "YEE6sKui_4-6",
        "outputId": "4200cb32-0454-41db-e7bd-9f6eea5c45a7"
      },
      "execution_count": null,
      "outputs": [
        {
          "output_type": "execute_result",
          "data": {
            "text/plain": [
              "Index(['name', 'MDVP:Fo(Hz)', 'MDVP:Fhi(Hz)', 'MDVP:Flo(Hz)', 'MDVP:Jitter(%)',\n",
              "       'MDVP:Jitter(Abs)', 'MDVP:RAP', 'MDVP:PPQ', 'Jitter:DDP',\n",
              "       'MDVP:Shimmer', 'MDVP:Shimmer(dB)', 'Shimmer:APQ3', 'Shimmer:APQ5',\n",
              "       'MDVP:APQ', 'Shimmer:DDA', 'NHR', 'HNR', 'status', 'RPDE', 'DFA',\n",
              "       'spread1', 'spread2', 'D2', 'PPE'],\n",
              "      dtype='object')"
            ]
          },
          "metadata": {},
          "execution_count": 14
        }
      ]
    },
    {
      "cell_type": "code",
      "source": [
        "PD.shape"
      ],
      "metadata": {
        "colab": {
          "base_uri": "https://localhost:8080/"
        },
        "id": "wVTlQZ-RAJC0",
        "outputId": "2c9448ed-52dd-42e7-8549-9f60dc3f2ffd"
      },
      "execution_count": null,
      "outputs": [
        {
          "output_type": "execute_result",
          "data": {
            "text/plain": [
              "(195, 24)"
            ]
          },
          "metadata": {},
          "execution_count": 15
        }
      ]
    },
    {
      "cell_type": "code",
      "source": [
        "PD.groupby('status').mean()"
      ],
      "metadata": {
        "colab": {
          "base_uri": "https://localhost:8080/",
          "height": 273
        },
        "id": "mYgDNxUhBaml",
        "outputId": "e67e1ffd-2289-42bb-acf2-2bce5d2ecb72"
      },
      "execution_count": null,
      "outputs": [
        {
          "output_type": "stream",
          "name": "stderr",
          "text": [
            "<ipython-input-16-86971213754a>:1: FutureWarning: The default value of numeric_only in DataFrameGroupBy.mean is deprecated. In a future version, numeric_only will default to False. Either specify numeric_only or select only columns which should be valid for the function.\n",
            "  PD.groupby('status').mean()\n"
          ]
        },
        {
          "output_type": "execute_result",
          "data": {
            "text/plain": [
              "        MDVP:Fo(Hz)  MDVP:Fhi(Hz)  MDVP:Flo(Hz)  MDVP:Jitter(%)  \\\n",
              "status                                                            \n",
              "0        181.937771    223.636750    145.207292        0.003866   \n",
              "1        145.180762    188.441463    106.893558        0.006989   \n",
              "\n",
              "        MDVP:Jitter(Abs)  MDVP:RAP  MDVP:PPQ  Jitter:DDP  MDVP:Shimmer  \\\n",
              "status                                                                   \n",
              "0               0.000023  0.001925  0.002056    0.005776      0.017615   \n",
              "1               0.000051  0.003757  0.003900    0.011273      0.033658   \n",
              "\n",
              "        MDVP:Shimmer(dB)  ...  MDVP:APQ  Shimmer:DDA       NHR        HNR  \\\n",
              "status                    ...                                               \n",
              "0               0.162958  ...  0.013305     0.028511  0.011483  24.678750   \n",
              "1               0.321204  ...  0.027600     0.053027  0.029211  20.974048   \n",
              "\n",
              "            RPDE       DFA   spread1   spread2        D2       PPE  \n",
              "status                                                              \n",
              "0       0.442552  0.695716 -6.759264  0.160292  2.154491  0.123017  \n",
              "1       0.516816  0.725408 -5.333420  0.248133  2.456058  0.233828  \n",
              "\n",
              "[2 rows x 22 columns]"
            ],
            "text/html": [
              "\n",
              "  <div id=\"df-2fa82926-9e82-4c42-950d-8556e307e2d0\">\n",
              "    <div class=\"colab-df-container\">\n",
              "      <div>\n",
              "<style scoped>\n",
              "    .dataframe tbody tr th:only-of-type {\n",
              "        vertical-align: middle;\n",
              "    }\n",
              "\n",
              "    .dataframe tbody tr th {\n",
              "        vertical-align: top;\n",
              "    }\n",
              "\n",
              "    .dataframe thead th {\n",
              "        text-align: right;\n",
              "    }\n",
              "</style>\n",
              "<table border=\"1\" class=\"dataframe\">\n",
              "  <thead>\n",
              "    <tr style=\"text-align: right;\">\n",
              "      <th></th>\n",
              "      <th>MDVP:Fo(Hz)</th>\n",
              "      <th>MDVP:Fhi(Hz)</th>\n",
              "      <th>MDVP:Flo(Hz)</th>\n",
              "      <th>MDVP:Jitter(%)</th>\n",
              "      <th>MDVP:Jitter(Abs)</th>\n",
              "      <th>MDVP:RAP</th>\n",
              "      <th>MDVP:PPQ</th>\n",
              "      <th>Jitter:DDP</th>\n",
              "      <th>MDVP:Shimmer</th>\n",
              "      <th>MDVP:Shimmer(dB)</th>\n",
              "      <th>...</th>\n",
              "      <th>MDVP:APQ</th>\n",
              "      <th>Shimmer:DDA</th>\n",
              "      <th>NHR</th>\n",
              "      <th>HNR</th>\n",
              "      <th>RPDE</th>\n",
              "      <th>DFA</th>\n",
              "      <th>spread1</th>\n",
              "      <th>spread2</th>\n",
              "      <th>D2</th>\n",
              "      <th>PPE</th>\n",
              "    </tr>\n",
              "    <tr>\n",
              "      <th>status</th>\n",
              "      <th></th>\n",
              "      <th></th>\n",
              "      <th></th>\n",
              "      <th></th>\n",
              "      <th></th>\n",
              "      <th></th>\n",
              "      <th></th>\n",
              "      <th></th>\n",
              "      <th></th>\n",
              "      <th></th>\n",
              "      <th></th>\n",
              "      <th></th>\n",
              "      <th></th>\n",
              "      <th></th>\n",
              "      <th></th>\n",
              "      <th></th>\n",
              "      <th></th>\n",
              "      <th></th>\n",
              "      <th></th>\n",
              "      <th></th>\n",
              "      <th></th>\n",
              "    </tr>\n",
              "  </thead>\n",
              "  <tbody>\n",
              "    <tr>\n",
              "      <th>0</th>\n",
              "      <td>181.937771</td>\n",
              "      <td>223.636750</td>\n",
              "      <td>145.207292</td>\n",
              "      <td>0.003866</td>\n",
              "      <td>0.000023</td>\n",
              "      <td>0.001925</td>\n",
              "      <td>0.002056</td>\n",
              "      <td>0.005776</td>\n",
              "      <td>0.017615</td>\n",
              "      <td>0.162958</td>\n",
              "      <td>...</td>\n",
              "      <td>0.013305</td>\n",
              "      <td>0.028511</td>\n",
              "      <td>0.011483</td>\n",
              "      <td>24.678750</td>\n",
              "      <td>0.442552</td>\n",
              "      <td>0.695716</td>\n",
              "      <td>-6.759264</td>\n",
              "      <td>0.160292</td>\n",
              "      <td>2.154491</td>\n",
              "      <td>0.123017</td>\n",
              "    </tr>\n",
              "    <tr>\n",
              "      <th>1</th>\n",
              "      <td>145.180762</td>\n",
              "      <td>188.441463</td>\n",
              "      <td>106.893558</td>\n",
              "      <td>0.006989</td>\n",
              "      <td>0.000051</td>\n",
              "      <td>0.003757</td>\n",
              "      <td>0.003900</td>\n",
              "      <td>0.011273</td>\n",
              "      <td>0.033658</td>\n",
              "      <td>0.321204</td>\n",
              "      <td>...</td>\n",
              "      <td>0.027600</td>\n",
              "      <td>0.053027</td>\n",
              "      <td>0.029211</td>\n",
              "      <td>20.974048</td>\n",
              "      <td>0.516816</td>\n",
              "      <td>0.725408</td>\n",
              "      <td>-5.333420</td>\n",
              "      <td>0.248133</td>\n",
              "      <td>2.456058</td>\n",
              "      <td>0.233828</td>\n",
              "    </tr>\n",
              "  </tbody>\n",
              "</table>\n",
              "<p>2 rows × 22 columns</p>\n",
              "</div>\n",
              "      <button class=\"colab-df-convert\" onclick=\"convertToInteractive('df-2fa82926-9e82-4c42-950d-8556e307e2d0')\"\n",
              "              title=\"Convert this dataframe to an interactive table.\"\n",
              "              style=\"display:none;\">\n",
              "        \n",
              "  <svg xmlns=\"http://www.w3.org/2000/svg\" height=\"24px\"viewBox=\"0 0 24 24\"\n",
              "       width=\"24px\">\n",
              "    <path d=\"M0 0h24v24H0V0z\" fill=\"none\"/>\n",
              "    <path d=\"M18.56 5.44l.94 2.06.94-2.06 2.06-.94-2.06-.94-.94-2.06-.94 2.06-2.06.94zm-11 1L8.5 8.5l.94-2.06 2.06-.94-2.06-.94L8.5 2.5l-.94 2.06-2.06.94zm10 10l.94 2.06.94-2.06 2.06-.94-2.06-.94-.94-2.06-.94 2.06-2.06.94z\"/><path d=\"M17.41 7.96l-1.37-1.37c-.4-.4-.92-.59-1.43-.59-.52 0-1.04.2-1.43.59L10.3 9.45l-7.72 7.72c-.78.78-.78 2.05 0 2.83L4 21.41c.39.39.9.59 1.41.59.51 0 1.02-.2 1.41-.59l7.78-7.78 2.81-2.81c.8-.78.8-2.07 0-2.86zM5.41 20L4 18.59l7.72-7.72 1.47 1.35L5.41 20z\"/>\n",
              "  </svg>\n",
              "      </button>\n",
              "      \n",
              "  <style>\n",
              "    .colab-df-container {\n",
              "      display:flex;\n",
              "      flex-wrap:wrap;\n",
              "      gap: 12px;\n",
              "    }\n",
              "\n",
              "    .colab-df-convert {\n",
              "      background-color: #E8F0FE;\n",
              "      border: none;\n",
              "      border-radius: 50%;\n",
              "      cursor: pointer;\n",
              "      display: none;\n",
              "      fill: #1967D2;\n",
              "      height: 32px;\n",
              "      padding: 0 0 0 0;\n",
              "      width: 32px;\n",
              "    }\n",
              "\n",
              "    .colab-df-convert:hover {\n",
              "      background-color: #E2EBFA;\n",
              "      box-shadow: 0px 1px 2px rgba(60, 64, 67, 0.3), 0px 1px 3px 1px rgba(60, 64, 67, 0.15);\n",
              "      fill: #174EA6;\n",
              "    }\n",
              "\n",
              "    [theme=dark] .colab-df-convert {\n",
              "      background-color: #3B4455;\n",
              "      fill: #D2E3FC;\n",
              "    }\n",
              "\n",
              "    [theme=dark] .colab-df-convert:hover {\n",
              "      background-color: #434B5C;\n",
              "      box-shadow: 0px 1px 3px 1px rgba(0, 0, 0, 0.15);\n",
              "      filter: drop-shadow(0px 1px 2px rgba(0, 0, 0, 0.3));\n",
              "      fill: #FFFFFF;\n",
              "    }\n",
              "  </style>\n",
              "\n",
              "      <script>\n",
              "        const buttonEl =\n",
              "          document.querySelector('#df-2fa82926-9e82-4c42-950d-8556e307e2d0 button.colab-df-convert');\n",
              "        buttonEl.style.display =\n",
              "          google.colab.kernel.accessAllowed ? 'block' : 'none';\n",
              "\n",
              "        async function convertToInteractive(key) {\n",
              "          const element = document.querySelector('#df-2fa82926-9e82-4c42-950d-8556e307e2d0');\n",
              "          const dataTable =\n",
              "            await google.colab.kernel.invokeFunction('convertToInteractive',\n",
              "                                                     [key], {});\n",
              "          if (!dataTable) return;\n",
              "\n",
              "          const docLinkHtml = 'Like what you see? Visit the ' +\n",
              "            '<a target=\"_blank\" href=https://colab.research.google.com/notebooks/data_table.ipynb>data table notebook</a>'\n",
              "            + ' to learn more about interactive tables.';\n",
              "          element.innerHTML = '';\n",
              "          dataTable['output_type'] = 'display_data';\n",
              "          await google.colab.output.renderOutput(dataTable, element);\n",
              "          const docLink = document.createElement('div');\n",
              "          docLink.innerHTML = docLinkHtml;\n",
              "          element.appendChild(docLink);\n",
              "        }\n",
              "      </script>\n",
              "    </div>\n",
              "  </div>\n",
              "  "
            ]
          },
          "metadata": {},
          "execution_count": 16
        }
      ]
    },
    {
      "cell_type": "markdown",
      "source": [
        "SCALLING THE INPUTS"
      ],
      "metadata": {
        "id": "3rlzYM00DpAT"
      }
    },
    {
      "cell_type": "code",
      "source": [
        "X = PD.drop(columns=['name','status'], axis=1)\n"
      ],
      "metadata": {
        "id": "GMhHEyFfBpZm"
      },
      "execution_count": null,
      "outputs": []
    },
    {
      "cell_type": "code",
      "source": [
        "X"
      ],
      "metadata": {
        "colab": {
          "base_uri": "https://localhost:8080/",
          "height": 488
        },
        "id": "IWRyWxUPCWOu",
        "outputId": "fe583e91-9d1b-4e98-9fed-5abfb4b710ad"
      },
      "execution_count": null,
      "outputs": [
        {
          "output_type": "execute_result",
          "data": {
            "text/plain": [
              "     MDVP:Fo(Hz)  MDVP:Fhi(Hz)  MDVP:Flo(Hz)  MDVP:Jitter(%)  \\\n",
              "0        119.992       157.302        74.997         0.00784   \n",
              "1        122.400       148.650       113.819         0.00968   \n",
              "2        116.682       131.111       111.555         0.01050   \n",
              "3        116.676       137.871       111.366         0.00997   \n",
              "4        116.014       141.781       110.655         0.01284   \n",
              "..           ...           ...           ...             ...   \n",
              "190      174.188       230.978        94.261         0.00459   \n",
              "191      209.516       253.017        89.488         0.00564   \n",
              "192      174.688       240.005        74.287         0.01360   \n",
              "193      198.764       396.961        74.904         0.00740   \n",
              "194      214.289       260.277        77.973         0.00567   \n",
              "\n",
              "     MDVP:Jitter(Abs)  MDVP:RAP  MDVP:PPQ  Jitter:DDP  MDVP:Shimmer  \\\n",
              "0             0.00007   0.00370   0.00554     0.01109       0.04374   \n",
              "1             0.00008   0.00465   0.00696     0.01394       0.06134   \n",
              "2             0.00009   0.00544   0.00781     0.01633       0.05233   \n",
              "3             0.00009   0.00502   0.00698     0.01505       0.05492   \n",
              "4             0.00011   0.00655   0.00908     0.01966       0.06425   \n",
              "..                ...       ...       ...         ...           ...   \n",
              "190           0.00003   0.00263   0.00259     0.00790       0.04087   \n",
              "191           0.00003   0.00331   0.00292     0.00994       0.02751   \n",
              "192           0.00008   0.00624   0.00564     0.01873       0.02308   \n",
              "193           0.00004   0.00370   0.00390     0.01109       0.02296   \n",
              "194           0.00003   0.00295   0.00317     0.00885       0.01884   \n",
              "\n",
              "     MDVP:Shimmer(dB)  ...  MDVP:APQ  Shimmer:DDA      NHR     HNR      RPDE  \\\n",
              "0               0.426  ...   0.02971      0.06545  0.02211  21.033  0.414783   \n",
              "1               0.626  ...   0.04368      0.09403  0.01929  19.085  0.458359   \n",
              "2               0.482  ...   0.03590      0.08270  0.01309  20.651  0.429895   \n",
              "3               0.517  ...   0.03772      0.08771  0.01353  20.644  0.434969   \n",
              "4               0.584  ...   0.04465      0.10470  0.01767  19.649  0.417356   \n",
              "..                ...  ...       ...          ...      ...     ...       ...   \n",
              "190             0.405  ...   0.02745      0.07008  0.02764  19.517  0.448439   \n",
              "191             0.263  ...   0.01879      0.04812  0.01810  19.147  0.431674   \n",
              "192             0.256  ...   0.01667      0.03804  0.10715  17.883  0.407567   \n",
              "193             0.241  ...   0.01588      0.03794  0.07223  19.020  0.451221   \n",
              "194             0.190  ...   0.01373      0.03078  0.04398  21.209  0.462803   \n",
              "\n",
              "          DFA   spread1   spread2        D2       PPE  \n",
              "0    0.815285 -4.813031  0.266482  2.301442  0.284654  \n",
              "1    0.819521 -4.075192  0.335590  2.486855  0.368674  \n",
              "2    0.825288 -4.443179  0.311173  2.342259  0.332634  \n",
              "3    0.819235 -4.117501  0.334147  2.405554  0.368975  \n",
              "4    0.823484 -3.747787  0.234513  2.332180  0.410335  \n",
              "..        ...       ...       ...       ...       ...  \n",
              "190  0.657899 -6.538586  0.121952  2.657476  0.133050  \n",
              "191  0.683244 -6.195325  0.129303  2.784312  0.168895  \n",
              "192  0.655683 -6.787197  0.158453  2.679772  0.131728  \n",
              "193  0.643956 -6.744577  0.207454  2.138608  0.123306  \n",
              "194  0.664357 -5.724056  0.190667  2.555477  0.148569  \n",
              "\n",
              "[195 rows x 22 columns]"
            ],
            "text/html": [
              "\n",
              "  <div id=\"df-d9765827-cb14-4659-b95d-9696ac9049c0\">\n",
              "    <div class=\"colab-df-container\">\n",
              "      <div>\n",
              "<style scoped>\n",
              "    .dataframe tbody tr th:only-of-type {\n",
              "        vertical-align: middle;\n",
              "    }\n",
              "\n",
              "    .dataframe tbody tr th {\n",
              "        vertical-align: top;\n",
              "    }\n",
              "\n",
              "    .dataframe thead th {\n",
              "        text-align: right;\n",
              "    }\n",
              "</style>\n",
              "<table border=\"1\" class=\"dataframe\">\n",
              "  <thead>\n",
              "    <tr style=\"text-align: right;\">\n",
              "      <th></th>\n",
              "      <th>MDVP:Fo(Hz)</th>\n",
              "      <th>MDVP:Fhi(Hz)</th>\n",
              "      <th>MDVP:Flo(Hz)</th>\n",
              "      <th>MDVP:Jitter(%)</th>\n",
              "      <th>MDVP:Jitter(Abs)</th>\n",
              "      <th>MDVP:RAP</th>\n",
              "      <th>MDVP:PPQ</th>\n",
              "      <th>Jitter:DDP</th>\n",
              "      <th>MDVP:Shimmer</th>\n",
              "      <th>MDVP:Shimmer(dB)</th>\n",
              "      <th>...</th>\n",
              "      <th>MDVP:APQ</th>\n",
              "      <th>Shimmer:DDA</th>\n",
              "      <th>NHR</th>\n",
              "      <th>HNR</th>\n",
              "      <th>RPDE</th>\n",
              "      <th>DFA</th>\n",
              "      <th>spread1</th>\n",
              "      <th>spread2</th>\n",
              "      <th>D2</th>\n",
              "      <th>PPE</th>\n",
              "    </tr>\n",
              "  </thead>\n",
              "  <tbody>\n",
              "    <tr>\n",
              "      <th>0</th>\n",
              "      <td>119.992</td>\n",
              "      <td>157.302</td>\n",
              "      <td>74.997</td>\n",
              "      <td>0.00784</td>\n",
              "      <td>0.00007</td>\n",
              "      <td>0.00370</td>\n",
              "      <td>0.00554</td>\n",
              "      <td>0.01109</td>\n",
              "      <td>0.04374</td>\n",
              "      <td>0.426</td>\n",
              "      <td>...</td>\n",
              "      <td>0.02971</td>\n",
              "      <td>0.06545</td>\n",
              "      <td>0.02211</td>\n",
              "      <td>21.033</td>\n",
              "      <td>0.414783</td>\n",
              "      <td>0.815285</td>\n",
              "      <td>-4.813031</td>\n",
              "      <td>0.266482</td>\n",
              "      <td>2.301442</td>\n",
              "      <td>0.284654</td>\n",
              "    </tr>\n",
              "    <tr>\n",
              "      <th>1</th>\n",
              "      <td>122.400</td>\n",
              "      <td>148.650</td>\n",
              "      <td>113.819</td>\n",
              "      <td>0.00968</td>\n",
              "      <td>0.00008</td>\n",
              "      <td>0.00465</td>\n",
              "      <td>0.00696</td>\n",
              "      <td>0.01394</td>\n",
              "      <td>0.06134</td>\n",
              "      <td>0.626</td>\n",
              "      <td>...</td>\n",
              "      <td>0.04368</td>\n",
              "      <td>0.09403</td>\n",
              "      <td>0.01929</td>\n",
              "      <td>19.085</td>\n",
              "      <td>0.458359</td>\n",
              "      <td>0.819521</td>\n",
              "      <td>-4.075192</td>\n",
              "      <td>0.335590</td>\n",
              "      <td>2.486855</td>\n",
              "      <td>0.368674</td>\n",
              "    </tr>\n",
              "    <tr>\n",
              "      <th>2</th>\n",
              "      <td>116.682</td>\n",
              "      <td>131.111</td>\n",
              "      <td>111.555</td>\n",
              "      <td>0.01050</td>\n",
              "      <td>0.00009</td>\n",
              "      <td>0.00544</td>\n",
              "      <td>0.00781</td>\n",
              "      <td>0.01633</td>\n",
              "      <td>0.05233</td>\n",
              "      <td>0.482</td>\n",
              "      <td>...</td>\n",
              "      <td>0.03590</td>\n",
              "      <td>0.08270</td>\n",
              "      <td>0.01309</td>\n",
              "      <td>20.651</td>\n",
              "      <td>0.429895</td>\n",
              "      <td>0.825288</td>\n",
              "      <td>-4.443179</td>\n",
              "      <td>0.311173</td>\n",
              "      <td>2.342259</td>\n",
              "      <td>0.332634</td>\n",
              "    </tr>\n",
              "    <tr>\n",
              "      <th>3</th>\n",
              "      <td>116.676</td>\n",
              "      <td>137.871</td>\n",
              "      <td>111.366</td>\n",
              "      <td>0.00997</td>\n",
              "      <td>0.00009</td>\n",
              "      <td>0.00502</td>\n",
              "      <td>0.00698</td>\n",
              "      <td>0.01505</td>\n",
              "      <td>0.05492</td>\n",
              "      <td>0.517</td>\n",
              "      <td>...</td>\n",
              "      <td>0.03772</td>\n",
              "      <td>0.08771</td>\n",
              "      <td>0.01353</td>\n",
              "      <td>20.644</td>\n",
              "      <td>0.434969</td>\n",
              "      <td>0.819235</td>\n",
              "      <td>-4.117501</td>\n",
              "      <td>0.334147</td>\n",
              "      <td>2.405554</td>\n",
              "      <td>0.368975</td>\n",
              "    </tr>\n",
              "    <tr>\n",
              "      <th>4</th>\n",
              "      <td>116.014</td>\n",
              "      <td>141.781</td>\n",
              "      <td>110.655</td>\n",
              "      <td>0.01284</td>\n",
              "      <td>0.00011</td>\n",
              "      <td>0.00655</td>\n",
              "      <td>0.00908</td>\n",
              "      <td>0.01966</td>\n",
              "      <td>0.06425</td>\n",
              "      <td>0.584</td>\n",
              "      <td>...</td>\n",
              "      <td>0.04465</td>\n",
              "      <td>0.10470</td>\n",
              "      <td>0.01767</td>\n",
              "      <td>19.649</td>\n",
              "      <td>0.417356</td>\n",
              "      <td>0.823484</td>\n",
              "      <td>-3.747787</td>\n",
              "      <td>0.234513</td>\n",
              "      <td>2.332180</td>\n",
              "      <td>0.410335</td>\n",
              "    </tr>\n",
              "    <tr>\n",
              "      <th>...</th>\n",
              "      <td>...</td>\n",
              "      <td>...</td>\n",
              "      <td>...</td>\n",
              "      <td>...</td>\n",
              "      <td>...</td>\n",
              "      <td>...</td>\n",
              "      <td>...</td>\n",
              "      <td>...</td>\n",
              "      <td>...</td>\n",
              "      <td>...</td>\n",
              "      <td>...</td>\n",
              "      <td>...</td>\n",
              "      <td>...</td>\n",
              "      <td>...</td>\n",
              "      <td>...</td>\n",
              "      <td>...</td>\n",
              "      <td>...</td>\n",
              "      <td>...</td>\n",
              "      <td>...</td>\n",
              "      <td>...</td>\n",
              "      <td>...</td>\n",
              "    </tr>\n",
              "    <tr>\n",
              "      <th>190</th>\n",
              "      <td>174.188</td>\n",
              "      <td>230.978</td>\n",
              "      <td>94.261</td>\n",
              "      <td>0.00459</td>\n",
              "      <td>0.00003</td>\n",
              "      <td>0.00263</td>\n",
              "      <td>0.00259</td>\n",
              "      <td>0.00790</td>\n",
              "      <td>0.04087</td>\n",
              "      <td>0.405</td>\n",
              "      <td>...</td>\n",
              "      <td>0.02745</td>\n",
              "      <td>0.07008</td>\n",
              "      <td>0.02764</td>\n",
              "      <td>19.517</td>\n",
              "      <td>0.448439</td>\n",
              "      <td>0.657899</td>\n",
              "      <td>-6.538586</td>\n",
              "      <td>0.121952</td>\n",
              "      <td>2.657476</td>\n",
              "      <td>0.133050</td>\n",
              "    </tr>\n",
              "    <tr>\n",
              "      <th>191</th>\n",
              "      <td>209.516</td>\n",
              "      <td>253.017</td>\n",
              "      <td>89.488</td>\n",
              "      <td>0.00564</td>\n",
              "      <td>0.00003</td>\n",
              "      <td>0.00331</td>\n",
              "      <td>0.00292</td>\n",
              "      <td>0.00994</td>\n",
              "      <td>0.02751</td>\n",
              "      <td>0.263</td>\n",
              "      <td>...</td>\n",
              "      <td>0.01879</td>\n",
              "      <td>0.04812</td>\n",
              "      <td>0.01810</td>\n",
              "      <td>19.147</td>\n",
              "      <td>0.431674</td>\n",
              "      <td>0.683244</td>\n",
              "      <td>-6.195325</td>\n",
              "      <td>0.129303</td>\n",
              "      <td>2.784312</td>\n",
              "      <td>0.168895</td>\n",
              "    </tr>\n",
              "    <tr>\n",
              "      <th>192</th>\n",
              "      <td>174.688</td>\n",
              "      <td>240.005</td>\n",
              "      <td>74.287</td>\n",
              "      <td>0.01360</td>\n",
              "      <td>0.00008</td>\n",
              "      <td>0.00624</td>\n",
              "      <td>0.00564</td>\n",
              "      <td>0.01873</td>\n",
              "      <td>0.02308</td>\n",
              "      <td>0.256</td>\n",
              "      <td>...</td>\n",
              "      <td>0.01667</td>\n",
              "      <td>0.03804</td>\n",
              "      <td>0.10715</td>\n",
              "      <td>17.883</td>\n",
              "      <td>0.407567</td>\n",
              "      <td>0.655683</td>\n",
              "      <td>-6.787197</td>\n",
              "      <td>0.158453</td>\n",
              "      <td>2.679772</td>\n",
              "      <td>0.131728</td>\n",
              "    </tr>\n",
              "    <tr>\n",
              "      <th>193</th>\n",
              "      <td>198.764</td>\n",
              "      <td>396.961</td>\n",
              "      <td>74.904</td>\n",
              "      <td>0.00740</td>\n",
              "      <td>0.00004</td>\n",
              "      <td>0.00370</td>\n",
              "      <td>0.00390</td>\n",
              "      <td>0.01109</td>\n",
              "      <td>0.02296</td>\n",
              "      <td>0.241</td>\n",
              "      <td>...</td>\n",
              "      <td>0.01588</td>\n",
              "      <td>0.03794</td>\n",
              "      <td>0.07223</td>\n",
              "      <td>19.020</td>\n",
              "      <td>0.451221</td>\n",
              "      <td>0.643956</td>\n",
              "      <td>-6.744577</td>\n",
              "      <td>0.207454</td>\n",
              "      <td>2.138608</td>\n",
              "      <td>0.123306</td>\n",
              "    </tr>\n",
              "    <tr>\n",
              "      <th>194</th>\n",
              "      <td>214.289</td>\n",
              "      <td>260.277</td>\n",
              "      <td>77.973</td>\n",
              "      <td>0.00567</td>\n",
              "      <td>0.00003</td>\n",
              "      <td>0.00295</td>\n",
              "      <td>0.00317</td>\n",
              "      <td>0.00885</td>\n",
              "      <td>0.01884</td>\n",
              "      <td>0.190</td>\n",
              "      <td>...</td>\n",
              "      <td>0.01373</td>\n",
              "      <td>0.03078</td>\n",
              "      <td>0.04398</td>\n",
              "      <td>21.209</td>\n",
              "      <td>0.462803</td>\n",
              "      <td>0.664357</td>\n",
              "      <td>-5.724056</td>\n",
              "      <td>0.190667</td>\n",
              "      <td>2.555477</td>\n",
              "      <td>0.148569</td>\n",
              "    </tr>\n",
              "  </tbody>\n",
              "</table>\n",
              "<p>195 rows × 22 columns</p>\n",
              "</div>\n",
              "      <button class=\"colab-df-convert\" onclick=\"convertToInteractive('df-d9765827-cb14-4659-b95d-9696ac9049c0')\"\n",
              "              title=\"Convert this dataframe to an interactive table.\"\n",
              "              style=\"display:none;\">\n",
              "        \n",
              "  <svg xmlns=\"http://www.w3.org/2000/svg\" height=\"24px\"viewBox=\"0 0 24 24\"\n",
              "       width=\"24px\">\n",
              "    <path d=\"M0 0h24v24H0V0z\" fill=\"none\"/>\n",
              "    <path d=\"M18.56 5.44l.94 2.06.94-2.06 2.06-.94-2.06-.94-.94-2.06-.94 2.06-2.06.94zm-11 1L8.5 8.5l.94-2.06 2.06-.94-2.06-.94L8.5 2.5l-.94 2.06-2.06.94zm10 10l.94 2.06.94-2.06 2.06-.94-2.06-.94-.94-2.06-.94 2.06-2.06.94z\"/><path d=\"M17.41 7.96l-1.37-1.37c-.4-.4-.92-.59-1.43-.59-.52 0-1.04.2-1.43.59L10.3 9.45l-7.72 7.72c-.78.78-.78 2.05 0 2.83L4 21.41c.39.39.9.59 1.41.59.51 0 1.02-.2 1.41-.59l7.78-7.78 2.81-2.81c.8-.78.8-2.07 0-2.86zM5.41 20L4 18.59l7.72-7.72 1.47 1.35L5.41 20z\"/>\n",
              "  </svg>\n",
              "      </button>\n",
              "      \n",
              "  <style>\n",
              "    .colab-df-container {\n",
              "      display:flex;\n",
              "      flex-wrap:wrap;\n",
              "      gap: 12px;\n",
              "    }\n",
              "\n",
              "    .colab-df-convert {\n",
              "      background-color: #E8F0FE;\n",
              "      border: none;\n",
              "      border-radius: 50%;\n",
              "      cursor: pointer;\n",
              "      display: none;\n",
              "      fill: #1967D2;\n",
              "      height: 32px;\n",
              "      padding: 0 0 0 0;\n",
              "      width: 32px;\n",
              "    }\n",
              "\n",
              "    .colab-df-convert:hover {\n",
              "      background-color: #E2EBFA;\n",
              "      box-shadow: 0px 1px 2px rgba(60, 64, 67, 0.3), 0px 1px 3px 1px rgba(60, 64, 67, 0.15);\n",
              "      fill: #174EA6;\n",
              "    }\n",
              "\n",
              "    [theme=dark] .colab-df-convert {\n",
              "      background-color: #3B4455;\n",
              "      fill: #D2E3FC;\n",
              "    }\n",
              "\n",
              "    [theme=dark] .colab-df-convert:hover {\n",
              "      background-color: #434B5C;\n",
              "      box-shadow: 0px 1px 3px 1px rgba(0, 0, 0, 0.15);\n",
              "      filter: drop-shadow(0px 1px 2px rgba(0, 0, 0, 0.3));\n",
              "      fill: #FFFFFF;\n",
              "    }\n",
              "  </style>\n",
              "\n",
              "      <script>\n",
              "        const buttonEl =\n",
              "          document.querySelector('#df-d9765827-cb14-4659-b95d-9696ac9049c0 button.colab-df-convert');\n",
              "        buttonEl.style.display =\n",
              "          google.colab.kernel.accessAllowed ? 'block' : 'none';\n",
              "\n",
              "        async function convertToInteractive(key) {\n",
              "          const element = document.querySelector('#df-d9765827-cb14-4659-b95d-9696ac9049c0');\n",
              "          const dataTable =\n",
              "            await google.colab.kernel.invokeFunction('convertToInteractive',\n",
              "                                                     [key], {});\n",
              "          if (!dataTable) return;\n",
              "\n",
              "          const docLinkHtml = 'Like what you see? Visit the ' +\n",
              "            '<a target=\"_blank\" href=https://colab.research.google.com/notebooks/data_table.ipynb>data table notebook</a>'\n",
              "            + ' to learn more about interactive tables.';\n",
              "          element.innerHTML = '';\n",
              "          dataTable['output_type'] = 'display_data';\n",
              "          await google.colab.output.renderOutput(dataTable, element);\n",
              "          const docLink = document.createElement('div');\n",
              "          docLink.innerHTML = docLinkHtml;\n",
              "          element.appendChild(docLink);\n",
              "        }\n",
              "      </script>\n",
              "    </div>\n",
              "  </div>\n",
              "  "
            ]
          },
          "metadata": {},
          "execution_count": 5
        }
      ]
    },
    {
      "cell_type": "code",
      "source": [
        "Y=PD['status']"
      ],
      "metadata": {
        "id": "IT_m3UyTDF50"
      },
      "execution_count": null,
      "outputs": []
    },
    {
      "cell_type": "code",
      "source": [
        "Y"
      ],
      "metadata": {
        "colab": {
          "base_uri": "https://localhost:8080/"
        },
        "id": "b725noTGDN-9",
        "outputId": "943277fa-b03c-45ff-c33f-3043dab5b223"
      },
      "execution_count": null,
      "outputs": [
        {
          "output_type": "execute_result",
          "data": {
            "text/plain": [
              "0      1\n",
              "1      1\n",
              "2      1\n",
              "3      1\n",
              "4      1\n",
              "      ..\n",
              "190    0\n",
              "191    0\n",
              "192    0\n",
              "193    0\n",
              "194    0\n",
              "Name: status, Length: 195, dtype: int64"
            ]
          },
          "metadata": {},
          "execution_count": 21
        }
      ]
    },
    {
      "cell_type": "markdown",
      "source": [
        "viualization"
      ],
      "metadata": {
        "id": "2rgYf-v5Eklo"
      }
    },
    {
      "cell_type": "code",
      "source": [
        "import pandas as pd\n",
        "import numpy as np\n",
        "import seaborn as sns\n",
        "import matplotlib.pyplot as plt\n",
        "from sklearn import metrics"
      ],
      "metadata": {
        "id": "-7Wl5P8N-Pw3"
      },
      "execution_count": null,
      "outputs": []
    },
    {
      "cell_type": "code",
      "source": [
        "plt.figure(figsize=(6,4))\n",
        "PD.status.hist()\n",
        "plt.xlabel('status')\n",
        "plt.ylabel('Frequencies')\n",
        "plt.plot()"
      ],
      "metadata": {
        "colab": {
          "base_uri": "https://localhost:8080/",
          "height": 406
        },
        "id": "4_IodRug9uqB",
        "outputId": "4e94f030-eaaa-4b6a-d098-9beb7943bd05"
      },
      "execution_count": null,
      "outputs": [
        {
          "output_type": "execute_result",
          "data": {
            "text/plain": [
              "[]"
            ]
          },
          "metadata": {},
          "execution_count": 23
        },
        {
          "output_type": "display_data",
          "data": {
            "text/plain": [
              "<Figure size 600x400 with 1 Axes>"
            ],
            "image/png": "[encoded data removed]"
          },
          "metadata": {}
        }
      ]
    },
    {
      "cell_type": "code",
      "source": [
        "plt.figure(figsize=(4,2))\n",
        "sns.barplot(x='status',y='NHR',data=PD)"
      ],
      "metadata": {
        "colab": {
          "base_uri": "https://localhost:8080/",
          "height": 252
        },
        "id": "peQV6q4b9t0S",
        "outputId": "79584f06-aae9-461a-f561-0462bc49e2f3"
      },
      "execution_count": null,
      "outputs": [
        {
          "output_type": "execute_result",
          "data": {
            "text/plain": [
              "<Axes: xlabel='status', ylabel='NHR'>"
            ]
          },
          "metadata": {},
          "execution_count": 25
        },
        {
          "output_type": "display_data",
          "data": {
            "text/plain": [
              "<Figure size 400x200 with 1 Axes>"
            ],
            "image/png": "[encoded data removed]"
          },
          "metadata": {}
        }
      ]
    },
    {
      "cell_type": "code",
      "source": [
        "plt.figure(figsize=(4,2))\n",
        "sns.barplot(x='status',y='HNR',data=PD)"
      ],
      "metadata": {
        "colab": {
          "base_uri": "https://localhost:8080/",
          "height": 252
        },
        "outputId": "5df9868d-1b6a-4eeb-ff92-9aee36926499",
        "id": "ZR9QJ3cYGSkw"
      },
      "execution_count": null,
      "outputs": [
        {
          "output_type": "execute_result",
          "data": {
            "text/plain": [
              "<Axes: xlabel='status', ylabel='HNR'>"
            ]
          },
          "metadata": {},
          "execution_count": 28
        },
        {
          "output_type": "display_data",
          "data": {
            "text/plain": [
              "<Figure size 400x200 with 1 Axes>"
            ],
            "image/png": "[encoded data removed]"
          },
          "metadata": {}
        }
      ]
    },
    {
      "cell_type": "code",
      "source": [
        "plt.figure(figsize=(4,2))\n",
        "sns.barplot(x='status',y='MDVP:Shimmer(dB)',data=PD)"
      ],
      "metadata": {
        "colab": {
          "base_uri": "https://localhost:8080/",
          "height": 252
        },
        "outputId": "7be920a0-0af0-446a-9517-8248ace7dd5e",
        "id": "4OHV4NeRpd5G"
      },
      "execution_count": null,
      "outputs": [
        {
          "output_type": "execute_result",
          "data": {
            "text/plain": [
              "<Axes: xlabel='status', ylabel='MDVP:Shimmer(dB)'>"
            ]
          },
          "metadata": {},
          "execution_count": 32
        },
        {
          "output_type": "display_data",
          "data": {
            "text/plain": [
              "<Figure size 400x200 with 1 Axes>"
            ],
            "image/png": "[encoded data removed]"
          },
          "metadata": {}
        }
      ]
    },
    {
      "cell_type": "code",
      "source": [
        "plt.figure(figsize=(4,2))\n",
        "sns.barplot(x='status',y='MDVP:Jitter(%)',data=PD)"
      ],
      "metadata": {
        "colab": {
          "base_uri": "https://localhost:8080/",
          "height": 254
        },
        "outputId": "e39583c2-e2e6-450f-afa8-7e1bf0c6dff9",
        "id": "tRmgHcYKqFQw"
      },
      "execution_count": null,
      "outputs": [
        {
          "output_type": "execute_result",
          "data": {
            "text/plain": [
              "<Axes: xlabel='status', ylabel='MDVP:Jitter(%)'>"
            ]
          },
          "metadata": {},
          "execution_count": 34
        },
        {
          "output_type": "display_data",
          "data": {
            "text/plain": [
              "<Figure size 400x200 with 1 Axes>"
            ],
            "image/png": "[encoded data removed]"
          },
          "metadata": {}
        }
      ]
    },
    {
      "cell_type": "code",
      "source": [
        "plt.figure(figsize=(4,2))\n",
        "sns.barplot(x='status',y='PPE',data=PD)"
      ],
      "metadata": {
        "colab": {
          "base_uri": "https://localhost:8080/",
          "height": 252
        },
        "outputId": "7be920a0-0af0-446a-9517-8248ace7dd5e",
        "id": "pOkeqjSwqMpT"
      },
      "execution_count": null,
      "outputs": [
        {
          "output_type": "execute_result",
          "data": {
            "text/plain": [
              "<Axes: xlabel='status', ylabel='MDVP:Shimmer(dB)'>"
            ]
          },
          "metadata": {},
          "execution_count": 32
        },
        {
          "output_type": "display_data",
          "data": {
            "text/plain": [
              "<Figure size 400x200 with 1 Axes>"
            ],
            "image/png": "[encoded data removed]"
          },
          "metadata": {}
        }
      ]
    },
    {
      "cell_type": "code",
      "source": [
        "from sklearn.preprocessing import StandardScaler"
      ],
      "metadata": {
        "id": "QyJDEM1xDZff"
      },
      "execution_count": null,
      "outputs": []
    },
    {
      "cell_type": "code",
      "source": [
        "SC=StandardScaler()\n",
        "X=np.array(SC.fit_transform(X))"
      ],
      "metadata": {
        "id": "PsZ1oH93EdIN"
      },
      "execution_count": null,
      "outputs": []
    },
    {
      "cell_type": "code",
      "source": [
        "X"
      ],
      "metadata": {
        "colab": {
          "base_uri": "https://localhost:8080/"
        },
        "id": "0qsobZiwGJk5",
        "outputId": "9514f89f-d826-4e86-bfcc-b63ca42cda5e"
      },
      "execution_count": null,
      "outputs": [
        {
          "output_type": "execute_result",
          "data": {
            "text/plain": [
              "array([[-0.82929965, -0.43616456, -0.95203729, ...,  0.48047686,\n",
              "        -0.21053082,  0.86888575],\n",
              "       [-0.77097169, -0.53097409, -0.05772056, ...,  1.31118546,\n",
              "         0.27507712,  1.80360503],\n",
              "       [-0.90947638, -0.7231683 , -0.10987483, ...,  1.01768236,\n",
              "        -0.10362861,  1.40266141],\n",
              "       ...,\n",
              "       [ 0.49557839,  0.47010361, -0.96839309, ..., -0.81807931,\n",
              "         0.78033848, -0.83241014],\n",
              "       [ 1.07876114,  2.19004398, -0.95417967, ..., -0.22906571,\n",
              "        -0.63700298, -0.92610456],\n",
              "       [ 1.45481664,  0.69224632, -0.88348115, ..., -0.43085284,\n",
              "         0.45480231, -0.64505466]])"
            ]
          },
          "metadata": {},
          "execution_count": 10
        }
      ]
    },
    {
      "cell_type": "markdown",
      "source": [
        "TRAIN-TEST SPLIT"
      ],
      "metadata": {
        "id": "ezcTlL-uGe-2"
      }
    },
    {
      "cell_type": "code",
      "source": [
        "from sklearn.model_selection import train_test_split"
      ],
      "metadata": {
        "id": "WsfcTXn-G3t_"
      },
      "execution_count": null,
      "outputs": []
    },
    {
      "cell_type": "code",
      "source": [
        "X_train, X_test, Y_train, Y_test = train_test_split(X, Y, test_size=0.2, random_state=10)"
      ],
      "metadata": {
        "id": "-gH6PbmoHMzs"
      },
      "execution_count": null,
      "outputs": []
    },
    {
      "cell_type": "code",
      "source": [
        "print(X.shape, X_train.shape, X_test.shape)"
      ],
      "metadata": {
        "colab": {
          "base_uri": "https://localhost:8080/"
        },
        "id": "NYNNzHI3HfyM",
        "outputId": "527994f6-083e-4e56-e49e-4748ab358cd9"
      },
      "execution_count": null,
      "outputs": [
        {
          "output_type": "stream",
          "name": "stdout",
          "text": [
            "(195, 22) (156, 22) (39, 22)\n"
          ]
        }
      ]
    },
    {
      "cell_type": "code",
      "source": [
        "print(Y.shape,Y_test.shape,Y_train.shape)"
      ],
      "metadata": {
        "colab": {
          "base_uri": "https://localhost:8080/"
        },
        "id": "CXlxMVxvHsA8",
        "outputId": "f14bf486-dbc6-4e63-b9dd-25702b20ed2c"
      },
      "execution_count": null,
      "outputs": [
        {
          "output_type": "stream",
          "name": "stdout",
          "text": [
            "(195,) (39,) (156,)\n"
          ]
        }
      ]
    },
    {
      "cell_type": "code",
      "source": [
        "X_train=np.array(X_train)\n",
        "len(X_train)"
      ],
      "metadata": {
        "colab": {
          "base_uri": "https://localhost:8080/"
        },
        "id": "wWk-HwKJIMnO",
        "outputId": "3d017a99-9d1b-473f-b301-85b0e6a4d4e2"
      },
      "execution_count": null,
      "outputs": [
        {
          "output_type": "execute_result",
          "data": {
            "text/plain": [
              "156"
            ]
          },
          "metadata": {},
          "execution_count": 15
        }
      ]
    },
    {
      "cell_type": "code",
      "source": [
        "Y_train=np.array(Y_train)\n",
        "len(Y_train)"
      ],
      "metadata": {
        "colab": {
          "base_uri": "https://localhost:8080/"
        },
        "id": "hOn4Zr3RIgZE",
        "outputId": "b31d797b-a058-4e31-9cdc-8542a6571a1f"
      },
      "execution_count": null,
      "outputs": [
        {
          "output_type": "execute_result",
          "data": {
            "text/plain": [
              "156"
            ]
          },
          "metadata": {},
          "execution_count": 16
        }
      ]
    },
    {
      "cell_type": "code",
      "source": [
        "X_test=np.array(X_test)\n",
        "len(X_test)"
      ],
      "metadata": {
        "colab": {
          "base_uri": "https://localhost:8080/"
        },
        "id": "WtfYmLHeInZb",
        "outputId": "b08c86d9-7f00-4d95-b6e1-4dc4839ee81a"
      },
      "execution_count": null,
      "outputs": [
        {
          "output_type": "execute_result",
          "data": {
            "text/plain": [
              "39"
            ]
          },
          "metadata": {},
          "execution_count": 17
        }
      ]
    },
    {
      "cell_type": "code",
      "source": [
        "Y_test=np.array(Y_test)\n",
        "len(Y_test)"
      ],
      "metadata": {
        "colab": {
          "base_uri": "https://localhost:8080/"
        },
        "id": "E16siuomIt8X",
        "outputId": "066951c3-cad0-40c5-cdbd-72661d01070c"
      },
      "execution_count": null,
      "outputs": [
        {
          "output_type": "execute_result",
          "data": {
            "text/plain": [
              "39"
            ]
          },
          "metadata": {},
          "execution_count": 18
        }
      ]
    },
    {
      "cell_type": "markdown",
      "source": [
        "AUC score And ROC curve"
      ],
      "metadata": {
        "id": "crgz4KwN5jHY"
      }
    },
    {
      "cell_type": "code",
      "source": [
        "pip install scikit-plot"
      ],
      "metadata": {
        "colab": {
          "base_uri": "https://localhost:8080/"
        },
        "id": "QrzrqgBk9wSV",
        "outputId": "5f1279f2-4ed3-4c1e-b4a0-788f8c49acb9"
      },
      "execution_count": null,
      "outputs": [
        {
          "output_type": "stream",
          "name": "stdout",
          "text": [
            "Looking in indexes: https://pypi.org/simple, https://us-python.pkg.dev/colab-wheels/public/simple/\n",
            "Collecting scikit-plot\n",
            "  Downloading scikit_plot-0.3.7-py3-none-any.whl (33 kB)\n",
            "Requirement already satisfied: matplotlib>=1.4.0 in /usr/local/lib/python3.10/dist-packages (from scikit-plot) (3.7.1)\n",
            "Requirement already satisfied: scipy>=0.9 in /usr/local/lib/python3.10/dist-packages (from scikit-plot) (1.10.1)\n",
            "Requirement already satisfied: joblib>=0.10 in /usr/local/lib/python3.10/dist-packages (from scikit-plot) (1.2.0)\n",
            "Requirement already satisfied: scikit-learn>=0.18 in /usr/local/lib/python3.10/dist-packages (from scikit-plot) (1.2.2)\n",
            "Requirement already satisfied: fonttools>=4.22.0 in /usr/local/lib/python3.10/dist-packages (from matplotlib>=1.4.0->scikit-plot) (4.39.3)\n",
            "Requirement already satisfied: cycler>=0.10 in /usr/local/lib/python3.10/dist-packages (from matplotlib>=1.4.0->scikit-plot) (0.11.0)\n",
            "Requirement already satisfied: pyparsing>=2.3.1 in /usr/local/lib/python3.10/dist-packages (from matplotlib>=1.4.0->scikit-plot) (3.0.9)\n",
            "Requirement already satisfied: contourpy>=1.0.1 in /usr/local/lib/python3.10/dist-packages (from matplotlib>=1.4.0->scikit-plot) (1.0.7)\n",
            "Requirement already satisfied: packaging>=20.0 in /usr/local/lib/python3.10/dist-packages (from matplotlib>=1.4.0->scikit-plot) (23.1)\n",
            "Requirement already satisfied: pillow>=6.2.0 in /usr/local/lib/python3.10/dist-packages (from matplotlib>=1.4.0->scikit-plot) (8.4.0)\n",
            "Requirement already satisfied: kiwisolver>=1.0.1 in /usr/local/lib/python3.10/dist-packages (from matplotlib>=1.4.0->scikit-plot) (1.4.4)\n",
            "Requirement already satisfied: numpy>=1.20 in /usr/local/lib/python3.10/dist-packages (from matplotlib>=1.4.0->scikit-plot) (1.24.3)\n",
            "Requirement already satisfied: python-dateutil>=2.7 in /usr/local/lib/python3.10/dist-packages (from matplotlib>=1.4.0->scikit-plot) (2.8.2)\n",
            "Requirement already satisfied: threadpoolctl>=2.0.0 in /usr/local/lib/python3.10/dist-packages (from scikit-learn>=0.18->scikit-plot) (3.1.0)\n",
            "Requirement already satisfied: six>=1.5 in /usr/local/lib/python3.10/dist-packages (from python-dateutil>=2.7->matplotlib>=1.4.0->scikit-plot) (1.16.0)\n",
            "Installing collected packages: scikit-plot\n",
            "Successfully installed scikit-plot-0.3.7\n"
          ]
        }
      ]
    },
    {
      "cell_type": "code",
      "source": [
        "from sklearn.model_selection import train_test_split\n",
        "from sklearn.tree import DecisionTreeClassifier\n",
        "from sklearn.metrics import roc_curve,roc_auc_score\n",
        "import matplotlib.pyplot as plt\n",
        "from scikitplot.metrics import plot_roc_curve\n",
        "from sklearn.linear_model import LogisticRegression\n",
        "from sklearn.ensemble import RandomForestClassifier\n",
        "from sklearn.svm import SVC\n",
        "from xgboost import XGBClassifier"
      ],
      "metadata": {
        "id": "lhiceFqm5lfL"
      },
      "execution_count": null,
      "outputs": []
    },
    {
      "cell_type": "code",
      "source": [
        "  clf_tree = DecisionTreeClassifier()\n",
        "  clf_reg = LogisticRegression()\n",
        "  clf_RF=RandomForestClassifier()\n",
        "  clf_SVM=SVC(C=8)\n",
        "  clf_XGB=XGBClassifier()\n",
        "  "
      ],
      "metadata": {
        "id": "-9s5ZM3tCDa8"
      },
      "execution_count": null,
      "outputs": []
    },
    {
      "cell_type": "code",
      "source": [
        "clf_SVM.probability=True"
      ],
      "metadata": {
        "id": "E4sa-VvUNqI4"
      },
      "execution_count": null,
      "outputs": []
    },
    {
      "cell_type": "code",
      "source": [
        "clf_tree.fit(X_train, Y_train);\n"
      ],
      "metadata": {
        "id": "q1IEfwGZCaTg"
      },
      "execution_count": null,
      "outputs": []
    },
    {
      "cell_type": "code",
      "source": [
        "clf_reg.fit(X_train, Y_train);\n"
      ],
      "metadata": {
        "id": "hSuxEhYoLVN3"
      },
      "execution_count": null,
      "outputs": []
    },
    {
      "cell_type": "code",
      "source": [
        "clf_RF.fit(X_train, Y_train);"
      ],
      "metadata": {
        "id": "DbFvh81WLdLO"
      },
      "execution_count": null,
      "outputs": []
    },
    {
      "cell_type": "code",
      "source": [
        "clf_SVM.fit(X_train, Y_train);\n"
      ],
      "metadata": {
        "id": "1zZ0DYunLkml"
      },
      "execution_count": null,
      "outputs": []
    },
    {
      "cell_type": "code",
      "source": [
        "clf_XGB.fit(X_train, Y_train);"
      ],
      "metadata": {
        "id": "B32aMZovQWGJ"
      },
      "execution_count": null,
      "outputs": []
    },
    {
      "cell_type": "code",
      "source": [
        " y_score1 = clf_tree.predict_proba(X_test)[:,1]\n",
        " "
      ],
      "metadata": {
        "id": "Dszbn_6FCXex"
      },
      "execution_count": null,
      "outputs": []
    },
    {
      "cell_type": "code",
      "source": [
        "y_score2 = clf_reg.predict_proba(X_test)[:,1]"
      ],
      "metadata": {
        "id": "_qQT8EKSBTfh"
      },
      "execution_count": null,
      "outputs": []
    },
    {
      "cell_type": "code",
      "source": [
        "y_score3 = clf_RF.predict_proba(X_test)[:,1]"
      ],
      "metadata": {
        "id": "SigqPUDBLJxY"
      },
      "execution_count": null,
      "outputs": []
    },
    {
      "cell_type": "code",
      "source": [
        "y_score4 = clf_SVM.predict_proba(X_test)[:,1]"
      ],
      "metadata": {
        "id": "_uSic-zfL13l"
      },
      "execution_count": null,
      "outputs": []
    },
    {
      "cell_type": "code",
      "source": [
        "y_score5 = clf_XGB.predict_proba(X_test)[:,1]"
      ],
      "metadata": {
        "id": "DWnXpQNhQdVS"
      },
      "execution_count": null,
      "outputs": []
    },
    {
      "cell_type": "code",
      "source": [
        "false_positive_rate1, true_positive_rate1, threshold1 = roc_curve(Y_test, y_score1)"
      ],
      "metadata": {
        "id": "UNyZba0qFMI2"
      },
      "execution_count": null,
      "outputs": []
    },
    {
      "cell_type": "code",
      "source": [
        "false_positive_rate2, true_positive_rate2, threshold2 = roc_curve(Y_test, y_score2)"
      ],
      "metadata": {
        "id": "UATMAOjyFTT2"
      },
      "execution_count": null,
      "outputs": []
    },
    {
      "cell_type": "code",
      "source": [
        "false_positive_rate3, true_positive_rate3, threshold3 = roc_curve(Y_test, y_score3)"
      ],
      "metadata": {
        "id": "3Pi8xlcQaRC1"
      },
      "execution_count": null,
      "outputs": []
    },
    {
      "cell_type": "code",
      "source": [
        "false_positive_rate4, true_positive_rate4, threshold4 = roc_curve(Y_test, y_score4)"
      ],
      "metadata": {
        "id": "JQy_pQxeOUyS"
      },
      "execution_count": null,
      "outputs": []
    },
    {
      "cell_type": "code",
      "source": [
        "false_positive_rate5, true_positive_rate5, threshold5 = roc_curve(Y_test, y_score5)"
      ],
      "metadata": {
        "id": "YqyHrHMPQmv_"
      },
      "execution_count": null,
      "outputs": []
    },
    {
      "cell_type": "code",
      "source": [
        "print('roc_auc_score for DecisionTree: ', roc_auc_score(Y_test, y_score1))\n",
        "print('roc_auc_score for Logistic Regression: ', roc_auc_score(Y_test, y_score2))\n",
        "print('roc_auc_score for Random Forest Classifier: ', roc_auc_score(Y_test, y_score3))\n",
        "print('roc_auc_score for  Support Vector Machine: ', roc_auc_score(Y_test, y_score4))\n",
        "print('roc_auc_score for XGBoost Classifier: ', roc_auc_score(Y_test, y_score5))\n"
      ],
      "metadata": {
        "colab": {
          "base_uri": "https://localhost:8080/"
        },
        "id": "yCFfnAbWEYKQ",
        "outputId": "6245a32b-4995-4d76-de4a-d807646c55c3"
      },
      "execution_count": null,
      "outputs": [
        {
          "output_type": "stream",
          "name": "stdout",
          "text": [
            "roc_auc_score for DecisionTree:  0.8912337662337663\n",
            "roc_auc_score for Logistic Regression:  0.9935064935064934\n",
            "roc_auc_score for Random Forest Classifier:  1.0\n",
            "roc_auc_score for  Support Vector Machine:  1.0\n",
            "roc_auc_score for XGBoost Classifier:  1.0\n"
          ]
        }
      ]
    },
    {
      "cell_type": "code",
      "source": [
        " plt.subplots(1, figsize=(4,4))\n",
        " plt.title('ROC Curve - DecisionTree')\n",
        " plt.plot(false_positive_rate1, true_positive_rate1)\n",
        " plt.plot([0, 1], ls=\"--\")\n",
        " plt.plot([0, 0], [1, 0] , c=\".7\"), plt.plot([1, 1] , c=\".7\")\n",
        " plt.ylabel('True Positive Rate')\n",
        " plt.xlabel('False Positive Rate')\n",
        " plt.show() "
      ],
      "metadata": {
        "colab": {
          "base_uri": "https://localhost:8080/",
          "height": 410
        },
        "id": "UeYuswD0EkaG",
        "outputId": "986c4ab1-f7c9-431a-d386-841000d63b87"
      },
      "execution_count": null,
      "outputs": [
        {
          "output_type": "display_data",
          "data": {
            "text/plain": [
              "<Figure size 400x400 with 1 Axes>"
            ],
            "image/png": "[encoded data removed]"
          },
          "metadata": {}
        }
      ]
    },
    {
      "cell_type": "code",
      "source": [
        " plt.subplots(1, figsize=(4,4))\n",
        " plt.title('ROC Curve - Logistic regression')\n",
        " plt.plot(false_positive_rate2, true_positive_rate2)\n",
        " plt.plot([0, 1], ls=\"--\")\n",
        " plt.plot([0, 0], [1, 0] , c=\".7\"), plt.plot([1, 1] , c=\".7\")\n",
        " plt.ylabel('True Positive Rate')\n",
        " plt.xlabel('False Positive Rate')\n",
        " plt.show()"
      ],
      "metadata": {
        "colab": {
          "base_uri": "https://localhost:8080/",
          "height": 410
        },
        "id": "ZMEvvbceGBZX",
        "outputId": "9f983e9a-988a-4fd7-fab9-9ca039b35c86"
      },
      "execution_count": null,
      "outputs": [
        {
          "output_type": "display_data",
          "data": {
            "text/plain": [
              "<Figure size 400x400 with 1 Axes>"
            ],
            "image/png": "[encoded data removed]"
          },
          "metadata": {}
        }
      ]
    },
    {
      "cell_type": "code",
      "source": [
        " plt.subplots(1, figsize=(4,4))\n",
        " plt.title('ROC Curve -Random Forest')\n",
        " plt.plot(false_positive_rate3, true_positive_rate3)\n",
        " plt.plot([0, 1], ls=\"--\")\n",
        " plt.plot([0, 0], [1, 0] , c=\".7\"), plt.plot([1, 1] , c=\".7\")\n",
        " plt.ylabel('True Positive Rate')\n",
        " plt.xlabel('False Positive Rate')\n",
        " plt.show() "
      ],
      "metadata": {
        "colab": {
          "base_uri": "https://localhost:8080/",
          "height": 410
        },
        "outputId": "1e32fa99-be54-4985-b0c7-a3dc94ca0088",
        "id": "kKYAmPxsJcMJ"
      },
      "execution_count": null,
      "outputs": [
        {
          "output_type": "display_data",
          "data": {
            "text/plain": [
              "<Figure size 400x400 with 1 Axes>"
            ],
            "image/png": "[encoded data removed]"
          },
          "metadata": {}
        }
      ]
    },
    {
      "cell_type": "code",
      "source": [
        " plt.subplots(1, figsize=(4,4))\n",
        " plt.title('ROC Curve -SVM')\n",
        " plt.plot(false_positive_rate4, true_positive_rate4)\n",
        " plt.plot([0, 1], ls=\"--\")\n",
        " plt.plot([0, 0], [1, 0] , c=\".7\"), plt.plot([1, 1] , c=\".7\")\n",
        " plt.ylabel('True Positive Rate')\n",
        " plt.xlabel('False Positive Rate')\n",
        " plt.show() "
      ],
      "metadata": {
        "colab": {
          "base_uri": "https://localhost:8080/",
          "height": 410
        },
        "outputId": "938c3d68-2e7c-4bf9-e428-51190ef3d20a",
        "id": "NYQ-QtXOOsVd"
      },
      "execution_count": null,
      "outputs": [
        {
          "output_type": "display_data",
          "data": {
            "text/plain": [
              "<Figure size 400x400 with 1 Axes>"
            ],
            "image/png": "[encoded data removed]"
          },
          "metadata": {}
        }
      ]
    },
    {
      "cell_type": "code",
      "source": [
        " plt.subplots(1, figsize=(4,4))\n",
        " plt.title('ROC Curve - XGBoostClassifier')\n",
        " plt.plot(false_positive_rate5, true_positive_rate5)\n",
        " plt.plot([0, 1], ls=\"--\")\n",
        " plt.plot([0, 0], [1, 0] , c=\".7\"), plt.plot([1, 1] , c=\".7\")\n",
        " plt.ylabel('True Positive Rate')\n",
        " plt.xlabel('False Positive Rate')\n",
        " plt.show() "
      ],
      "metadata": {
        "colab": {
          "base_uri": "https://localhost:8080/",
          "height": 410
        },
        "outputId": "86b917b7-c7aa-4631-8988-858a0894e412",
        "id": "VDq5u97tRUWf"
      },
      "execution_count": null,
      "outputs": [
        {
          "output_type": "display_data",
          "data": {
            "text/plain": [
              "<Figure size 400x400 with 1 Axes>"
            ],
            "image/png": "[encoded data removed]"
          },
          "metadata": {}
        }
      ]
    },
    {
      "cell_type": "markdown",
      "source": [
        "Linear Regression Model"
      ],
      "metadata": {
        "id": "JQ0nY97hJPrb"
      }
    },
    {
      "cell_type": "code",
      "source": [
        "from sklearn.linear_model import LinearRegression\n",
        "Model_1=LinearRegression()"
      ],
      "metadata": {
        "id": "H50rvqEsJUTU"
      },
      "execution_count": null,
      "outputs": []
    },
    {
      "cell_type": "code",
      "source": [
        "Model_1.fit(X_train,Y_train)"
      ],
      "metadata": {
        "colab": {
          "base_uri": "https://localhost:8080/",
          "height": 74
        },
        "id": "P3J2Kd7jN68u",
        "outputId": "3a7fa139-a43a-49d8-ac0f-cd1624e493b9"
      },
      "execution_count": null,
      "outputs": [
        {
          "output_type": "execute_result",
          "data": {
            "text/plain": [
              "LinearRegression()"
            ],
            "text/html": [
              "<style>#sk-container-id-1 {color: black;background-color: white;}#sk-container-id-1 pre{padding: 0;}#sk-container-id-1 div.sk-toggleable {background-color: white;}#sk-container-id-1 label.sk-toggleable__label {cursor: pointer;display: block;width: 100%;margin-bottom: 0;padding: 0.3em;box-sizing: border-box;text-align: center;}#sk-container-id-1 label.sk-toggleable__label-arrow:before {content: \"▸\";float: left;margin-right: 0.25em;color: #696969;}#sk-container-id-1 label.sk-toggleable__label-arrow:hover:before {color: black;}#sk-container-id-1 div.sk-estimator:hover label.sk-toggleable__label-arrow:before {color: black;}#sk-container-id-1 div.sk-toggleable__content {max-height: 0;max-width: 0;overflow: hidden;text-align: left;background-color: #f0f8ff;}#sk-container-id-1 div.sk-toggleable__content pre {margin: 0.2em;color: black;border-radius: 0.25em;background-color: #f0f8ff;}#sk-container-id-1 input.sk-toggleable__control:checked~div.sk-toggleable__content {max-height: 200px;max-width: 100%;overflow: auto;}#sk-container-id-1 input.sk-toggleable__control:checked~label.sk-toggleable__label-arrow:before {content: \"▾\";}#sk-container-id-1 div.sk-estimator input.sk-toggleable__control:checked~label.sk-toggleable__label {background-color: #d4ebff;}#sk-container-id-1 div.sk-label input.sk-toggleable__control:checked~label.sk-toggleable__label {background-color: #d4ebff;}#sk-container-id-1 input.sk-hidden--visually {border: 0;clip: rect(1px 1px 1px 1px);clip: rect(1px, 1px, 1px, 1px);height: 1px;margin: -1px;overflow: hidden;padding: 0;position: absolute;width: 1px;}#sk-container-id-1 div.sk-estimator {font-family: monospace;background-color: #f0f8ff;border: 1px dotted black;border-radius: 0.25em;box-sizing: border-box;margin-bottom: 0.5em;}#sk-container-id-1 div.sk-estimator:hover {background-color: #d4ebff;}#sk-container-id-1 div.sk-parallel-item::after {content: \"\";width: 100%;border-bottom: 1px solid gray;flex-grow: 1;}#sk-container-id-1 div.sk-label:hover label.sk-toggleable__label {background-color: #d4ebff;}#sk-container-id-1 div.sk-serial::before {content: \"\";position: absolute;border-left: 1px solid gray;box-sizing: border-box;top: 0;bottom: 0;left: 50%;z-index: 0;}#sk-container-id-1 div.sk-serial {display: flex;flex-direction: column;align-items: center;background-color: white;padding-right: 0.2em;padding-left: 0.2em;position: relative;}#sk-container-id-1 div.sk-item {position: relative;z-index: 1;}#sk-container-id-1 div.sk-parallel {display: flex;align-items: stretch;justify-content: center;background-color: white;position: relative;}#sk-container-id-1 div.sk-item::before, #sk-container-id-1 div.sk-parallel-item::before {content: \"\";position: absolute;border-left: 1px solid gray;box-sizing: border-box;top: 0;bottom: 0;left: 50%;z-index: -1;}#sk-container-id-1 div.sk-parallel-item {display: flex;flex-direction: column;z-index: 1;position: relative;background-color: white;}#sk-container-id-1 div.sk-parallel-item:first-child::after {align-self: flex-end;width: 50%;}#sk-container-id-1 div.sk-parallel-item:last-child::after {align-self: flex-start;width: 50%;}#sk-container-id-1 div.sk-parallel-item:only-child::after {width: 0;}#sk-container-id-1 div.sk-dashed-wrapped {border: 1px dashed gray;margin: 0 0.4em 0.5em 0.4em;box-sizing: border-box;padding-bottom: 0.4em;background-color: white;}#sk-container-id-1 div.sk-label label {font-family: monospace;font-weight: bold;display: inline-block;line-height: 1.2em;}#sk-container-id-1 div.sk-label-container {text-align: center;}#sk-container-id-1 div.sk-container {/* jupyter's `normalize.less` sets `[hidden] { display: none; }` but bootstrap.min.css set `[hidden] { display: none !important; }` so we also need the `!important` here to be able to override the default hidden behavior on the sphinx rendered scikit-learn.org. See: https://github.com/scikit-learn/scikit-learn/issues/21755 */display: inline-block !important;position: relative;}#sk-container-id-1 div.sk-text-repr-fallback {display: none;}</style><div id=\"sk-container-id-1\" class=\"sk-top-container\"><div class=\"sk-text-repr-fallback\"><pre>LinearRegression()</pre><b>In a Jupyter environment, please rerun this cell to show the HTML representation or trust the notebook. <br />On GitHub, the HTML representation is unable to render, please try loading this page with nbviewer.org.</b></div><div class=\"sk-container\" hidden><div class=\"sk-item\"><div class=\"sk-estimator sk-toggleable\"><input class=\"sk-toggleable__control sk-hidden--visually\" id=\"sk-estimator-id-1\" type=\"checkbox\" checked><label for=\"sk-estimator-id-1\" class=\"sk-toggleable__label sk-toggleable__label-arrow\">LinearRegression</label><div class=\"sk-toggleable__content\"><pre>LinearRegression()</pre></div></div></div></div></div>"
            ]
          },
          "metadata": {},
          "execution_count": 46
        }
      ]
    },
    {
      "cell_type": "code",
      "source": [
        "Y_Predict_Model_1=Model_1.predict(X_test)\n",
        "Y_Predict_Model_1"
      ],
      "metadata": {
        "colab": {
          "base_uri": "https://localhost:8080/"
        },
        "id": "8EyjqOU9OWhb",
        "outputId": "dc9fb341-e783-4a1b-f85f-b804391be8eb"
      },
      "execution_count": null,
      "outputs": [
        {
          "output_type": "execute_result",
          "data": {
            "text/plain": [
              "array([0.51464502, 0.92291805, 1.08895196, 0.93072429, 0.39722818,\n",
              "       0.96450257, 0.51665718, 0.73428536, 0.96425774, 0.89648295,\n",
              "       0.54933081, 1.04009737, 1.02683814, 1.02090193, 0.52986194,\n",
              "       0.21476581, 1.07171961, 0.93419406, 0.55144217, 0.87538823,\n",
              "       1.17667136, 0.53241189, 0.40486539, 0.77032915, 0.94973256,\n",
              "       0.79196182, 0.95604616, 1.05056541, 0.02141046, 0.08635714,\n",
              "       0.86404109, 0.73424635, 1.07673007, 0.16402396, 0.26651789,\n",
              "       0.70248981, 0.5602687 , 0.96492844, 0.09659312])"
            ]
          },
          "metadata": {},
          "execution_count": 58
        }
      ]
    },
    {
      "cell_type": "code",
      "source": [
        "for i,j in enumerate(Y_Predict_Model_1):\n",
        "  if (j<0.5):\n",
        "    Y_Predict_Model_1[i]=0\n",
        "  else:\n",
        "   Y_Predict_Model_1[i]=1\n",
        "print(Y_Predict_Model_1)\n",
        "Y_Predict_Model_1.shape\n"
      ],
      "metadata": {
        "colab": {
          "base_uri": "https://localhost:8080/"
        },
        "id": "XrIXlxzhPM7D",
        "outputId": "dc1ba397-72d9-4ec9-a792-eba414f102db"
      },
      "execution_count": null,
      "outputs": [
        {
          "output_type": "stream",
          "name": "stdout",
          "text": [
            "[1. 1. 1. 1. 0. 1. 1. 1. 1. 1. 1. 1. 1. 1. 1. 0. 1. 1. 1. 1. 1. 1. 0. 1.\n",
            " 1. 1. 1. 1. 0. 0. 1. 1. 1. 0. 0. 1. 1. 1. 0.]\n"
          ]
        },
        {
          "output_type": "execute_result",
          "data": {
            "text/plain": [
              "(39,)"
            ]
          },
          "metadata": {},
          "execution_count": 59
        }
      ]
    },
    {
      "cell_type": "code",
      "source": [
        "Y_test=np.array(Y_test)\n",
        "print(Y_test)\n",
        "Y_test.shape"
      ],
      "metadata": {
        "colab": {
          "base_uri": "https://localhost:8080/"
        },
        "id": "fg5fo6bbQTkF",
        "outputId": "f1de5d64-cf71-4726-94a1-00ddefe14a35"
      },
      "execution_count": null,
      "outputs": [
        {
          "output_type": "stream",
          "name": "stdout",
          "text": [
            "[1 1 1 1 0 1 0 1 1 1 1 1 1 1 1 0 1 1 1 1 1 0 0 1 1 1 1 1 0 0 1 1 1 0 0 1 0\n",
            " 1 0]\n"
          ]
        },
        {
          "output_type": "execute_result",
          "data": {
            "text/plain": [
              "(39,)"
            ]
          },
          "metadata": {},
          "execution_count": 60
        }
      ]
    },
    {
      "cell_type": "code",
      "source": [
        "print(\"X_test_array  Y_test\")\n",
        "for i,j in zip(Y_Predict_Model_1,Y_test):\n",
        "  print(i,\"          \",j)"
      ],
      "metadata": {
        "colab": {
          "base_uri": "https://localhost:8080/"
        },
        "id": "I4tEIK5VRqlJ",
        "outputId": "db77bc86-bedf-4740-ef0b-df88d073bef5"
      },
      "execution_count": null,
      "outputs": [
        {
          "output_type": "stream",
          "name": "stdout",
          "text": [
            "X_test_array  Y_test\n",
            "1.0            1\n",
            "1.0            1\n",
            "1.0            1\n",
            "1.0            1\n",
            "0.0            0\n",
            "1.0            1\n",
            "1.0            0\n",
            "1.0            1\n",
            "1.0            1\n",
            "1.0            1\n",
            "1.0            1\n",
            "1.0            1\n",
            "1.0            1\n",
            "1.0            1\n",
            "1.0            1\n",
            "0.0            0\n",
            "1.0            1\n",
            "1.0            1\n",
            "1.0            1\n",
            "1.0            1\n",
            "1.0            1\n",
            "1.0            0\n",
            "0.0            0\n",
            "1.0            1\n",
            "1.0            1\n",
            "1.0            1\n",
            "1.0            1\n",
            "1.0            1\n",
            "0.0            0\n",
            "0.0            0\n",
            "1.0            1\n",
            "1.0            1\n",
            "1.0            1\n",
            "0.0            0\n",
            "0.0            0\n",
            "1.0            1\n",
            "1.0            0\n",
            "1.0            1\n",
            "0.0            0\n"
          ]
        }
      ]
    },
    {
      "cell_type": "code",
      "source": [
        "Model_1.coef_"
      ],
      "metadata": {
        "colab": {
          "base_uri": "https://localhost:8080/"
        },
        "id": "Bu_O_QMHVdpK",
        "outputId": "3ba2ca86-a036-4d33-d9ec-b1301d4c494d"
      },
      "execution_count": null,
      "outputs": [
        {
          "output_type": "execute_result",
          "data": {
            "text/plain": [
              "array([-1.04534118e-01, -8.64109626e-03, -8.47479945e-02, -8.42742504e-01,\n",
              "       -2.11212157e-01,  1.56884203e+01, -1.42137550e-01, -1.46054643e+01,\n",
              "        5.17532503e-01,  5.28230731e-02, -4.02387066e+01, -2.09417859e-01,\n",
              "       -7.79932356e-02,  4.00157133e+01, -9.44810447e-02, -4.34151524e-02,\n",
              "       -8.18391150e-02,  1.28448884e-02,  7.56285161e-02,  1.01698916e-01,\n",
              "        1.77072618e-02,  1.60954993e-01])"
            ]
          },
          "metadata": {},
          "execution_count": 62
        }
      ]
    },
    {
      "cell_type": "code",
      "source": [
        "Model_1.intercept_"
      ],
      "metadata": {
        "colab": {
          "base_uri": "https://localhost:8080/"
        },
        "id": "ZcpLK40TVh-8",
        "outputId": "9207ede8-861c-4fe2-f760-bd2fb2bd97ad"
      },
      "execution_count": null,
      "outputs": [
        {
          "output_type": "execute_result",
          "data": {
            "text/plain": [
              "0.7534122263490173"
            ]
          },
          "metadata": {},
          "execution_count": 63
        }
      ]
    },
    {
      "cell_type": "code",
      "source": [
        "from sklearn.metrics import confusion_matrix\n",
        "import matplotlib.pyplot as plt\n"
      ],
      "metadata": {
        "id": "R-oRDxVkWOTT"
      },
      "execution_count": null,
      "outputs": []
    },
    {
      "cell_type": "code",
      "source": [
        "from sklearn.metrics import roc_curve,auc,confusion_matrix,classification_report,accuracy_score"
      ],
      "metadata": {
        "id": "7CL71_sO-HHc"
      },
      "execution_count": null,
      "outputs": []
    },
    {
      "cell_type": "code",
      "source": [
        "CM=confusion_matrix(Y_test,Y_Predict_Model_1)\n",
        "import seaborn as sn\n",
        "plt.figure(figsize=(6,4))\n",
        "fg=sn.heatmap(CM,annot=True,cmap='Blues')\n",
        "figure=fg.get_figure()\n",
        "figure.savefig('LG.jpg',dpi=350)\n",
        "plt.xlabel(\"Predicted\")\n",
        "plt.ylabel(\"Actual\")\n",
        "plt.show()"
      ],
      "metadata": {
        "colab": {
          "base_uri": "https://localhost:8080/",
          "height": 388
        },
        "id": "-EpMwc5fXV7K",
        "outputId": "bfc9bbd6-920f-44f0-b311-1dd6a58d4e84"
      },
      "execution_count": null,
      "outputs": [
        {
          "output_type": "display_data",
          "data": {
            "text/plain": [
              "<Figure size 600x400 with 2 Axes>"
            ],
            "image/png": "[encoded data removed]"
          },
          "metadata": {}
        }
      ]
    },
    {
      "cell_type": "code",
      "source": [
        "print (classification_report(Y_test,Y_Predict_Model_1))\n",
        "\n",
        "print('Confusion matrix:')\n",
        "print(CM)"
      ],
      "metadata": {
        "colab": {
          "base_uri": "https://localhost:8080/"
        },
        "outputId": "c5284d2c-ac7d-4656-fa9b-956e2fd16ff0",
        "id": "ZeVvsafj-AAc"
      },
      "execution_count": null,
      "outputs": [
        {
          "output_type": "stream",
          "name": "stdout",
          "text": [
            "              precision    recall  f1-score   support\n",
            "\n",
            "           0       1.00      0.73      0.84        11\n",
            "           1       0.90      1.00      0.95        28\n",
            "\n",
            "    accuracy                           0.92        39\n",
            "   macro avg       0.95      0.86      0.90        39\n",
            "weighted avg       0.93      0.92      0.92        39\n",
            "\n",
            "Confusion matrix:\n",
            "[[ 8  3]\n",
            " [ 0 28]]\n"
          ]
        }
      ]
    },
    {
      "cell_type": "code",
      "source": [
        "Accuracy=0.92\n",
        "print(\"Linear Regression Model Accuracy:\",Accuracy)"
      ],
      "metadata": {
        "colab": {
          "base_uri": "https://localhost:8080/"
        },
        "outputId": "3c9c4695-1b59-42cd-84c9-3f76f92d2b3c",
        "id": "EN3_eFPEub22"
      },
      "execution_count": null,
      "outputs": [
        {
          "output_type": "stream",
          "name": "stdout",
          "text": [
            "Linear Regression Model Accuracy: 0.94\n"
          ]
        }
      ]
    },
    {
      "cell_type": "markdown",
      "source": [
        "Logistic Regression"
      ],
      "metadata": {
        "id": "UxJklP_DQztW"
      }
    },
    {
      "cell_type": "code",
      "source": [
        "from sklearn.linear_model import LogisticRegression\n"
      ],
      "metadata": {
        "id": "HB_Qpvizc2hS"
      },
      "execution_count": null,
      "outputs": []
    },
    {
      "cell_type": "code",
      "source": [
        "Model_2=LogisticRegression()\n",
        "Model_2.fit(X_train,Y_train)"
      ],
      "metadata": {
        "colab": {
          "base_uri": "https://localhost:8080/",
          "height": 74
        },
        "id": "Y9yDAklkdKIc",
        "outputId": "5d812c26-7f5d-41ea-d43f-98eed264818c"
      },
      "execution_count": null,
      "outputs": [
        {
          "output_type": "execute_result",
          "data": {
            "text/plain": [
              "LogisticRegression()"
            ],
            "text/html": [
              "<style>#sk-container-id-2 {color: black;background-color: white;}#sk-container-id-2 pre{padding: 0;}#sk-container-id-2 div.sk-toggleable {background-color: white;}#sk-container-id-2 label.sk-toggleable__label {cursor: pointer;display: block;width: 100%;margin-bottom: 0;padding: 0.3em;box-sizing: border-box;text-align: center;}#sk-container-id-2 label.sk-toggleable__label-arrow:before {content: \"▸\";float: left;margin-right: 0.25em;color: #696969;}#sk-container-id-2 label.sk-toggleable__label-arrow:hover:before {color: black;}#sk-container-id-2 div.sk-estimator:hover label.sk-toggleable__label-arrow:before {color: black;}#sk-container-id-2 div.sk-toggleable__content {max-height: 0;max-width: 0;overflow: hidden;text-align: left;background-color: #f0f8ff;}#sk-container-id-2 div.sk-toggleable__content pre {margin: 0.2em;color: black;border-radius: 0.25em;background-color: #f0f8ff;}#sk-container-id-2 input.sk-toggleable__control:checked~div.sk-toggleable__content {max-height: 200px;max-width: 100%;overflow: auto;}#sk-container-id-2 input.sk-toggleable__control:checked~label.sk-toggleable__label-arrow:before {content: \"▾\";}#sk-container-id-2 div.sk-estimator input.sk-toggleable__control:checked~label.sk-toggleable__label {background-color: #d4ebff;}#sk-container-id-2 div.sk-label input.sk-toggleable__control:checked~label.sk-toggleable__label {background-color: #d4ebff;}#sk-container-id-2 input.sk-hidden--visually {border: 0;clip: rect(1px 1px 1px 1px);clip: rect(1px, 1px, 1px, 1px);height: 1px;margin: -1px;overflow: hidden;padding: 0;position: absolute;width: 1px;}#sk-container-id-2 div.sk-estimator {font-family: monospace;background-color: #f0f8ff;border: 1px dotted black;border-radius: 0.25em;box-sizing: border-box;margin-bottom: 0.5em;}#sk-container-id-2 div.sk-estimator:hover {background-color: #d4ebff;}#sk-container-id-2 div.sk-parallel-item::after {content: \"\";width: 100%;border-bottom: 1px solid gray;flex-grow: 1;}#sk-container-id-2 div.sk-label:hover label.sk-toggleable__label {background-color: #d4ebff;}#sk-container-id-2 div.sk-serial::before {content: \"\";position: absolute;border-left: 1px solid gray;box-sizing: border-box;top: 0;bottom: 0;left: 50%;z-index: 0;}#sk-container-id-2 div.sk-serial {display: flex;flex-direction: column;align-items: center;background-color: white;padding-right: 0.2em;padding-left: 0.2em;position: relative;}#sk-container-id-2 div.sk-item {position: relative;z-index: 1;}#sk-container-id-2 div.sk-parallel {display: flex;align-items: stretch;justify-content: center;background-color: white;position: relative;}#sk-container-id-2 div.sk-item::before, #sk-container-id-2 div.sk-parallel-item::before {content: \"\";position: absolute;border-left: 1px solid gray;box-sizing: border-box;top: 0;bottom: 0;left: 50%;z-index: -1;}#sk-container-id-2 div.sk-parallel-item {display: flex;flex-direction: column;z-index: 1;position: relative;background-color: white;}#sk-container-id-2 div.sk-parallel-item:first-child::after {align-self: flex-end;width: 50%;}#sk-container-id-2 div.sk-parallel-item:last-child::after {align-self: flex-start;width: 50%;}#sk-container-id-2 div.sk-parallel-item:only-child::after {width: 0;}#sk-container-id-2 div.sk-dashed-wrapped {border: 1px dashed gray;margin: 0 0.4em 0.5em 0.4em;box-sizing: border-box;padding-bottom: 0.4em;background-color: white;}#sk-container-id-2 div.sk-label label {font-family: monospace;font-weight: bold;display: inline-block;line-height: 1.2em;}#sk-container-id-2 div.sk-label-container {text-align: center;}#sk-container-id-2 div.sk-container {/* jupyter's `normalize.less` sets `[hidden] { display: none; }` but bootstrap.min.css set `[hidden] { display: none !important; }` so we also need the `!important` here to be able to override the default hidden behavior on the sphinx rendered scikit-learn.org. See: https://github.com/scikit-learn/scikit-learn/issues/21755 */display: inline-block !important;position: relative;}#sk-container-id-2 div.sk-text-repr-fallback {display: none;}</style><div id=\"sk-container-id-2\" class=\"sk-top-container\"><div class=\"sk-text-repr-fallback\"><pre>LogisticRegression()</pre><b>In a Jupyter environment, please rerun this cell to show the HTML representation or trust the notebook. <br />On GitHub, the HTML representation is unable to render, please try loading this page with nbviewer.org.</b></div><div class=\"sk-container\" hidden><div class=\"sk-item\"><div class=\"sk-estimator sk-toggleable\"><input class=\"sk-toggleable__control sk-hidden--visually\" id=\"sk-estimator-id-2\" type=\"checkbox\" checked><label for=\"sk-estimator-id-2\" class=\"sk-toggleable__label sk-toggleable__label-arrow\">LogisticRegression</label><div class=\"sk-toggleable__content\"><pre>LogisticRegression()</pre></div></div></div></div></div>"
            ]
          },
          "metadata": {},
          "execution_count": 66
        }
      ]
    },
    {
      "cell_type": "code",
      "source": [
        "Y_Predict_Model_2=Model_2.predict(X_test)\n",
        "Y_Predict_Model_2"
      ],
      "metadata": {
        "colab": {
          "base_uri": "https://localhost:8080/"
        },
        "id": "QL3_x0r8eNip",
        "outputId": "bd33c3ea-fb16-4ec1-9089-0c74be79fbf4"
      },
      "execution_count": null,
      "outputs": [
        {
          "output_type": "execute_result",
          "data": {
            "text/plain": [
              "array([1, 1, 1, 1, 0, 1, 0, 1, 1, 1, 1, 1, 1, 1, 1, 0, 1, 1, 0, 1, 1, 0,\n",
              "       0, 1, 1, 1, 1, 1, 0, 0, 1, 1, 1, 0, 0, 1, 0, 1, 0])"
            ]
          },
          "metadata": {},
          "execution_count": 67
        }
      ]
    },
    {
      "cell_type": "code",
      "source": [
        "Y_test"
      ],
      "metadata": {
        "colab": {
          "base_uri": "https://localhost:8080/"
        },
        "id": "6Ke4hYwFfYPi",
        "outputId": "30b6c8fb-4b03-4318-f7e6-a390b3b4531b"
      },
      "execution_count": null,
      "outputs": [
        {
          "output_type": "execute_result",
          "data": {
            "text/plain": [
              "array([1, 1, 1, 1, 0, 1, 0, 1, 1, 1, 1, 1, 1, 1, 1, 0, 1, 1, 1, 1, 1, 0,\n",
              "       0, 1, 1, 1, 1, 1, 0, 0, 1, 1, 1, 0, 0, 1, 0, 1, 0])"
            ]
          },
          "metadata": {},
          "execution_count": 45
        }
      ]
    },
    {
      "cell_type": "code",
      "source": [
        "Accuracy_2=Model_2.score(X_test,Y_test)\n",
        "print(\"Logistic Regression Model Accuracy:\",Accuracy_2)"
      ],
      "metadata": {
        "colab": {
          "base_uri": "https://localhost:8080/"
        },
        "id": "UM7uwgh1flec",
        "outputId": "b4576ab8-0084-46ca-ef19-f7554b839713"
      },
      "execution_count": null,
      "outputs": [
        {
          "output_type": "stream",
          "name": "stdout",
          "text": [
            "Logistic Regression Model Accuracy: 0.9743589743589743\n"
          ]
        }
      ]
    },
    {
      "cell_type": "code",
      "source": [
        "Model_2.predict_proba(X_test)"
      ],
      "metadata": {
        "colab": {
          "base_uri": "https://localhost:8080/"
        },
        "id": "U2dkwbuJfxip",
        "outputId": "2c63ee51-e92a-43ad-bb0b-097bd003fdb5"
      },
      "execution_count": null,
      "outputs": [
        {
          "output_type": "execute_result",
          "data": {
            "text/plain": [
              "array([[6.04302356e-02, 9.39569764e-01],\n",
              "       [3.22125469e-03, 9.96778745e-01],\n",
              "       [1.50254202e-03, 9.98497458e-01],\n",
              "       [2.59753456e-02, 9.74024654e-01],\n",
              "       [5.76189480e-01, 4.23810520e-01],\n",
              "       [2.61914891e-03, 9.97380851e-01],\n",
              "       [7.34636224e-01, 2.65363776e-01],\n",
              "       [2.27997815e-02, 9.77200219e-01],\n",
              "       [1.53787217e-01, 8.46212783e-01],\n",
              "       [3.05365168e-03, 9.96946348e-01],\n",
              "       [4.45622835e-01, 5.54377165e-01],\n",
              "       [2.53908029e-02, 9.74609197e-01],\n",
              "       [7.04228379e-02, 9.29577162e-01],\n",
              "       [5.71461644e-02, 9.42853836e-01],\n",
              "       [2.57962987e-01, 7.42037013e-01],\n",
              "       [7.91088358e-01, 2.08911642e-01],\n",
              "       [7.27540850e-03, 9.92724592e-01],\n",
              "       [4.44811777e-02, 9.55518822e-01],\n",
              "       [5.88103262e-01, 4.11896738e-01],\n",
              "       [3.32999226e-03, 9.96670008e-01],\n",
              "       [2.44702351e-04, 9.99755298e-01],\n",
              "       [5.56339077e-01, 4.43660923e-01],\n",
              "       [6.99562434e-01, 3.00437566e-01],\n",
              "       [3.94903792e-02, 9.60509621e-01],\n",
              "       [4.36883644e-03, 9.95631164e-01],\n",
              "       [1.54327457e-01, 8.45672543e-01],\n",
              "       [1.64888962e-02, 9.83511104e-01],\n",
              "       [6.22560045e-04, 9.99377440e-01],\n",
              "       [9.07739647e-01, 9.22603532e-02],\n",
              "       [9.50248033e-01, 4.97519666e-02],\n",
              "       [4.25903823e-02, 9.57409618e-01],\n",
              "       [1.58446711e-01, 8.41553289e-01],\n",
              "       [4.40254150e-02, 9.55974585e-01],\n",
              "       [9.16494901e-01, 8.35050992e-02],\n",
              "       [7.27611002e-01, 2.72388998e-01],\n",
              "       [3.63898366e-01, 6.36101634e-01],\n",
              "       [6.55703453e-01, 3.44296547e-01],\n",
              "       [1.41646900e-02, 9.85835310e-01],\n",
              "       [8.52785824e-01, 1.47214176e-01]])"
            ]
          },
          "metadata": {},
          "execution_count": 69
        }
      ]
    },
    {
      "cell_type": "code",
      "source": [
        "CM=confusion_matrix(Y_test,Y_Predict_Model_2)\n",
        "plt.figure(figsize=(6,4))\n",
        "fg=sn.heatmap(CM,annot=True,cmap='Blues')\n",
        "figure=fg.get_figure()\n",
        "figure.savefig('LoGi.jpg',dpi=350)\n",
        "plt.xlabel(\"Predicted\")\n",
        "plt.ylabel(\"Actual\")\n",
        "plt.show()"
      ],
      "metadata": {
        "colab": {
          "base_uri": "https://localhost:8080/",
          "height": 388
        },
        "id": "l2iDJJyBf9ec",
        "outputId": "96881066-b38e-49eb-9d9a-cf97751a5d86"
      },
      "execution_count": null,
      "outputs": [
        {
          "output_type": "display_data",
          "data": {
            "text/plain": [
              "<Figure size 600x400 with 2 Axes>"
            ],
            "image/png": "[encoded data removed]"
          },
          "metadata": {}
        }
      ]
    },
    {
      "cell_type": "code",
      "source": [
        "print (classification_report(Y_test,Y_Predict_Model_2))\n",
        "\n",
        "print('Confusion matrix:')\n",
        "print(CM)"
      ],
      "metadata": {
        "colab": {
          "base_uri": "https://localhost:8080/"
        },
        "outputId": "b55077ee-e397-4678-d3c8-486c0ace28be",
        "id": "WFY9zWuiRA2g"
      },
      "execution_count": null,
      "outputs": [
        {
          "output_type": "stream",
          "name": "stdout",
          "text": [
            "              precision    recall  f1-score   support\n",
            "\n",
            "           0       0.92      1.00      0.96        11\n",
            "           1       1.00      0.96      0.98        28\n",
            "\n",
            "    accuracy                           0.97        39\n",
            "   macro avg       0.96      0.98      0.97        39\n",
            "weighted avg       0.98      0.97      0.97        39\n",
            "\n",
            "Confusion matrix:\n",
            "[[11  0]\n",
            " [ 1 27]]\n"
          ]
        }
      ]
    },
    {
      "cell_type": "markdown",
      "source": [
        "Decision Tree Model"
      ],
      "metadata": {
        "id": "AN_9ZaHMgnLH"
      }
    },
    {
      "cell_type": "code",
      "source": [
        "from sklearn import tree"
      ],
      "metadata": {
        "id": "QhdfpL_EiDay"
      },
      "execution_count": null,
      "outputs": []
    },
    {
      "cell_type": "code",
      "source": [
        "Model_3=tree.DecisionTreeClassifier()\n",
        "Model_3.fit(X_train,Y_train)"
      ],
      "metadata": {
        "colab": {
          "base_uri": "https://localhost:8080/",
          "height": 74
        },
        "id": "C6YPffOAifUw",
        "outputId": "a56a6273-9150-45e8-a2f3-d386a275c50a"
      },
      "execution_count": null,
      "outputs": [
        {
          "output_type": "execute_result",
          "data": {
            "text/plain": [
              "DecisionTreeClassifier()"
            ],
            "text/html": [
              "<style>#sk-container-id-3 {color: black;background-color: white;}#sk-container-id-3 pre{padding: 0;}#sk-container-id-3 div.sk-toggleable {background-color: white;}#sk-container-id-3 label.sk-toggleable__label {cursor: pointer;display: block;width: 100%;margin-bottom: 0;padding: 0.3em;box-sizing: border-box;text-align: center;}#sk-container-id-3 label.sk-toggleable__label-arrow:before {content: \"▸\";float: left;margin-right: 0.25em;color: #696969;}#sk-container-id-3 label.sk-toggleable__label-arrow:hover:before {color: black;}#sk-container-id-3 div.sk-estimator:hover label.sk-toggleable__label-arrow:before {color: black;}#sk-container-id-3 div.sk-toggleable__content {max-height: 0;max-width: 0;overflow: hidden;text-align: left;background-color: #f0f8ff;}#sk-container-id-3 div.sk-toggleable__content pre {margin: 0.2em;color: black;border-radius: 0.25em;background-color: #f0f8ff;}#sk-container-id-3 input.sk-toggleable__control:checked~div.sk-toggleable__content {max-height: 200px;max-width: 100%;overflow: auto;}#sk-container-id-3 input.sk-toggleable__control:checked~label.sk-toggleable__label-arrow:before {content: \"▾\";}#sk-container-id-3 div.sk-estimator input.sk-toggleable__control:checked~label.sk-toggleable__label {background-color: #d4ebff;}#sk-container-id-3 div.sk-label input.sk-toggleable__control:checked~label.sk-toggleable__label {background-color: #d4ebff;}#sk-container-id-3 input.sk-hidden--visually {border: 0;clip: rect(1px 1px 1px 1px);clip: rect(1px, 1px, 1px, 1px);height: 1px;margin: -1px;overflow: hidden;padding: 0;position: absolute;width: 1px;}#sk-container-id-3 div.sk-estimator {font-family: monospace;background-color: #f0f8ff;border: 1px dotted black;border-radius: 0.25em;box-sizing: border-box;margin-bottom: 0.5em;}#sk-container-id-3 div.sk-estimator:hover {background-color: #d4ebff;}#sk-container-id-3 div.sk-parallel-item::after {content: \"\";width: 100%;border-bottom: 1px solid gray;flex-grow: 1;}#sk-container-id-3 div.sk-label:hover label.sk-toggleable__label {background-color: #d4ebff;}#sk-container-id-3 div.sk-serial::before {content: \"\";position: absolute;border-left: 1px solid gray;box-sizing: border-box;top: 0;bottom: 0;left: 50%;z-index: 0;}#sk-container-id-3 div.sk-serial {display: flex;flex-direction: column;align-items: center;background-color: white;padding-right: 0.2em;padding-left: 0.2em;position: relative;}#sk-container-id-3 div.sk-item {position: relative;z-index: 1;}#sk-container-id-3 div.sk-parallel {display: flex;align-items: stretch;justify-content: center;background-color: white;position: relative;}#sk-container-id-3 div.sk-item::before, #sk-container-id-3 div.sk-parallel-item::before {content: \"\";position: absolute;border-left: 1px solid gray;box-sizing: border-box;top: 0;bottom: 0;left: 50%;z-index: -1;}#sk-container-id-3 div.sk-parallel-item {display: flex;flex-direction: column;z-index: 1;position: relative;background-color: white;}#sk-container-id-3 div.sk-parallel-item:first-child::after {align-self: flex-end;width: 50%;}#sk-container-id-3 div.sk-parallel-item:last-child::after {align-self: flex-start;width: 50%;}#sk-container-id-3 div.sk-parallel-item:only-child::after {width: 0;}#sk-container-id-3 div.sk-dashed-wrapped {border: 1px dashed gray;margin: 0 0.4em 0.5em 0.4em;box-sizing: border-box;padding-bottom: 0.4em;background-color: white;}#sk-container-id-3 div.sk-label label {font-family: monospace;font-weight: bold;display: inline-block;line-height: 1.2em;}#sk-container-id-3 div.sk-label-container {text-align: center;}#sk-container-id-3 div.sk-container {/* jupyter's `normalize.less` sets `[hidden] { display: none; }` but bootstrap.min.css set `[hidden] { display: none !important; }` so we also need the `!important` here to be able to override the default hidden behavior on the sphinx rendered scikit-learn.org. See: https://github.com/scikit-learn/scikit-learn/issues/21755 */display: inline-block !important;position: relative;}#sk-container-id-3 div.sk-text-repr-fallback {display: none;}</style><div id=\"sk-container-id-3\" class=\"sk-top-container\"><div class=\"sk-text-repr-fallback\"><pre>DecisionTreeClassifier()</pre><b>In a Jupyter environment, please rerun this cell to show the HTML representation or trust the notebook. <br />On GitHub, the HTML representation is unable to render, please try loading this page with nbviewer.org.</b></div><div class=\"sk-container\" hidden><div class=\"sk-item\"><div class=\"sk-estimator sk-toggleable\"><input class=\"sk-toggleable__control sk-hidden--visually\" id=\"sk-estimator-id-3\" type=\"checkbox\" checked><label for=\"sk-estimator-id-3\" class=\"sk-toggleable__label sk-toggleable__label-arrow\">DecisionTreeClassifier</label><div class=\"sk-toggleable__content\"><pre>DecisionTreeClassifier()</pre></div></div></div></div></div>"
            ]
          },
          "metadata": {},
          "execution_count": 73
        }
      ]
    },
    {
      "cell_type": "code",
      "source": [
        "Y_Predict_Model_3=Model_3.predict(X_test)\n",
        "Y_Predict_Model_3"
      ],
      "metadata": {
        "colab": {
          "base_uri": "https://localhost:8080/"
        },
        "id": "uswvR4zmjMWw",
        "outputId": "26b05d29-a4f9-46c7-fe57-6c0fe7ca6624"
      },
      "execution_count": null,
      "outputs": [
        {
          "output_type": "execute_result",
          "data": {
            "text/plain": [
              "array([1, 1, 1, 1, 1, 1, 0, 1, 1, 1, 1, 1, 1, 1, 1, 0, 1, 1, 1, 1, 1, 0,\n",
              "       0, 0, 1, 1, 1, 1, 1, 0, 1, 1, 1, 0, 0, 1, 0, 1, 0])"
            ]
          },
          "metadata": {},
          "execution_count": 74
        }
      ]
    },
    {
      "cell_type": "code",
      "source": [
        "Y_test"
      ],
      "metadata": {
        "colab": {
          "base_uri": "https://localhost:8080/"
        },
        "id": "ZMTSsji4jkOR",
        "outputId": "2df25c7a-3e07-400d-d69d-c3cb0ff860dc"
      },
      "execution_count": null,
      "outputs": [
        {
          "output_type": "execute_result",
          "data": {
            "text/plain": [
              "array([1, 1, 1, 1, 0, 1, 0, 1, 1, 1, 1, 1, 1, 1, 1, 0, 1, 1, 1, 1, 1, 0,\n",
              "       0, 1, 1, 1, 1, 1, 0, 0, 1, 1, 1, 0, 0, 1, 0, 1, 0])"
            ]
          },
          "metadata": {},
          "execution_count": 75
        }
      ]
    },
    {
      "cell_type": "code",
      "source": [
        "Accuracy_3=Model_3.score(X_test,Y_test)\n",
        "print(\"Decision Tree Model Accuracy:\",Accuracy_3)"
      ],
      "metadata": {
        "colab": {
          "base_uri": "https://localhost:8080/"
        },
        "id": "vK_GHLmjjwUw",
        "outputId": "927ea5dd-da67-4aa5-fcf5-559acd96a23d"
      },
      "execution_count": null,
      "outputs": [
        {
          "output_type": "stream",
          "name": "stdout",
          "text": [
            "Decision Tree Model Accuracy: 0.9230769230769231\n"
          ]
        }
      ]
    },
    {
      "cell_type": "code",
      "source": [
        "CM=confusion_matrix(Y_test,Y_Predict_Model_3)\n",
        "plt.figure(figsize=(6,4))\n",
        "fg=sn.heatmap(CM,annot=True,cmap='Blues')\n",
        "figure=fg.get_figure()\n",
        "figure.savefig('DTM.jpg',dpi=350)\n",
        "plt.xlabel(\"Predicted\")\n",
        "plt.ylabel(\"Actual\")\n",
        "plt.show()"
      ],
      "metadata": {
        "colab": {
          "base_uri": "https://localhost:8080/",
          "height": 388
        },
        "id": "R7gsZrKZj4uh",
        "outputId": "dd60358c-f041-4554-d895-31e968aec1d5"
      },
      "execution_count": null,
      "outputs": [
        {
          "output_type": "display_data",
          "data": {
            "text/plain": [
              "<Figure size 600x400 with 2 Axes>"
            ],
            "image/png": "[encoded data removed]"
          },
          "metadata": {}
        }
      ]
    },
    {
      "cell_type": "code",
      "source": [
        "print (classification_report(Y_test,Y_Predict_Model_1))\n",
        "\n",
        "print('Confusion matrix:')\n",
        "print(CM)"
      ],
      "metadata": {
        "colab": {
          "base_uri": "https://localhost:8080/"
        },
        "outputId": "0ad72fb6-f842-4686-cf92-2f47885abeca",
        "id": "2t1n8SsxRI4-"
      },
      "execution_count": null,
      "outputs": [
        {
          "output_type": "stream",
          "name": "stdout",
          "text": [
            "              precision    recall  f1-score   support\n",
            "\n",
            "           0       1.00      0.73      0.84        11\n",
            "           1       0.90      1.00      0.95        28\n",
            "\n",
            "    accuracy                           0.92        39\n",
            "   macro avg       0.95      0.86      0.90        39\n",
            "weighted avg       0.93      0.92      0.92        39\n",
            "\n",
            "Confusion matrix:\n",
            "[[ 9  2]\n",
            " [ 1 27]]\n"
          ]
        }
      ]
    },
    {
      "cell_type": "markdown",
      "source": [
        "Support Vector Machines"
      ],
      "metadata": {
        "id": "eLsxi6rRkS6W"
      }
    },
    {
      "cell_type": "code",
      "source": [
        "from sklearn.svm import SVC"
      ],
      "metadata": {
        "id": "cLVfqBxukXC0"
      },
      "execution_count": null,
      "outputs": []
    },
    {
      "cell_type": "code",
      "source": [
        "Model_4=SVC(C=8)\n",
        "Model_4.fit(X_train,Y_train)"
      ],
      "metadata": {
        "id": "rrlmWX1Skqp4",
        "colab": {
          "base_uri": "https://localhost:8080/",
          "height": 74
        },
        "outputId": "4dce4a9c-020a-4618-9548-2da6e3d2c0c5"
      },
      "execution_count": null,
      "outputs": [
        {
          "output_type": "execute_result",
          "data": {
            "text/plain": [
              "SVC(C=8)"
            ],
            "text/html": [
              "<style>#sk-container-id-4 {color: black;background-color: white;}#sk-container-id-4 pre{padding: 0;}#sk-container-id-4 div.sk-toggleable {background-color: white;}#sk-container-id-4 label.sk-toggleable__label {cursor: pointer;display: block;width: 100%;margin-bottom: 0;padding: 0.3em;box-sizing: border-box;text-align: center;}#sk-container-id-4 label.sk-toggleable__label-arrow:before {content: \"▸\";float: left;margin-right: 0.25em;color: #696969;}#sk-container-id-4 label.sk-toggleable__label-arrow:hover:before {color: black;}#sk-container-id-4 div.sk-estimator:hover label.sk-toggleable__label-arrow:before {color: black;}#sk-container-id-4 div.sk-toggleable__content {max-height: 0;max-width: 0;overflow: hidden;text-align: left;background-color: #f0f8ff;}#sk-container-id-4 div.sk-toggleable__content pre {margin: 0.2em;color: black;border-radius: 0.25em;background-color: #f0f8ff;}#sk-container-id-4 input.sk-toggleable__control:checked~div.sk-toggleable__content {max-height: 200px;max-width: 100%;overflow: auto;}#sk-container-id-4 input.sk-toggleable__control:checked~label.sk-toggleable__label-arrow:before {content: \"▾\";}#sk-container-id-4 div.sk-estimator input.sk-toggleable__control:checked~label.sk-toggleable__label {background-color: #d4ebff;}#sk-container-id-4 div.sk-label input.sk-toggleable__control:checked~label.sk-toggleable__label {background-color: #d4ebff;}#sk-container-id-4 input.sk-hidden--visually {border: 0;clip: rect(1px 1px 1px 1px);clip: rect(1px, 1px, 1px, 1px);height: 1px;margin: -1px;overflow: hidden;padding: 0;position: absolute;width: 1px;}#sk-container-id-4 div.sk-estimator {font-family: monospace;background-color: #f0f8ff;border: 1px dotted black;border-radius: 0.25em;box-sizing: border-box;margin-bottom: 0.5em;}#sk-container-id-4 div.sk-estimator:hover {background-color: #d4ebff;}#sk-container-id-4 div.sk-parallel-item::after {content: \"\";width: 100%;border-bottom: 1px solid gray;flex-grow: 1;}#sk-container-id-4 div.sk-label:hover label.sk-toggleable__label {background-color: #d4ebff;}#sk-container-id-4 div.sk-serial::before {content: \"\";position: absolute;border-left: 1px solid gray;box-sizing: border-box;top: 0;bottom: 0;left: 50%;z-index: 0;}#sk-container-id-4 div.sk-serial {display: flex;flex-direction: column;align-items: center;background-color: white;padding-right: 0.2em;padding-left: 0.2em;position: relative;}#sk-container-id-4 div.sk-item {position: relative;z-index: 1;}#sk-container-id-4 div.sk-parallel {display: flex;align-items: stretch;justify-content: center;background-color: white;position: relative;}#sk-container-id-4 div.sk-item::before, #sk-container-id-4 div.sk-parallel-item::before {content: \"\";position: absolute;border-left: 1px solid gray;box-sizing: border-box;top: 0;bottom: 0;left: 50%;z-index: -1;}#sk-container-id-4 div.sk-parallel-item {display: flex;flex-direction: column;z-index: 1;position: relative;background-color: white;}#sk-container-id-4 div.sk-parallel-item:first-child::after {align-self: flex-end;width: 50%;}#sk-container-id-4 div.sk-parallel-item:last-child::after {align-self: flex-start;width: 50%;}#sk-container-id-4 div.sk-parallel-item:only-child::after {width: 0;}#sk-container-id-4 div.sk-dashed-wrapped {border: 1px dashed gray;margin: 0 0.4em 0.5em 0.4em;box-sizing: border-box;padding-bottom: 0.4em;background-color: white;}#sk-container-id-4 div.sk-label label {font-family: monospace;font-weight: bold;display: inline-block;line-height: 1.2em;}#sk-container-id-4 div.sk-label-container {text-align: center;}#sk-container-id-4 div.sk-container {/* jupyter's `normalize.less` sets `[hidden] { display: none; }` but bootstrap.min.css set `[hidden] { display: none !important; }` so we also need the `!important` here to be able to override the default hidden behavior on the sphinx rendered scikit-learn.org. See: https://github.com/scikit-learn/scikit-learn/issues/21755 */display: inline-block !important;position: relative;}#sk-container-id-4 div.sk-text-repr-fallback {display: none;}</style><div id=\"sk-container-id-4\" class=\"sk-top-container\"><div class=\"sk-text-repr-fallback\"><pre>SVC(C=8)</pre><b>In a Jupyter environment, please rerun this cell to show the HTML representation or trust the notebook. <br />On GitHub, the HTML representation is unable to render, please try loading this page with nbviewer.org.</b></div><div class=\"sk-container\" hidden><div class=\"sk-item\"><div class=\"sk-estimator sk-toggleable\"><input class=\"sk-toggleable__control sk-hidden--visually\" id=\"sk-estimator-id-4\" type=\"checkbox\" checked><label for=\"sk-estimator-id-4\" class=\"sk-toggleable__label sk-toggleable__label-arrow\">SVC</label><div class=\"sk-toggleable__content\"><pre>SVC(C=8)</pre></div></div></div></div></div>"
            ]
          },
          "metadata": {},
          "execution_count": 80
        }
      ]
    },
    {
      "cell_type": "code",
      "source": [
        "Accuracy_4=Model_4.score(X_test,Y_test)\n",
        "print(\"SVM Accuracy:\",Accuracy_4)"
      ],
      "metadata": {
        "colab": {
          "base_uri": "https://localhost:8080/"
        },
        "id": "6whiBi2YlTwX",
        "outputId": "fa6a068b-6a68-4423-9255-885c029bff1f"
      },
      "execution_count": null,
      "outputs": [
        {
          "output_type": "stream",
          "name": "stdout",
          "text": [
            "SVM Accuracy: 1.0\n"
          ]
        }
      ]
    },
    {
      "cell_type": "code",
      "source": [
        "Y_Predict_Model_4=Model_4.predict(X_test)\n",
        "Y_Predict_Model_4"
      ],
      "metadata": {
        "colab": {
          "base_uri": "https://localhost:8080/"
        },
        "id": "W8MdzAfLlnOI",
        "outputId": "5b4936ed-05a7-4e60-b398-9c3e397a6451"
      },
      "execution_count": null,
      "outputs": [
        {
          "output_type": "execute_result",
          "data": {
            "text/plain": [
              "array([1, 1, 1, 1, 0, 1, 0, 1, 1, 1, 1, 1, 1, 1, 1, 0, 1, 1, 1, 1, 1, 0,\n",
              "       0, 1, 1, 1, 1, 1, 0, 0, 1, 1, 1, 0, 0, 1, 0, 1, 0])"
            ]
          },
          "metadata": {},
          "execution_count": 82
        }
      ]
    },
    {
      "cell_type": "code",
      "source": [
        "CM=confusion_matrix(Y_test,Y_Predict_Model_4)\n",
        "plt.figure(figsize=(6,4))\n",
        "fg=sn.heatmap(CM,annot=True,cmap='Blues')\n",
        "figure=fg.get_figure()\n",
        "figure.savefig('SVM.jpg',dpi=350)\n",
        "plt.xlabel(\"Predicted\")\n",
        "plt.ylabel(\"Actual\")\n",
        "plt.show()"
      ],
      "metadata": {
        "colab": {
          "base_uri": "https://localhost:8080/",
          "height": 388
        },
        "id": "co_Cb6izlq3b",
        "outputId": "a96a011a-4b3a-4e7e-9056-69f8dcacfd58"
      },
      "execution_count": null,
      "outputs": [
        {
          "output_type": "display_data",
          "data": {
            "text/plain": [
              "<Figure size 600x400 with 2 Axes>"
            ],
            "image/png": "[encoded data removed]"
          },
          "metadata": {}
        }
      ]
    },
    {
      "cell_type": "code",
      "source": [
        "print (classification_report(Y_test,Y_Predict_Model_4))\n",
        "\n",
        "print('Confusion matrix:')\n",
        "print(CM)"
      ],
      "metadata": {
        "colab": {
          "base_uri": "https://localhost:8080/"
        },
        "outputId": "0cd61584-ad08-439c-a10e-2d34e9405fd1",
        "id": "QFRlfJ4fRPFA"
      },
      "execution_count": null,
      "outputs": [
        {
          "output_type": "stream",
          "name": "stdout",
          "text": [
            "              precision    recall  f1-score   support\n",
            "\n",
            "           0       1.00      1.00      1.00        11\n",
            "           1       1.00      1.00      1.00        28\n",
            "\n",
            "    accuracy                           1.00        39\n",
            "   macro avg       1.00      1.00      1.00        39\n",
            "weighted avg       1.00      1.00      1.00        39\n",
            "\n",
            "Confusion matrix:\n",
            "[[11  0]\n",
            " [ 0 28]]\n"
          ]
        }
      ]
    },
    {
      "cell_type": "markdown",
      "source": [
        "Random Forest Classifier"
      ],
      "metadata": {
        "id": "WA33NFZEl7Ql"
      }
    },
    {
      "cell_type": "code",
      "source": [
        "from sklearn.ensemble import RandomForestClassifier\n",
        "Model_5=RandomForestClassifier()"
      ],
      "metadata": {
        "id": "mV-y8fGel6-h"
      },
      "execution_count": null,
      "outputs": []
    },
    {
      "cell_type": "code",
      "source": [
        "Model_5.fit(X_train,Y_train)"
      ],
      "metadata": {
        "colab": {
          "base_uri": "https://localhost:8080/",
          "height": 74
        },
        "id": "5qkFnk4Wn0to",
        "outputId": "da6891f8-248b-4028-ae10-f692e18e67b7"
      },
      "execution_count": null,
      "outputs": [
        {
          "output_type": "execute_result",
          "data": {
            "text/plain": [
              "RandomForestClassifier()"
            ],
            "text/html": [
              "<style>#sk-container-id-5 {color: black;background-color: white;}#sk-container-id-5 pre{padding: 0;}#sk-container-id-5 div.sk-toggleable {background-color: white;}#sk-container-id-5 label.sk-toggleable__label {cursor: pointer;display: block;width: 100%;margin-bottom: 0;padding: 0.3em;box-sizing: border-box;text-align: center;}#sk-container-id-5 label.sk-toggleable__label-arrow:before {content: \"▸\";float: left;margin-right: 0.25em;color: #696969;}#sk-container-id-5 label.sk-toggleable__label-arrow:hover:before {color: black;}#sk-container-id-5 div.sk-estimator:hover label.sk-toggleable__label-arrow:before {color: black;}#sk-container-id-5 div.sk-toggleable__content {max-height: 0;max-width: 0;overflow: hidden;text-align: left;background-color: #f0f8ff;}#sk-container-id-5 div.sk-toggleable__content pre {margin: 0.2em;color: black;border-radius: 0.25em;background-color: #f0f8ff;}#sk-container-id-5 input.sk-toggleable__control:checked~div.sk-toggleable__content {max-height: 200px;max-width: 100%;overflow: auto;}#sk-container-id-5 input.sk-toggleable__control:checked~label.sk-toggleable__label-arrow:before {content: \"▾\";}#sk-container-id-5 div.sk-estimator input.sk-toggleable__control:checked~label.sk-toggleable__label {background-color: #d4ebff;}#sk-container-id-5 div.sk-label input.sk-toggleable__control:checked~label.sk-toggleable__label {background-color: #d4ebff;}#sk-container-id-5 input.sk-hidden--visually {border: 0;clip: rect(1px 1px 1px 1px);clip: rect(1px, 1px, 1px, 1px);height: 1px;margin: -1px;overflow: hidden;padding: 0;position: absolute;width: 1px;}#sk-container-id-5 div.sk-estimator {font-family: monospace;background-color: #f0f8ff;border: 1px dotted black;border-radius: 0.25em;box-sizing: border-box;margin-bottom: 0.5em;}#sk-container-id-5 div.sk-estimator:hover {background-color: #d4ebff;}#sk-container-id-5 div.sk-parallel-item::after {content: \"\";width: 100%;border-bottom: 1px solid gray;flex-grow: 1;}#sk-container-id-5 div.sk-label:hover label.sk-toggleable__label {background-color: #d4ebff;}#sk-container-id-5 div.sk-serial::before {content: \"\";position: absolute;border-left: 1px solid gray;box-sizing: border-box;top: 0;bottom: 0;left: 50%;z-index: 0;}#sk-container-id-5 div.sk-serial {display: flex;flex-direction: column;align-items: center;background-color: white;padding-right: 0.2em;padding-left: 0.2em;position: relative;}#sk-container-id-5 div.sk-item {position: relative;z-index: 1;}#sk-container-id-5 div.sk-parallel {display: flex;align-items: stretch;justify-content: center;background-color: white;position: relative;}#sk-container-id-5 div.sk-item::before, #sk-container-id-5 div.sk-parallel-item::before {content: \"\";position: absolute;border-left: 1px solid gray;box-sizing: border-box;top: 0;bottom: 0;left: 50%;z-index: -1;}#sk-container-id-5 div.sk-parallel-item {display: flex;flex-direction: column;z-index: 1;position: relative;background-color: white;}#sk-container-id-5 div.sk-parallel-item:first-child::after {align-self: flex-end;width: 50%;}#sk-container-id-5 div.sk-parallel-item:last-child::after {align-self: flex-start;width: 50%;}#sk-container-id-5 div.sk-parallel-item:only-child::after {width: 0;}#sk-container-id-5 div.sk-dashed-wrapped {border: 1px dashed gray;margin: 0 0.4em 0.5em 0.4em;box-sizing: border-box;padding-bottom: 0.4em;background-color: white;}#sk-container-id-5 div.sk-label label {font-family: monospace;font-weight: bold;display: inline-block;line-height: 1.2em;}#sk-container-id-5 div.sk-label-container {text-align: center;}#sk-container-id-5 div.sk-container {/* jupyter's `normalize.less` sets `[hidden] { display: none; }` but bootstrap.min.css set `[hidden] { display: none !important; }` so we also need the `!important` here to be able to override the default hidden behavior on the sphinx rendered scikit-learn.org. See: https://github.com/scikit-learn/scikit-learn/issues/21755 */display: inline-block !important;position: relative;}#sk-container-id-5 div.sk-text-repr-fallback {display: none;}</style><div id=\"sk-container-id-5\" class=\"sk-top-container\"><div class=\"sk-text-repr-fallback\"><pre>RandomForestClassifier()</pre><b>In a Jupyter environment, please rerun this cell to show the HTML representation or trust the notebook. <br />On GitHub, the HTML representation is unable to render, please try loading this page with nbviewer.org.</b></div><div class=\"sk-container\" hidden><div class=\"sk-item\"><div class=\"sk-estimator sk-toggleable\"><input class=\"sk-toggleable__control sk-hidden--visually\" id=\"sk-estimator-id-5\" type=\"checkbox\" checked><label for=\"sk-estimator-id-5\" class=\"sk-toggleable__label sk-toggleable__label-arrow\">RandomForestClassifier</label><div class=\"sk-toggleable__content\"><pre>RandomForestClassifier()</pre></div></div></div></div></div>"
            ]
          },
          "metadata": {},
          "execution_count": 86
        }
      ]
    },
    {
      "cell_type": "code",
      "source": [
        "Accuracy_5=Model_5.score(X_test,Y_test)\n",
        "print(\"Random Forest Classifier Accuracy:\",Accuracy_5)"
      ],
      "metadata": {
        "colab": {
          "base_uri": "https://localhost:8080/"
        },
        "id": "zbnpelz2oFtm",
        "outputId": "f66efbd7-6807-4553-824e-cce50a7f9f77"
      },
      "execution_count": null,
      "outputs": [
        {
          "output_type": "stream",
          "name": "stdout",
          "text": [
            "Random Forest Classifier Accuracy: 0.9487179487179487\n"
          ]
        }
      ]
    },
    {
      "cell_type": "code",
      "source": [
        "Y_Predict_Model_5=Model_5.predict(X_test)\n",
        "Y_Predict_Model_5"
      ],
      "metadata": {
        "colab": {
          "base_uri": "https://localhost:8080/"
        },
        "id": "LBZwCE9So4nS",
        "outputId": "d21390bd-61eb-415b-e222-5250b9dda548"
      },
      "execution_count": null,
      "outputs": [
        {
          "output_type": "execute_result",
          "data": {
            "text/plain": [
              "array([1, 1, 1, 1, 0, 1, 1, 1, 1, 1, 0, 1, 1, 1, 1, 0, 1, 1, 1, 1, 1, 0,\n",
              "       0, 1, 1, 1, 1, 1, 0, 0, 1, 1, 1, 0, 0, 1, 0, 1, 0])"
            ]
          },
          "metadata": {},
          "execution_count": 88
        }
      ]
    },
    {
      "cell_type": "code",
      "source": [
        "Y_test"
      ],
      "metadata": {
        "colab": {
          "base_uri": "https://localhost:8080/"
        },
        "id": "oECcSP_xo_x2",
        "outputId": "b2265c6d-c344-4188-d3bc-9a13c48f9a6e"
      },
      "execution_count": null,
      "outputs": [
        {
          "output_type": "execute_result",
          "data": {
            "text/plain": [
              "array([1, 1, 1, 1, 0, 1, 0, 1, 1, 1, 1, 1, 1, 1, 1, 0, 1, 1, 1, 1, 1, 0,\n",
              "       0, 1, 1, 1, 1, 1, 0, 0, 1, 1, 1, 0, 0, 1, 0, 1, 0])"
            ]
          },
          "metadata": {},
          "execution_count": 89
        }
      ]
    },
    {
      "cell_type": "code",
      "source": [
        "CM=confusion_matrix(Y_test,Y_Predict_Model_5)\n",
        "plt.figure(figsize=(6,4))\n",
        "fg=sn.heatmap(CM,annot=True,cmap='Blues')\n",
        "figure=fg.get_figure()\n",
        "figure.savefig('RanFor.jpg',dpi=350)\n",
        "plt.xlabel(\"Predicted\")\n",
        "plt.ylabel(\"Actual\")\n",
        "plt.show()"
      ],
      "metadata": {
        "colab": {
          "base_uri": "https://localhost:8080/",
          "height": 388
        },
        "id": "PI6l5bVIpEUq",
        "outputId": "a306d853-32d6-47cd-9625-fce2271473b2"
      },
      "execution_count": null,
      "outputs": [
        {
          "output_type": "display_data",
          "data": {
            "text/plain": [
              "<Figure size 600x400 with 2 Axes>"
            ],
            "image/png": "[encoded data removed]"
          },
          "metadata": {}
        }
      ]
    },
    {
      "cell_type": "code",
      "source": [
        "print (classification_report(Y_test,Y_Predict_Model_5))\n",
        "\n",
        "print('Confusion matrix:')\n",
        "print(CM)"
      ],
      "metadata": {
        "colab": {
          "base_uri": "https://localhost:8080/"
        },
        "outputId": "edb3c796-6d79-4611-e68f-446ff075b2a7",
        "id": "gtqv3qPwRYVk"
      },
      "execution_count": null,
      "outputs": [
        {
          "output_type": "stream",
          "name": "stdout",
          "text": [
            "              precision    recall  f1-score   support\n",
            "\n",
            "           0       0.91      0.91      0.91        11\n",
            "           1       0.96      0.96      0.96        28\n",
            "\n",
            "    accuracy                           0.95        39\n",
            "   macro avg       0.94      0.94      0.94        39\n",
            "weighted avg       0.95      0.95      0.95        39\n",
            "\n",
            "Confusion matrix:\n",
            "[[10  1]\n",
            " [ 1 27]]\n"
          ]
        }
      ]
    },
    {
      "cell_type": "markdown",
      "source": [
        "XGBooster"
      ],
      "metadata": {
        "id": "uz0H8-0Up0HW"
      }
    },
    {
      "cell_type": "code",
      "source": [
        "from xgboost import XGBClassifier"
      ],
      "metadata": {
        "id": "-a9Z-IYlqoKi"
      },
      "execution_count": null,
      "outputs": []
    },
    {
      "cell_type": "code",
      "source": [
        "Model_6=XGBClassifier()"
      ],
      "metadata": {
        "id": "TjtsOLQ2qy8e"
      },
      "execution_count": null,
      "outputs": []
    },
    {
      "cell_type": "code",
      "source": [
        "Model_6.fit(X_train,Y_train)"
      ],
      "metadata": {
        "colab": {
          "base_uri": "https://localhost:8080/",
          "height": 248
        },
        "id": "GQuKcXYHr1cf",
        "outputId": "fc6d9249-7d9d-45aa-9042-4c98a0166b56"
      },
      "execution_count": null,
      "outputs": [
        {
          "output_type": "execute_result",
          "data": {
            "text/plain": [
              "XGBClassifier(base_score=None, booster=None, callbacks=None,\n",
              "              colsample_bylevel=None, colsample_bynode=None,\n",
              "              colsample_bytree=None, early_stopping_rounds=None,\n",
              "              enable_categorical=False, eval_metric=None, feature_types=None,\n",
              "              gamma=None, gpu_id=None, grow_policy=None, importance_type=None,\n",
              "              interaction_constraints=None, learning_rate=None, max_bin=None,\n",
              "              max_cat_threshold=None, max_cat_to_onehot=None,\n",
              "              max_delta_step=None, max_depth=None, max_leaves=None,\n",
              "              min_child_weight=None, missing=nan, monotone_constraints=None,\n",
              "              n_estimators=100, n_jobs=None, num_parallel_tree=None,\n",
              "              predictor=None, random_state=None, ...)"
            ],
            "text/html": [
              "<style>#sk-container-id-6 {color: black;background-color: white;}#sk-container-id-6 pre{padding: 0;}#sk-container-id-6 div.sk-toggleable {background-color: white;}#sk-container-id-6 label.sk-toggleable__label {cursor: pointer;display: block;width: 100%;margin-bottom: 0;padding: 0.3em;box-sizing: border-box;text-align: center;}#sk-container-id-6 label.sk-toggleable__label-arrow:before {content: \"▸\";float: left;margin-right: 0.25em;color: #696969;}#sk-container-id-6 label.sk-toggleable__label-arrow:hover:before {color: black;}#sk-container-id-6 div.sk-estimator:hover label.sk-toggleable__label-arrow:before {color: black;}#sk-container-id-6 div.sk-toggleable__content {max-height: 0;max-width: 0;overflow: hidden;text-align: left;background-color: #f0f8ff;}#sk-container-id-6 div.sk-toggleable__content pre {margin: 0.2em;color: black;border-radius: 0.25em;background-color: #f0f8ff;}#sk-container-id-6 input.sk-toggleable__control:checked~div.sk-toggleable__content {max-height: 200px;max-width: 100%;overflow: auto;}#sk-container-id-6 input.sk-toggleable__control:checked~label.sk-toggleable__label-arrow:before {content: \"▾\";}#sk-container-id-6 div.sk-estimator input.sk-toggleable__control:checked~label.sk-toggleable__label {background-color: #d4ebff;}#sk-container-id-6 div.sk-label input.sk-toggleable__control:checked~label.sk-toggleable__label {background-color: #d4ebff;}#sk-container-id-6 input.sk-hidden--visually {border: 0;clip: rect(1px 1px 1px 1px);clip: rect(1px, 1px, 1px, 1px);height: 1px;margin: -1px;overflow: hidden;padding: 0;position: absolute;width: 1px;}#sk-container-id-6 div.sk-estimator {font-family: monospace;background-color: #f0f8ff;border: 1px dotted black;border-radius: 0.25em;box-sizing: border-box;margin-bottom: 0.5em;}#sk-container-id-6 div.sk-estimator:hover {background-color: #d4ebff;}#sk-container-id-6 div.sk-parallel-item::after {content: \"\";width: 100%;border-bottom: 1px solid gray;flex-grow: 1;}#sk-container-id-6 div.sk-label:hover label.sk-toggleable__label {background-color: #d4ebff;}#sk-container-id-6 div.sk-serial::before {content: \"\";position: absolute;border-left: 1px solid gray;box-sizing: border-box;top: 0;bottom: 0;left: 50%;z-index: 0;}#sk-container-id-6 div.sk-serial {display: flex;flex-direction: column;align-items: center;background-color: white;padding-right: 0.2em;padding-left: 0.2em;position: relative;}#sk-container-id-6 div.sk-item {position: relative;z-index: 1;}#sk-container-id-6 div.sk-parallel {display: flex;align-items: stretch;justify-content: center;background-color: white;position: relative;}#sk-container-id-6 div.sk-item::before, #sk-container-id-6 div.sk-parallel-item::before {content: \"\";position: absolute;border-left: 1px solid gray;box-sizing: border-box;top: 0;bottom: 0;left: 50%;z-index: -1;}#sk-container-id-6 div.sk-parallel-item {display: flex;flex-direction: column;z-index: 1;position: relative;background-color: white;}#sk-container-id-6 div.sk-parallel-item:first-child::after {align-self: flex-end;width: 50%;}#sk-container-id-6 div.sk-parallel-item:last-child::after {align-self: flex-start;width: 50%;}#sk-container-id-6 div.sk-parallel-item:only-child::after {width: 0;}#sk-container-id-6 div.sk-dashed-wrapped {border: 1px dashed gray;margin: 0 0.4em 0.5em 0.4em;box-sizing: border-box;padding-bottom: 0.4em;background-color: white;}#sk-container-id-6 div.sk-label label {font-family: monospace;font-weight: bold;display: inline-block;line-height: 1.2em;}#sk-container-id-6 div.sk-label-container {text-align: center;}#sk-container-id-6 div.sk-container {/* jupyter's `normalize.less` sets `[hidden] { display: none; }` but bootstrap.min.css set `[hidden] { display: none !important; }` so we also need the `!important` here to be able to override the default hidden behavior on the sphinx rendered scikit-learn.org. See: https://github.com/scikit-learn/scikit-learn/issues/21755 */display: inline-block !important;position: relative;}#sk-container-id-6 div.sk-text-repr-fallback {display: none;}</style><div id=\"sk-container-id-6\" class=\"sk-top-container\"><div class=\"sk-text-repr-fallback\"><pre>XGBClassifier(base_score=None, booster=None, callbacks=None,\n",
              "              colsample_bylevel=None, colsample_bynode=None,\n",
              "              colsample_bytree=None, early_stopping_rounds=None,\n",
              "              enable_categorical=False, eval_metric=None, feature_types=None,\n",
              "              gamma=None, gpu_id=None, grow_policy=None, importance_type=None,\n",
              "              interaction_constraints=None, learning_rate=None, max_bin=None,\n",
              "              max_cat_threshold=None, max_cat_to_onehot=None,\n",
              "              max_delta_step=None, max_depth=None, max_leaves=None,\n",
              "              min_child_weight=None, missing=nan, monotone_constraints=None,\n",
              "              n_estimators=100, n_jobs=None, num_parallel_tree=None,\n",
              "              predictor=None, random_state=None, ...)</pre><b>In a Jupyter environment, please rerun this cell to show the HTML representation or trust the notebook. <br />On GitHub, the HTML representation is unable to render, please try loading this page with nbviewer.org.</b></div><div class=\"sk-container\" hidden><div class=\"sk-item\"><div class=\"sk-estimator sk-toggleable\"><input class=\"sk-toggleable__control sk-hidden--visually\" id=\"sk-estimator-id-6\" type=\"checkbox\" checked><label for=\"sk-estimator-id-6\" class=\"sk-toggleable__label sk-toggleable__label-arrow\">XGBClassifier</label><div class=\"sk-toggleable__content\"><pre>XGBClassifier(base_score=None, booster=None, callbacks=None,\n",
              "              colsample_bylevel=None, colsample_bynode=None,\n",
              "              colsample_bytree=None, early_stopping_rounds=None,\n",
              "              enable_categorical=False, eval_metric=None, feature_types=None,\n",
              "              gamma=None, gpu_id=None, grow_policy=None, importance_type=None,\n",
              "              interaction_constraints=None, learning_rate=None, max_bin=None,\n",
              "              max_cat_threshold=None, max_cat_to_onehot=None,\n",
              "              max_delta_step=None, max_depth=None, max_leaves=None,\n",
              "              min_child_weight=None, missing=nan, monotone_constraints=None,\n",
              "              n_estimators=100, n_jobs=None, num_parallel_tree=None,\n",
              "              predictor=None, random_state=None, ...)</pre></div></div></div></div></div>"
            ]
          },
          "metadata": {},
          "execution_count": 94
        }
      ]
    },
    {
      "cell_type": "code",
      "source": [
        "Accuracy_6=Model_6.score(X_test,Y_test)\n",
        "print(\"Random Forest Classifier Accuracy:\",Accuracy_6)"
      ],
      "metadata": {
        "colab": {
          "base_uri": "https://localhost:8080/"
        },
        "id": "YBcFYUu5sMl3",
        "outputId": "5bd82e4f-5d7f-45be-ffac-8121a4dab242"
      },
      "execution_count": null,
      "outputs": [
        {
          "output_type": "stream",
          "name": "stdout",
          "text": [
            "Random Forest Classifier Accuracy: 1.0\n"
          ]
        }
      ]
    },
    {
      "cell_type": "code",
      "source": [
        "Y_Predict_Model_6=Model_6.predict(X_test)\n",
        "Y_Predict_Model_6"
      ],
      "metadata": {
        "colab": {
          "base_uri": "https://localhost:8080/"
        },
        "id": "GI-JHmFnsVCY",
        "outputId": "9bc64054-21c5-4023-b543-48019a859306"
      },
      "execution_count": null,
      "outputs": [
        {
          "output_type": "execute_result",
          "data": {
            "text/plain": [
              "array([1, 1, 1, 1, 0, 1, 0, 1, 1, 1, 1, 1, 1, 1, 1, 0, 1, 1, 1, 1, 1, 0,\n",
              "       0, 1, 1, 1, 1, 1, 0, 0, 1, 1, 1, 0, 0, 1, 0, 1, 0])"
            ]
          },
          "metadata": {},
          "execution_count": 96
        }
      ]
    },
    {
      "cell_type": "code",
      "source": [
        "Y_test"
      ],
      "metadata": {
        "colab": {
          "base_uri": "https://localhost:8080/"
        },
        "id": "1SEJArA2saZ3",
        "outputId": "26cc1504-b500-4bb3-c467-bd9ac148e136"
      },
      "execution_count": null,
      "outputs": [
        {
          "output_type": "execute_result",
          "data": {
            "text/plain": [
              "array([1, 1, 1, 1, 0, 1, 0, 1, 1, 1, 1, 1, 1, 1, 1, 0, 1, 1, 1, 1, 1, 0,\n",
              "       0, 1, 1, 1, 1, 1, 0, 0, 1, 1, 1, 0, 0, 1, 0, 1, 0])"
            ]
          },
          "metadata": {},
          "execution_count": 97
        }
      ]
    },
    {
      "cell_type": "code",
      "source": [
        "CM=confusion_matrix(Y_test,Y_Predict_Model_6)\n",
        "plt.figure(figsize=(6,4))\n",
        "fg=sn.heatmap(CM,annot=True,cmap='Blues')\n",
        "figure=fg.get_figure()\n",
        "figure.savefig('XGB.jpg',dpi=350)\n",
        "plt.xlabel(\"Predicted\")\n",
        "plt.ylabel(\"Actual\")\n",
        "plt.show()"
      ],
      "metadata": {
        "colab": {
          "base_uri": "https://localhost:8080/",
          "height": 388
        },
        "id": "kdxGndzxsiMa",
        "outputId": "053a148c-52d3-4f8c-cdf8-41b60d1c0a78"
      },
      "execution_count": null,
      "outputs": [
        {
          "output_type": "display_data",
          "data": {
            "text/plain": [
              "<Figure size 600x400 with 2 Axes>"
            ],
            "image/png": "[encoded data removed]"
          },
          "metadata": {}
        }
      ]
    },
    {
      "cell_type": "code",
      "source": [
        "print (classification_report(Y_test,Y_Predict_Model_6))\n",
        "\n",
        "print('Confusion matrix:')\n",
        "print(CM)"
      ],
      "metadata": {
        "colab": {
          "base_uri": "https://localhost:8080/"
        },
        "outputId": "996c9cae-4339-4e63-bc92-22e6741897dc",
        "id": "GSnwSGT8RhJ7"
      },
      "execution_count": null,
      "outputs": [
        {
          "output_type": "stream",
          "name": "stdout",
          "text": [
            "              precision    recall  f1-score   support\n",
            "\n",
            "           0       1.00      1.00      1.00        11\n",
            "           1       1.00      1.00      1.00        28\n",
            "\n",
            "    accuracy                           1.00        39\n",
            "   macro avg       1.00      1.00      1.00        39\n",
            "weighted avg       1.00      1.00      1.00        39\n",
            "\n",
            "Confusion matrix:\n",
            "[[11  0]\n",
            " [ 0 28]]\n"
          ]
        }
      ]
    },
    {
      "cell_type": "markdown",
      "source": [
        "Neural Network"
      ],
      "metadata": {
        "id": "6AZZQh9hs330"
      }
    },
    {
      "cell_type": "code",
      "source": [
        "import tensorflow\n",
        "import keras\n",
        "from keras.layers import Dense"
      ],
      "metadata": {
        "id": "EvhTk4tEtEPv"
      },
      "execution_count": null,
      "outputs": []
    },
    {
      "cell_type": "code",
      "source": [
        "Model_7=keras.Sequential()\n",
        "Model_7.add(Dense(1,input_dim=22,activation='sigmoid'))\n",
        "Model_7.add(Dense(20,activation='sigmoid'))\n",
        "Model_7.add(Dense(12,activation='sigmoid'))\n",
        "Model_7.add(Dense(9,activation='sigmoid'))\n",
        "Model_7.add(Dense(5,activation='sigmoid'))\n",
        "Model_7.add(Dense(1,activation='sigmoid'))\n",
        "Model_7.compile(optimizer='adam',loss='binary_crossentropy',metrics=['accuracy'])\n",
        "Model_7.fit(X_train,Y_train,epochs=1000)"
      ],
      "metadata": {
        "colab": {
          "base_uri": "https://localhost:8080/"
        },
        "id": "t4iuqBThtqF5",
        "outputId": "c5300d95-462f-43ce-a704-42c30a6c1c1e"
      },
      "execution_count": null,
      "outputs": [
        {
          "output_type": "stream",
          "name": "stdout",
          "text": [
            "Epoch 1/1000\n",
            "5/5 [==============================] - 1s 5ms/step - loss: 0.6100 - accuracy: 0.7628\n",
            "Epoch 2/1000\n",
            "5/5 [==============================] - 0s 3ms/step - loss: 0.6017 - accuracy: 0.7628\n",
            "Epoch 3/1000\n",
            "5/5 [==============================] - 0s 3ms/step - loss: 0.5953 - accuracy: 0.7628\n",
            "Epoch 4/1000\n",
            "5/5 [==============================] - 0s 3ms/step - loss: 0.5890 - accuracy: 0.7628\n",
            "Epoch 5/1000\n",
            "5/5 [==============================] - 0s 3ms/step - loss: 0.5826 - accuracy: 0.7628\n",
            "Epoch 6/1000\n",
            "5/5 [==============================] - 0s 3ms/step - loss: 0.5787 - accuracy: 0.7628\n",
            "Epoch 7/1000\n",
            "5/5 [==============================] - 0s 3ms/step - loss: 0.5725 - accuracy: 0.7628\n",
            "Epoch 8/1000\n",
            "5/5 [==============================] - 0s 3ms/step - loss: 0.5696 - accuracy: 0.7628\n",
            "Epoch 9/1000\n",
            "5/5 [==============================] - 0s 3ms/step - loss: 0.5661 - accuracy: 0.7628\n",
            "Epoch 10/1000\n",
            "5/5 [==============================] - 0s 3ms/step - loss: 0.5631 - accuracy: 0.7628\n",
            "Epoch 11/1000\n",
            "5/5 [==============================] - 0s 3ms/step - loss: 0.5605 - accuracy: 0.7628\n",
            "Epoch 12/1000\n",
            "5/5 [==============================] - 0s 3ms/step - loss: 0.5583 - accuracy: 0.7628\n",
            "Epoch 13/1000\n",
            "5/5 [==============================] - 0s 3ms/step - loss: 0.5568 - accuracy: 0.7628\n",
            "Epoch 14/1000\n",
            "5/5 [==============================] - 0s 4ms/step - loss: 0.5553 - accuracy: 0.7628\n",
            "Epoch 15/1000\n",
            "5/5 [==============================] - 0s 3ms/step - loss: 0.5534 - accuracy: 0.7628\n",
            "Epoch 16/1000\n",
            "5/5 [==============================] - 0s 3ms/step - loss: 0.5529 - accuracy: 0.7628\n",
            "Epoch 17/1000\n",
            "5/5 [==============================] - 0s 4ms/step - loss: 0.5515 - accuracy: 0.7628\n",
            "Epoch 18/1000\n",
            "5/5 [==============================] - 0s 3ms/step - loss: 0.5509 - accuracy: 0.7628\n",
            "Epoch 19/1000\n",
            "5/5 [==============================] - 0s 6ms/step - loss: 0.5502 - accuracy: 0.7628\n",
            "Epoch 20/1000\n",
            "5/5 [==============================] - 0s 3ms/step - loss: 0.5500 - accuracy: 0.7628\n",
            "Epoch 21/1000\n",
            "5/5 [==============================] - 0s 3ms/step - loss: 0.5494 - accuracy: 0.7628\n",
            "Epoch 22/1000\n",
            "5/5 [==============================] - 0s 3ms/step - loss: 0.5490 - accuracy: 0.7628\n",
            "Epoch 23/1000\n",
            "5/5 [==============================] - 0s 3ms/step - loss: 0.5487 - accuracy: 0.7628\n",
            "Epoch 24/1000\n",
            "5/5 [==============================] - 0s 3ms/step - loss: 0.5485 - accuracy: 0.7628\n",
            "Epoch 25/1000\n",
            "5/5 [==============================] - 0s 4ms/step - loss: 0.5484 - accuracy: 0.7628\n",
            "Epoch 26/1000\n",
            "5/5 [==============================] - 0s 3ms/step - loss: 0.5482 - accuracy: 0.7628\n",
            "Epoch 27/1000\n",
            "5/5 [==============================] - 0s 3ms/step - loss: 0.5481 - accuracy: 0.7628\n",
            "Epoch 28/1000\n",
            "5/5 [==============================] - 0s 3ms/step - loss: 0.5480 - accuracy: 0.7628\n",
            "Epoch 29/1000\n",
            "5/5 [==============================] - 0s 3ms/step - loss: 0.5478 - accuracy: 0.7628\n",
            "Epoch 30/1000\n",
            "5/5 [==============================] - 0s 3ms/step - loss: 0.5478 - accuracy: 0.7628\n",
            "Epoch 31/1000\n",
            "5/5 [==============================] - 0s 3ms/step - loss: 0.5478 - accuracy: 0.7628\n",
            "Epoch 32/1000\n",
            "5/5 [==============================] - 0s 3ms/step - loss: 0.5476 - accuracy: 0.7628\n",
            "Epoch 33/1000\n",
            "5/5 [==============================] - 0s 3ms/step - loss: 0.5476 - accuracy: 0.7628\n",
            "Epoch 34/1000\n",
            "5/5 [==============================] - 0s 3ms/step - loss: 0.5476 - accuracy: 0.7628\n",
            "Epoch 35/1000\n",
            "5/5 [==============================] - 0s 3ms/step - loss: 0.5475 - accuracy: 0.7628\n",
            "Epoch 36/1000\n",
            "5/5 [==============================] - 0s 3ms/step - loss: 0.5476 - accuracy: 0.7628\n",
            "Epoch 37/1000\n",
            "5/5 [==============================] - 0s 3ms/step - loss: 0.5475 - accuracy: 0.7628\n",
            "Epoch 38/1000\n",
            "5/5 [==============================] - 0s 3ms/step - loss: 0.5475 - accuracy: 0.7628\n",
            "Epoch 39/1000\n",
            "5/5 [==============================] - 0s 3ms/step - loss: 0.5474 - accuracy: 0.7628\n",
            "Epoch 40/1000\n",
            "5/5 [==============================] - 0s 5ms/step - loss: 0.5474 - accuracy: 0.7628\n",
            "Epoch 41/1000\n",
            "5/5 [==============================] - 0s 3ms/step - loss: 0.5474 - accuracy: 0.7628\n",
            "Epoch 42/1000\n",
            "5/5 [==============================] - 0s 4ms/step - loss: 0.5473 - accuracy: 0.7628\n",
            "Epoch 43/1000\n",
            "5/5 [==============================] - 0s 3ms/step - loss: 0.5474 - accuracy: 0.7628\n",
            "Epoch 44/1000\n",
            "5/5 [==============================] - 0s 4ms/step - loss: 0.5473 - accuracy: 0.7628\n",
            "Epoch 45/1000\n",
            "5/5 [==============================] - 0s 3ms/step - loss: 0.5473 - accuracy: 0.7628\n",
            "Epoch 46/1000\n",
            "5/5 [==============================] - 0s 3ms/step - loss: 0.5473 - accuracy: 0.7628\n",
            "Epoch 47/1000\n",
            "5/5 [==============================] - 0s 3ms/step - loss: 0.5473 - accuracy: 0.7628\n",
            "Epoch 48/1000\n",
            "5/5 [==============================] - 0s 3ms/step - loss: 0.5472 - accuracy: 0.7628\n",
            "Epoch 49/1000\n",
            "5/5 [==============================] - 0s 3ms/step - loss: 0.5472 - accuracy: 0.7628\n",
            "Epoch 50/1000\n",
            "5/5 [==============================] - 0s 3ms/step - loss: 0.5472 - accuracy: 0.7628\n",
            "Epoch 51/1000\n",
            "5/5 [==============================] - 0s 3ms/step - loss: 0.5472 - accuracy: 0.7628\n",
            "Epoch 52/1000\n",
            "5/5 [==============================] - 0s 3ms/step - loss: 0.5472 - accuracy: 0.7628\n",
            "Epoch 53/1000\n",
            "5/5 [==============================] - 0s 3ms/step - loss: 0.5471 - accuracy: 0.7628\n",
            "Epoch 54/1000\n",
            "5/5 [==============================] - 0s 3ms/step - loss: 0.5471 - accuracy: 0.7628\n",
            "Epoch 55/1000\n",
            "5/5 [==============================] - 0s 3ms/step - loss: 0.5470 - accuracy: 0.7628\n",
            "Epoch 56/1000\n",
            "5/5 [==============================] - 0s 5ms/step - loss: 0.5471 - accuracy: 0.7628\n",
            "Epoch 57/1000\n",
            "5/5 [==============================] - 0s 3ms/step - loss: 0.5470 - accuracy: 0.7628\n",
            "Epoch 58/1000\n",
            "5/5 [==============================] - 0s 4ms/step - loss: 0.5470 - accuracy: 0.7628\n",
            "Epoch 59/1000\n",
            "5/5 [==============================] - 0s 3ms/step - loss: 0.5469 - accuracy: 0.7628\n",
            "Epoch 60/1000\n",
            "5/5 [==============================] - 0s 3ms/step - loss: 0.5469 - accuracy: 0.7628\n",
            "Epoch 61/1000\n",
            "5/5 [==============================] - 0s 3ms/step - loss: 0.5468 - accuracy: 0.7628\n",
            "Epoch 62/1000\n",
            "5/5 [==============================] - 0s 3ms/step - loss: 0.5470 - accuracy: 0.7628\n",
            "Epoch 63/1000\n",
            "5/5 [==============================] - 0s 3ms/step - loss: 0.5468 - accuracy: 0.7628\n",
            "Epoch 64/1000\n",
            "5/5 [==============================] - 0s 4ms/step - loss: 0.5468 - accuracy: 0.7628\n",
            "Epoch 65/1000\n",
            "5/5 [==============================] - 0s 3ms/step - loss: 0.5467 - accuracy: 0.7628\n",
            "Epoch 66/1000\n",
            "5/5 [==============================] - 0s 3ms/step - loss: 0.5466 - accuracy: 0.7628\n",
            "Epoch 67/1000\n",
            "5/5 [==============================] - 0s 3ms/step - loss: 0.5467 - accuracy: 0.7628\n",
            "Epoch 68/1000\n",
            "5/5 [==============================] - 0s 3ms/step - loss: 0.5466 - accuracy: 0.7628\n",
            "Epoch 69/1000\n",
            "5/5 [==============================] - 0s 3ms/step - loss: 0.5465 - accuracy: 0.7628\n",
            "Epoch 70/1000\n",
            "5/5 [==============================] - 0s 3ms/step - loss: 0.5465 - accuracy: 0.7628\n",
            "Epoch 71/1000\n",
            "5/5 [==============================] - 0s 3ms/step - loss: 0.5465 - accuracy: 0.7628\n",
            "Epoch 72/1000\n",
            "5/5 [==============================] - 0s 3ms/step - loss: 0.5464 - accuracy: 0.7628\n",
            "Epoch 73/1000\n",
            "5/5 [==============================] - 0s 3ms/step - loss: 0.5464 - accuracy: 0.7628\n",
            "Epoch 74/1000\n",
            "5/5 [==============================] - 0s 3ms/step - loss: 0.5463 - accuracy: 0.7628\n",
            "Epoch 75/1000\n",
            "5/5 [==============================] - 0s 3ms/step - loss: 0.5463 - accuracy: 0.7628\n",
            "Epoch 76/1000\n",
            "5/5 [==============================] - 0s 3ms/step - loss: 0.5462 - accuracy: 0.7628\n",
            "Epoch 77/1000\n",
            "5/5 [==============================] - 0s 3ms/step - loss: 0.5462 - accuracy: 0.7628\n",
            "Epoch 78/1000\n",
            "5/5 [==============================] - 0s 3ms/step - loss: 0.5461 - accuracy: 0.7628\n",
            "Epoch 79/1000\n",
            "5/5 [==============================] - 0s 3ms/step - loss: 0.5461 - accuracy: 0.7628\n",
            "Epoch 80/1000\n",
            "5/5 [==============================] - 0s 3ms/step - loss: 0.5460 - accuracy: 0.7628\n",
            "Epoch 81/1000\n",
            "5/5 [==============================] - 0s 3ms/step - loss: 0.5459 - accuracy: 0.7628\n",
            "Epoch 82/1000\n",
            "5/5 [==============================] - 0s 3ms/step - loss: 0.5458 - accuracy: 0.7628\n",
            "Epoch 83/1000\n",
            "5/5 [==============================] - 0s 4ms/step - loss: 0.5457 - accuracy: 0.7628\n",
            "Epoch 84/1000\n",
            "5/5 [==============================] - 0s 3ms/step - loss: 0.5457 - accuracy: 0.7628\n",
            "Epoch 85/1000\n",
            "5/5 [==============================] - 0s 5ms/step - loss: 0.5456 - accuracy: 0.7628\n",
            "Epoch 86/1000\n",
            "5/5 [==============================] - 0s 3ms/step - loss: 0.5455 - accuracy: 0.7628\n",
            "Epoch 87/1000\n",
            "5/5 [==============================] - 0s 4ms/step - loss: 0.5454 - accuracy: 0.7628\n",
            "Epoch 88/1000\n",
            "5/5 [==============================] - 0s 3ms/step - loss: 0.5455 - accuracy: 0.7628\n",
            "Epoch 89/1000\n",
            "5/5 [==============================] - 0s 4ms/step - loss: 0.5452 - accuracy: 0.7628\n",
            "Epoch 90/1000\n",
            "5/5 [==============================] - 0s 3ms/step - loss: 0.5451 - accuracy: 0.7628\n",
            "Epoch 91/1000\n",
            "5/5 [==============================] - 0s 3ms/step - loss: 0.5450 - accuracy: 0.7628\n",
            "Epoch 92/1000\n",
            "5/5 [==============================] - 0s 3ms/step - loss: 0.5449 - accuracy: 0.7628\n",
            "Epoch 93/1000\n",
            "5/5 [==============================] - 0s 3ms/step - loss: 0.5449 - accuracy: 0.7628\n",
            "Epoch 94/1000\n",
            "5/5 [==============================] - 0s 3ms/step - loss: 0.5447 - accuracy: 0.7628\n",
            "Epoch 95/1000\n",
            "5/5 [==============================] - 0s 3ms/step - loss: 0.5445 - accuracy: 0.7628\n",
            "Epoch 96/1000\n",
            "5/5 [==============================] - 0s 3ms/step - loss: 0.5445 - accuracy: 0.7628\n",
            "Epoch 97/1000\n",
            "5/5 [==============================] - 0s 3ms/step - loss: 0.5443 - accuracy: 0.7628\n",
            "Epoch 98/1000\n",
            "5/5 [==============================] - 0s 3ms/step - loss: 0.5442 - accuracy: 0.7628\n",
            "Epoch 99/1000\n",
            "5/5 [==============================] - 0s 3ms/step - loss: 0.5440 - accuracy: 0.7628\n",
            "Epoch 100/1000\n",
            "5/5 [==============================] - 0s 3ms/step - loss: 0.5439 - accuracy: 0.7628\n",
            "Epoch 101/1000\n",
            "5/5 [==============================] - 0s 4ms/step - loss: 0.5437 - accuracy: 0.7628\n",
            "Epoch 102/1000\n",
            "5/5 [==============================] - 0s 3ms/step - loss: 0.5435 - accuracy: 0.7628\n",
            "Epoch 103/1000\n",
            "5/5 [==============================] - 0s 3ms/step - loss: 0.5434 - accuracy: 0.7628\n",
            "Epoch 104/1000\n",
            "5/5 [==============================] - 0s 3ms/step - loss: 0.5431 - accuracy: 0.7628\n",
            "Epoch 105/1000\n",
            "5/5 [==============================] - 0s 3ms/step - loss: 0.5430 - accuracy: 0.7628\n",
            "Epoch 106/1000\n",
            "5/5 [==============================] - 0s 3ms/step - loss: 0.5428 - accuracy: 0.7628\n",
            "Epoch 107/1000\n",
            "5/5 [==============================] - 0s 3ms/step - loss: 0.5425 - accuracy: 0.7628\n",
            "Epoch 108/1000\n",
            "5/5 [==============================] - 0s 3ms/step - loss: 0.5423 - accuracy: 0.7628\n",
            "Epoch 109/1000\n",
            "5/5 [==============================] - 0s 3ms/step - loss: 0.5421 - accuracy: 0.7628\n",
            "Epoch 110/1000\n",
            "5/5 [==============================] - 0s 3ms/step - loss: 0.5418 - accuracy: 0.7628\n",
            "Epoch 111/1000\n",
            "5/5 [==============================] - 0s 4ms/step - loss: 0.5415 - accuracy: 0.7628\n",
            "Epoch 112/1000\n",
            "5/5 [==============================] - 0s 5ms/step - loss: 0.5412 - accuracy: 0.7628\n",
            "Epoch 113/1000\n",
            "5/5 [==============================] - 0s 3ms/step - loss: 0.5410 - accuracy: 0.7628\n",
            "Epoch 114/1000\n",
            "5/5 [==============================] - 0s 3ms/step - loss: 0.5406 - accuracy: 0.7628\n",
            "Epoch 115/1000\n",
            "5/5 [==============================] - 0s 3ms/step - loss: 0.5403 - accuracy: 0.7628\n",
            "Epoch 116/1000\n",
            "5/5 [==============================] - 0s 3ms/step - loss: 0.5399 - accuracy: 0.7628\n",
            "Epoch 117/1000\n",
            "5/5 [==============================] - 0s 3ms/step - loss: 0.5395 - accuracy: 0.7628\n",
            "Epoch 118/1000\n",
            "5/5 [==============================] - 0s 4ms/step - loss: 0.5392 - accuracy: 0.7628\n",
            "Epoch 119/1000\n",
            "5/5 [==============================] - 0s 3ms/step - loss: 0.5386 - accuracy: 0.7628\n",
            "Epoch 120/1000\n",
            "5/5 [==============================] - 0s 4ms/step - loss: 0.5382 - accuracy: 0.7628\n",
            "Epoch 121/1000\n",
            "5/5 [==============================] - 0s 3ms/step - loss: 0.5378 - accuracy: 0.7628\n",
            "Epoch 122/1000\n",
            "5/5 [==============================] - 0s 3ms/step - loss: 0.5371 - accuracy: 0.7628\n",
            "Epoch 123/1000\n",
            "5/5 [==============================] - 0s 3ms/step - loss: 0.5366 - accuracy: 0.7628\n",
            "Epoch 124/1000\n",
            "5/5 [==============================] - 0s 3ms/step - loss: 0.5360 - accuracy: 0.7628\n",
            "Epoch 125/1000\n",
            "5/5 [==============================] - 0s 3ms/step - loss: 0.5354 - accuracy: 0.7628\n",
            "Epoch 126/1000\n",
            "5/5 [==============================] - 0s 3ms/step - loss: 0.5347 - accuracy: 0.7628\n",
            "Epoch 127/1000\n",
            "5/5 [==============================] - 0s 3ms/step - loss: 0.5340 - accuracy: 0.7628\n",
            "Epoch 128/1000\n",
            "5/5 [==============================] - 0s 3ms/step - loss: 0.5333 - accuracy: 0.7628\n",
            "Epoch 129/1000\n",
            "5/5 [==============================] - 0s 3ms/step - loss: 0.5324 - accuracy: 0.7628\n",
            "Epoch 130/1000\n",
            "5/5 [==============================] - 0s 3ms/step - loss: 0.5315 - accuracy: 0.7628\n",
            "Epoch 131/1000\n",
            "5/5 [==============================] - 0s 3ms/step - loss: 0.5306 - accuracy: 0.7628\n",
            "Epoch 132/1000\n",
            "5/5 [==============================] - 0s 4ms/step - loss: 0.5296 - accuracy: 0.7628\n",
            "Epoch 133/1000\n",
            "5/5 [==============================] - 0s 3ms/step - loss: 0.5285 - accuracy: 0.7628\n",
            "Epoch 134/1000\n",
            "5/5 [==============================] - 0s 4ms/step - loss: 0.5274 - accuracy: 0.7628\n",
            "Epoch 135/1000\n",
            "5/5 [==============================] - 0s 4ms/step - loss: 0.5262 - accuracy: 0.7628\n",
            "Epoch 136/1000\n",
            "5/5 [==============================] - 0s 3ms/step - loss: 0.5249 - accuracy: 0.7628\n",
            "Epoch 137/1000\n",
            "5/5 [==============================] - 0s 3ms/step - loss: 0.5238 - accuracy: 0.7628\n",
            "Epoch 138/1000\n",
            "5/5 [==============================] - 0s 3ms/step - loss: 0.5220 - accuracy: 0.7628\n",
            "Epoch 139/1000\n",
            "5/5 [==============================] - 0s 3ms/step - loss: 0.5205 - accuracy: 0.7628\n",
            "Epoch 140/1000\n",
            "5/5 [==============================] - 0s 3ms/step - loss: 0.5188 - accuracy: 0.7628\n",
            "Epoch 141/1000\n",
            "5/5 [==============================] - 0s 3ms/step - loss: 0.5171 - accuracy: 0.7628\n",
            "Epoch 142/1000\n",
            "5/5 [==============================] - 0s 3ms/step - loss: 0.5152 - accuracy: 0.7628\n",
            "Epoch 143/1000\n",
            "5/5 [==============================] - 0s 3ms/step - loss: 0.5134 - accuracy: 0.7628\n",
            "Epoch 144/1000\n",
            "5/5 [==============================] - 0s 3ms/step - loss: 0.5112 - accuracy: 0.7628\n",
            "Epoch 145/1000\n",
            "5/5 [==============================] - 0s 3ms/step - loss: 0.5090 - accuracy: 0.7628\n",
            "Epoch 146/1000\n",
            "5/5 [==============================] - 0s 3ms/step - loss: 0.5067 - accuracy: 0.7628\n",
            "Epoch 147/1000\n",
            "5/5 [==============================] - 0s 3ms/step - loss: 0.5043 - accuracy: 0.7628\n",
            "Epoch 148/1000\n",
            "5/5 [==============================] - 0s 3ms/step - loss: 0.5017 - accuracy: 0.7628\n",
            "Epoch 149/1000\n",
            "5/5 [==============================] - 0s 3ms/step - loss: 0.4990 - accuracy: 0.7628\n",
            "Epoch 150/1000\n",
            "5/5 [==============================] - 0s 3ms/step - loss: 0.4963 - accuracy: 0.7628\n",
            "Epoch 151/1000\n",
            "5/5 [==============================] - 0s 3ms/step - loss: 0.4936 - accuracy: 0.7628\n",
            "Epoch 152/1000\n",
            "5/5 [==============================] - 0s 3ms/step - loss: 0.4912 - accuracy: 0.7628\n",
            "Epoch 153/1000\n",
            "5/5 [==============================] - 0s 3ms/step - loss: 0.4876 - accuracy: 0.7628\n",
            "Epoch 154/1000\n",
            "5/5 [==============================] - 0s 3ms/step - loss: 0.4846 - accuracy: 0.7628\n",
            "Epoch 155/1000\n",
            "5/5 [==============================] - 0s 3ms/step - loss: 0.4817 - accuracy: 0.7628\n",
            "Epoch 156/1000\n",
            "5/5 [==============================] - 0s 3ms/step - loss: 0.4784 - accuracy: 0.7628\n",
            "Epoch 157/1000\n",
            "5/5 [==============================] - 0s 3ms/step - loss: 0.4753 - accuracy: 0.7628\n",
            "Epoch 158/1000\n",
            "5/5 [==============================] - 0s 3ms/step - loss: 0.4721 - accuracy: 0.7628\n",
            "Epoch 159/1000\n",
            "5/5 [==============================] - 0s 4ms/step - loss: 0.4688 - accuracy: 0.7628\n",
            "Epoch 160/1000\n",
            "5/5 [==============================] - 0s 3ms/step - loss: 0.4670 - accuracy: 0.7628\n",
            "Epoch 161/1000\n",
            "5/5 [==============================] - 0s 3ms/step - loss: 0.4624 - accuracy: 0.7628\n",
            "Epoch 162/1000\n",
            "5/5 [==============================] - 0s 3ms/step - loss: 0.4594 - accuracy: 0.7628\n",
            "Epoch 163/1000\n",
            "5/5 [==============================] - 0s 3ms/step - loss: 0.4564 - accuracy: 0.7628\n",
            "Epoch 164/1000\n",
            "5/5 [==============================] - 0s 3ms/step - loss: 0.4533 - accuracy: 0.7628\n",
            "Epoch 165/1000\n",
            "5/5 [==============================] - 0s 4ms/step - loss: 0.4504 - accuracy: 0.7628\n",
            "Epoch 166/1000\n",
            "5/5 [==============================] - 0s 4ms/step - loss: 0.4474 - accuracy: 0.7628\n",
            "Epoch 167/1000\n",
            "5/5 [==============================] - 0s 3ms/step - loss: 0.4448 - accuracy: 0.7628\n",
            "Epoch 168/1000\n",
            "5/5 [==============================] - 0s 3ms/step - loss: 0.4420 - accuracy: 0.7628\n",
            "Epoch 169/1000\n",
            "5/5 [==============================] - 0s 3ms/step - loss: 0.4394 - accuracy: 0.7628\n",
            "Epoch 170/1000\n",
            "5/5 [==============================] - 0s 3ms/step - loss: 0.4365 - accuracy: 0.7628\n",
            "Epoch 171/1000\n",
            "5/5 [==============================] - 0s 3ms/step - loss: 0.4347 - accuracy: 0.7628\n",
            "Epoch 172/1000\n",
            "5/5 [==============================] - 0s 3ms/step - loss: 0.4315 - accuracy: 0.7628\n",
            "Epoch 173/1000\n",
            "5/5 [==============================] - 0s 3ms/step - loss: 0.4291 - accuracy: 0.7628\n",
            "Epoch 174/1000\n",
            "5/5 [==============================] - 0s 3ms/step - loss: 0.4269 - accuracy: 0.7628\n",
            "Epoch 175/1000\n",
            "5/5 [==============================] - 0s 3ms/step - loss: 0.4247 - accuracy: 0.7628\n",
            "Epoch 176/1000\n",
            "5/5 [==============================] - 0s 4ms/step - loss: 0.4227 - accuracy: 0.7628\n",
            "Epoch 177/1000\n",
            "5/5 [==============================] - 0s 3ms/step - loss: 0.4205 - accuracy: 0.7628\n",
            "Epoch 178/1000\n",
            "5/5 [==============================] - 0s 4ms/step - loss: 0.4184 - accuracy: 0.7628\n",
            "Epoch 179/1000\n",
            "5/5 [==============================] - 0s 4ms/step - loss: 0.4163 - accuracy: 0.7628\n",
            "Epoch 180/1000\n",
            "5/5 [==============================] - 0s 3ms/step - loss: 0.4146 - accuracy: 0.7628\n",
            "Epoch 181/1000\n",
            "5/5 [==============================] - 0s 4ms/step - loss: 0.4131 - accuracy: 0.7628\n",
            "Epoch 182/1000\n",
            "5/5 [==============================] - 0s 3ms/step - loss: 0.4112 - accuracy: 0.7628\n",
            "Epoch 183/1000\n",
            "5/5 [==============================] - 0s 3ms/step - loss: 0.4096 - accuracy: 0.7628\n",
            "Epoch 184/1000\n",
            "5/5 [==============================] - 0s 3ms/step - loss: 0.4076 - accuracy: 0.7628\n",
            "Epoch 185/1000\n",
            "5/5 [==============================] - 0s 4ms/step - loss: 0.4061 - accuracy: 0.7628\n",
            "Epoch 186/1000\n",
            "5/5 [==============================] - 0s 4ms/step - loss: 0.4046 - accuracy: 0.7628\n",
            "Epoch 187/1000\n",
            "5/5 [==============================] - 0s 3ms/step - loss: 0.4034 - accuracy: 0.7628\n",
            "Epoch 188/1000\n",
            "5/5 [==============================] - 0s 3ms/step - loss: 0.4018 - accuracy: 0.7628\n",
            "Epoch 189/1000\n",
            "5/5 [==============================] - 0s 3ms/step - loss: 0.4004 - accuracy: 0.7628\n",
            "Epoch 190/1000\n",
            "5/5 [==============================] - 0s 3ms/step - loss: 0.3991 - accuracy: 0.7628\n",
            "Epoch 191/1000\n",
            "5/5 [==============================] - 0s 3ms/step - loss: 0.3979 - accuracy: 0.7628\n",
            "Epoch 192/1000\n",
            "5/5 [==============================] - 0s 3ms/step - loss: 0.3965 - accuracy: 0.7628\n",
            "Epoch 193/1000\n",
            "5/5 [==============================] - 0s 3ms/step - loss: 0.3952 - accuracy: 0.7628\n",
            "Epoch 194/1000\n",
            "5/5 [==============================] - 0s 3ms/step - loss: 0.3941 - accuracy: 0.7628\n",
            "Epoch 195/1000\n",
            "5/5 [==============================] - 0s 4ms/step - loss: 0.3932 - accuracy: 0.7628\n",
            "Epoch 196/1000\n",
            "5/5 [==============================] - 0s 4ms/step - loss: 0.3919 - accuracy: 0.7628\n",
            "Epoch 197/1000\n",
            "5/5 [==============================] - 0s 4ms/step - loss: 0.3907 - accuracy: 0.7628\n",
            "Epoch 198/1000\n",
            "5/5 [==============================] - 0s 4ms/step - loss: 0.3897 - accuracy: 0.7628\n",
            "Epoch 199/1000\n",
            "5/5 [==============================] - 0s 5ms/step - loss: 0.3886 - accuracy: 0.7628\n",
            "Epoch 200/1000\n",
            "5/5 [==============================] - 0s 4ms/step - loss: 0.3875 - accuracy: 0.7628\n",
            "Epoch 201/1000\n",
            "5/5 [==============================] - 0s 4ms/step - loss: 0.3865 - accuracy: 0.7628\n",
            "Epoch 202/1000\n",
            "5/5 [==============================] - 0s 5ms/step - loss: 0.3855 - accuracy: 0.7628\n",
            "Epoch 203/1000\n",
            "5/5 [==============================] - 0s 4ms/step - loss: 0.3847 - accuracy: 0.7628\n",
            "Epoch 204/1000\n",
            "5/5 [==============================] - 0s 4ms/step - loss: 0.3834 - accuracy: 0.7628\n",
            "Epoch 205/1000\n",
            "5/5 [==============================] - 0s 4ms/step - loss: 0.3831 - accuracy: 0.7628\n",
            "Epoch 206/1000\n",
            "5/5 [==============================] - 0s 5ms/step - loss: 0.3825 - accuracy: 0.7628\n",
            "Epoch 207/1000\n",
            "5/5 [==============================] - 0s 5ms/step - loss: 0.3805 - accuracy: 0.7628\n",
            "Epoch 208/1000\n",
            "5/5 [==============================] - 0s 4ms/step - loss: 0.3796 - accuracy: 0.7628\n",
            "Epoch 209/1000\n",
            "5/5 [==============================] - 0s 4ms/step - loss: 0.3787 - accuracy: 0.7628\n",
            "Epoch 210/1000\n",
            "5/5 [==============================] - 0s 4ms/step - loss: 0.3778 - accuracy: 0.7628\n",
            "Epoch 211/1000\n",
            "5/5 [==============================] - 0s 4ms/step - loss: 0.3769 - accuracy: 0.7628\n",
            "Epoch 212/1000\n",
            "5/5 [==============================] - 0s 3ms/step - loss: 0.3765 - accuracy: 0.7628\n",
            "Epoch 213/1000\n",
            "5/5 [==============================] - 0s 4ms/step - loss: 0.3750 - accuracy: 0.7628\n",
            "Epoch 214/1000\n",
            "5/5 [==============================] - 0s 4ms/step - loss: 0.3743 - accuracy: 0.7628\n",
            "Epoch 215/1000\n",
            "5/5 [==============================] - 0s 4ms/step - loss: 0.3735 - accuracy: 0.7628\n",
            "Epoch 216/1000\n",
            "5/5 [==============================] - 0s 4ms/step - loss: 0.3725 - accuracy: 0.7628\n",
            "Epoch 217/1000\n",
            "5/5 [==============================] - 0s 4ms/step - loss: 0.3717 - accuracy: 0.7628\n",
            "Epoch 218/1000\n",
            "5/5 [==============================] - 0s 4ms/step - loss: 0.3711 - accuracy: 0.7628\n",
            "Epoch 219/1000\n",
            "5/5 [==============================] - 0s 4ms/step - loss: 0.3703 - accuracy: 0.8013\n",
            "Epoch 220/1000\n",
            "5/5 [==============================] - 0s 4ms/step - loss: 0.3695 - accuracy: 0.8141\n",
            "Epoch 221/1000\n",
            "5/5 [==============================] - 0s 4ms/step - loss: 0.3687 - accuracy: 0.8077\n",
            "Epoch 222/1000\n",
            "5/5 [==============================] - 0s 5ms/step - loss: 0.3679 - accuracy: 0.8013\n",
            "Epoch 223/1000\n",
            "5/5 [==============================] - 0s 4ms/step - loss: 0.3674 - accuracy: 0.8013\n",
            "Epoch 224/1000\n",
            "5/5 [==============================] - 0s 4ms/step - loss: 0.3665 - accuracy: 0.7949\n",
            "Epoch 225/1000\n",
            "5/5 [==============================] - 0s 4ms/step - loss: 0.3657 - accuracy: 0.7885\n",
            "Epoch 226/1000\n",
            "5/5 [==============================] - 0s 3ms/step - loss: 0.3653 - accuracy: 0.7885\n",
            "Epoch 227/1000\n",
            "5/5 [==============================] - 0s 4ms/step - loss: 0.3647 - accuracy: 0.7885\n",
            "Epoch 228/1000\n",
            "5/5 [==============================] - 0s 4ms/step - loss: 0.3641 - accuracy: 0.7885\n",
            "Epoch 229/1000\n",
            "5/5 [==============================] - 0s 5ms/step - loss: 0.3633 - accuracy: 0.7821\n",
            "Epoch 230/1000\n",
            "5/5 [==============================] - 0s 4ms/step - loss: 0.3627 - accuracy: 0.7756\n",
            "Epoch 231/1000\n",
            "5/5 [==============================] - 0s 4ms/step - loss: 0.3620 - accuracy: 0.7756\n",
            "Epoch 232/1000\n",
            "5/5 [==============================] - 0s 4ms/step - loss: 0.3616 - accuracy: 0.7756\n",
            "Epoch 233/1000\n",
            "5/5 [==============================] - 0s 4ms/step - loss: 0.3610 - accuracy: 0.7756\n",
            "Epoch 234/1000\n",
            "5/5 [==============================] - 0s 4ms/step - loss: 0.3602 - accuracy: 0.7756\n",
            "Epoch 235/1000\n",
            "5/5 [==============================] - 0s 4ms/step - loss: 0.3600 - accuracy: 0.7756\n",
            "Epoch 236/1000\n",
            "5/5 [==============================] - 0s 4ms/step - loss: 0.3596 - accuracy: 0.7821\n",
            "Epoch 237/1000\n",
            "5/5 [==============================] - 0s 4ms/step - loss: 0.3586 - accuracy: 0.7756\n",
            "Epoch 238/1000\n",
            "5/5 [==============================] - 0s 4ms/step - loss: 0.3582 - accuracy: 0.7821\n",
            "Epoch 239/1000\n",
            "5/5 [==============================] - 0s 3ms/step - loss: 0.3576 - accuracy: 0.7821\n",
            "Epoch 240/1000\n",
            "5/5 [==============================] - 0s 4ms/step - loss: 0.3570 - accuracy: 0.7821\n",
            "Epoch 241/1000\n",
            "5/5 [==============================] - 0s 4ms/step - loss: 0.3563 - accuracy: 0.7756\n",
            "Epoch 242/1000\n",
            "5/5 [==============================] - 0s 4ms/step - loss: 0.3560 - accuracy: 0.7756\n",
            "Epoch 243/1000\n",
            "5/5 [==============================] - 0s 3ms/step - loss: 0.3553 - accuracy: 0.7756\n",
            "Epoch 244/1000\n",
            "5/5 [==============================] - 0s 3ms/step - loss: 0.3548 - accuracy: 0.7821\n",
            "Epoch 245/1000\n",
            "5/5 [==============================] - 0s 3ms/step - loss: 0.3543 - accuracy: 0.7821\n",
            "Epoch 246/1000\n",
            "5/5 [==============================] - 0s 3ms/step - loss: 0.3539 - accuracy: 0.7756\n",
            "Epoch 247/1000\n",
            "5/5 [==============================] - 0s 3ms/step - loss: 0.3531 - accuracy: 0.7756\n",
            "Epoch 248/1000\n",
            "5/5 [==============================] - 0s 3ms/step - loss: 0.3525 - accuracy: 0.7756\n",
            "Epoch 249/1000\n",
            "5/5 [==============================] - 0s 4ms/step - loss: 0.3522 - accuracy: 0.7756\n",
            "Epoch 250/1000\n",
            "5/5 [==============================] - 0s 3ms/step - loss: 0.3514 - accuracy: 0.7756\n",
            "Epoch 251/1000\n",
            "5/5 [==============================] - 0s 4ms/step - loss: 0.3510 - accuracy: 0.7756\n",
            "Epoch 252/1000\n",
            "5/5 [==============================] - 0s 3ms/step - loss: 0.3503 - accuracy: 0.7756\n",
            "Epoch 253/1000\n",
            "5/5 [==============================] - 0s 4ms/step - loss: 0.3498 - accuracy: 0.7756\n",
            "Epoch 254/1000\n",
            "5/5 [==============================] - 0s 3ms/step - loss: 0.3493 - accuracy: 0.7756\n",
            "Epoch 255/1000\n",
            "5/5 [==============================] - 0s 3ms/step - loss: 0.3484 - accuracy: 0.7885\n",
            "Epoch 256/1000\n",
            "5/5 [==============================] - 0s 4ms/step - loss: 0.3480 - accuracy: 0.7821\n",
            "Epoch 257/1000\n",
            "5/5 [==============================] - 0s 4ms/step - loss: 0.3474 - accuracy: 0.7821\n",
            "Epoch 258/1000\n",
            "5/5 [==============================] - 0s 4ms/step - loss: 0.3468 - accuracy: 0.7821\n",
            "Epoch 259/1000\n",
            "5/5 [==============================] - 0s 3ms/step - loss: 0.3464 - accuracy: 0.7821\n",
            "Epoch 260/1000\n",
            "5/5 [==============================] - 0s 4ms/step - loss: 0.3457 - accuracy: 0.7821\n",
            "Epoch 261/1000\n",
            "5/5 [==============================] - 0s 4ms/step - loss: 0.3451 - accuracy: 0.7821\n",
            "Epoch 262/1000\n",
            "5/5 [==============================] - 0s 4ms/step - loss: 0.3446 - accuracy: 0.7821\n",
            "Epoch 263/1000\n",
            "5/5 [==============================] - 0s 4ms/step - loss: 0.3441 - accuracy: 0.7821\n",
            "Epoch 264/1000\n",
            "5/5 [==============================] - 0s 4ms/step - loss: 0.3434 - accuracy: 0.7885\n",
            "Epoch 265/1000\n",
            "5/5 [==============================] - 0s 4ms/step - loss: 0.3429 - accuracy: 0.7756\n",
            "Epoch 266/1000\n",
            "5/5 [==============================] - 0s 4ms/step - loss: 0.3422 - accuracy: 0.7756\n",
            "Epoch 267/1000\n",
            "5/5 [==============================] - 0s 4ms/step - loss: 0.3417 - accuracy: 0.7885\n",
            "Epoch 268/1000\n",
            "5/5 [==============================] - 0s 4ms/step - loss: 0.3417 - accuracy: 0.7885\n",
            "Epoch 269/1000\n",
            "5/5 [==============================] - 0s 4ms/step - loss: 0.3412 - accuracy: 0.7885\n",
            "Epoch 270/1000\n",
            "5/5 [==============================] - 0s 3ms/step - loss: 0.3403 - accuracy: 0.7821\n",
            "Epoch 271/1000\n",
            "5/5 [==============================] - 0s 4ms/step - loss: 0.3402 - accuracy: 0.7756\n",
            "Epoch 272/1000\n",
            "5/5 [==============================] - 0s 4ms/step - loss: 0.3393 - accuracy: 0.7756\n",
            "Epoch 273/1000\n",
            "5/5 [==============================] - 0s 4ms/step - loss: 0.3392 - accuracy: 0.7756\n",
            "Epoch 274/1000\n",
            "5/5 [==============================] - 0s 4ms/step - loss: 0.3385 - accuracy: 0.7756\n",
            "Epoch 275/1000\n",
            "5/5 [==============================] - 0s 3ms/step - loss: 0.3380 - accuracy: 0.7756\n",
            "Epoch 276/1000\n",
            "5/5 [==============================] - 0s 3ms/step - loss: 0.3376 - accuracy: 0.7756\n",
            "Epoch 277/1000\n",
            "5/5 [==============================] - 0s 4ms/step - loss: 0.3374 - accuracy: 0.7756\n",
            "Epoch 278/1000\n",
            "5/5 [==============================] - 0s 4ms/step - loss: 0.3369 - accuracy: 0.7756\n",
            "Epoch 279/1000\n",
            "5/5 [==============================] - 0s 4ms/step - loss: 0.3367 - accuracy: 0.7756\n",
            "Epoch 280/1000\n",
            "5/5 [==============================] - 0s 3ms/step - loss: 0.3363 - accuracy: 0.7821\n",
            "Epoch 281/1000\n",
            "5/5 [==============================] - 0s 4ms/step - loss: 0.3357 - accuracy: 0.7821\n",
            "Epoch 282/1000\n",
            "5/5 [==============================] - 0s 4ms/step - loss: 0.3355 - accuracy: 0.7821\n",
            "Epoch 283/1000\n",
            "5/5 [==============================] - 0s 5ms/step - loss: 0.3350 - accuracy: 0.7821\n",
            "Epoch 284/1000\n",
            "5/5 [==============================] - 0s 4ms/step - loss: 0.3348 - accuracy: 0.7821\n",
            "Epoch 285/1000\n",
            "5/5 [==============================] - 0s 4ms/step - loss: 0.3346 - accuracy: 0.7821\n",
            "Epoch 286/1000\n",
            "5/5 [==============================] - 0s 4ms/step - loss: 0.3341 - accuracy: 0.7821\n",
            "Epoch 287/1000\n",
            "5/5 [==============================] - 0s 4ms/step - loss: 0.3338 - accuracy: 0.7821\n",
            "Epoch 288/1000\n",
            "5/5 [==============================] - 0s 4ms/step - loss: 0.3339 - accuracy: 0.7756\n",
            "Epoch 289/1000\n",
            "5/5 [==============================] - 0s 3ms/step - loss: 0.3332 - accuracy: 0.7821\n",
            "Epoch 290/1000\n",
            "5/5 [==============================] - 0s 3ms/step - loss: 0.3334 - accuracy: 0.7821\n",
            "Epoch 291/1000\n",
            "5/5 [==============================] - 0s 3ms/step - loss: 0.3328 - accuracy: 0.7821\n",
            "Epoch 292/1000\n",
            "5/5 [==============================] - 0s 3ms/step - loss: 0.3323 - accuracy: 0.7885\n",
            "Epoch 293/1000\n",
            "5/5 [==============================] - 0s 4ms/step - loss: 0.3321 - accuracy: 0.7885\n",
            "Epoch 294/1000\n",
            "5/5 [==============================] - 0s 4ms/step - loss: 0.3319 - accuracy: 0.7885\n",
            "Epoch 295/1000\n",
            "5/5 [==============================] - 0s 4ms/step - loss: 0.3318 - accuracy: 0.7821\n",
            "Epoch 296/1000\n",
            "5/5 [==============================] - 0s 3ms/step - loss: 0.3314 - accuracy: 0.7885\n",
            "Epoch 297/1000\n",
            "5/5 [==============================] - 0s 4ms/step - loss: 0.3314 - accuracy: 0.7885\n",
            "Epoch 298/1000\n",
            "5/5 [==============================] - 0s 4ms/step - loss: 0.3309 - accuracy: 0.7885\n",
            "Epoch 299/1000\n",
            "5/5 [==============================] - 0s 4ms/step - loss: 0.3312 - accuracy: 0.7885\n",
            "Epoch 300/1000\n",
            "5/5 [==============================] - 0s 4ms/step - loss: 0.3304 - accuracy: 0.7885\n",
            "Epoch 301/1000\n",
            "5/5 [==============================] - 0s 4ms/step - loss: 0.3303 - accuracy: 0.7885\n",
            "Epoch 302/1000\n",
            "5/5 [==============================] - 0s 4ms/step - loss: 0.3300 - accuracy: 0.7885\n",
            "Epoch 303/1000\n",
            "5/5 [==============================] - 0s 3ms/step - loss: 0.3297 - accuracy: 0.7885\n",
            "Epoch 304/1000\n",
            "5/5 [==============================] - 0s 4ms/step - loss: 0.3295 - accuracy: 0.7885\n",
            "Epoch 305/1000\n",
            "5/5 [==============================] - 0s 4ms/step - loss: 0.3293 - accuracy: 0.7885\n",
            "Epoch 306/1000\n",
            "5/5 [==============================] - 0s 4ms/step - loss: 0.3291 - accuracy: 0.7885\n",
            "Epoch 307/1000\n",
            "5/5 [==============================] - 0s 5ms/step - loss: 0.3290 - accuracy: 0.7885\n",
            "Epoch 308/1000\n",
            "5/5 [==============================] - 0s 4ms/step - loss: 0.3287 - accuracy: 0.7885\n",
            "Epoch 309/1000\n",
            "5/5 [==============================] - 0s 4ms/step - loss: 0.3284 - accuracy: 0.7885\n",
            "Epoch 310/1000\n",
            "5/5 [==============================] - 0s 4ms/step - loss: 0.3284 - accuracy: 0.7821\n",
            "Epoch 311/1000\n",
            "5/5 [==============================] - 0s 3ms/step - loss: 0.3280 - accuracy: 0.7821\n",
            "Epoch 312/1000\n",
            "5/5 [==============================] - 0s 3ms/step - loss: 0.3279 - accuracy: 0.7821\n",
            "Epoch 313/1000\n",
            "5/5 [==============================] - 0s 3ms/step - loss: 0.3279 - accuracy: 0.7821\n",
            "Epoch 314/1000\n",
            "5/5 [==============================] - 0s 3ms/step - loss: 0.3276 - accuracy: 0.7821\n",
            "Epoch 315/1000\n",
            "5/5 [==============================] - 0s 4ms/step - loss: 0.3273 - accuracy: 0.7885\n",
            "Epoch 316/1000\n",
            "5/5 [==============================] - 0s 4ms/step - loss: 0.3271 - accuracy: 0.7885\n",
            "Epoch 317/1000\n",
            "5/5 [==============================] - 0s 4ms/step - loss: 0.3269 - accuracy: 0.7885\n",
            "Epoch 318/1000\n",
            "5/5 [==============================] - 0s 4ms/step - loss: 0.3267 - accuracy: 0.7885\n",
            "Epoch 319/1000\n",
            "5/5 [==============================] - 0s 3ms/step - loss: 0.3269 - accuracy: 0.7885\n",
            "Epoch 320/1000\n",
            "5/5 [==============================] - 0s 3ms/step - loss: 0.3265 - accuracy: 0.7821\n",
            "Epoch 321/1000\n",
            "5/5 [==============================] - 0s 3ms/step - loss: 0.3261 - accuracy: 0.7885\n",
            "Epoch 322/1000\n",
            "5/5 [==============================] - 0s 3ms/step - loss: 0.3260 - accuracy: 0.7885\n",
            "Epoch 323/1000\n",
            "5/5 [==============================] - 0s 4ms/step - loss: 0.3259 - accuracy: 0.7885\n",
            "Epoch 324/1000\n",
            "5/5 [==============================] - 0s 4ms/step - loss: 0.3258 - accuracy: 0.7885\n",
            "Epoch 325/1000\n",
            "5/5 [==============================] - 0s 3ms/step - loss: 0.3256 - accuracy: 0.8013\n",
            "Epoch 326/1000\n",
            "5/5 [==============================] - 0s 3ms/step - loss: 0.3254 - accuracy: 0.8013\n",
            "Epoch 327/1000\n",
            "5/5 [==============================] - 0s 4ms/step - loss: 0.3252 - accuracy: 0.8013\n",
            "Epoch 328/1000\n",
            "5/5 [==============================] - 0s 4ms/step - loss: 0.3251 - accuracy: 0.7885\n",
            "Epoch 329/1000\n",
            "5/5 [==============================] - 0s 4ms/step - loss: 0.3251 - accuracy: 0.7821\n",
            "Epoch 330/1000\n",
            "5/5 [==============================] - 0s 4ms/step - loss: 0.3250 - accuracy: 0.7821\n",
            "Epoch 331/1000\n",
            "5/5 [==============================] - 0s 4ms/step - loss: 0.3244 - accuracy: 0.8013\n",
            "Epoch 332/1000\n",
            "5/5 [==============================] - 0s 4ms/step - loss: 0.3244 - accuracy: 0.8013\n",
            "Epoch 333/1000\n",
            "5/5 [==============================] - 0s 4ms/step - loss: 0.3241 - accuracy: 0.8013\n",
            "Epoch 334/1000\n",
            "5/5 [==============================] - 0s 3ms/step - loss: 0.3239 - accuracy: 0.8013\n",
            "Epoch 335/1000\n",
            "5/5 [==============================] - 0s 4ms/step - loss: 0.3240 - accuracy: 0.8013\n",
            "Epoch 336/1000\n",
            "5/5 [==============================] - 0s 3ms/step - loss: 0.3237 - accuracy: 0.8013\n",
            "Epoch 337/1000\n",
            "5/5 [==============================] - 0s 4ms/step - loss: 0.3235 - accuracy: 0.8013\n",
            "Epoch 338/1000\n",
            "5/5 [==============================] - 0s 4ms/step - loss: 0.3235 - accuracy: 0.8013\n",
            "Epoch 339/1000\n",
            "5/5 [==============================] - 0s 4ms/step - loss: 0.3239 - accuracy: 0.7885\n",
            "Epoch 340/1000\n",
            "5/5 [==============================] - 0s 5ms/step - loss: 0.3231 - accuracy: 0.7949\n",
            "Epoch 341/1000\n",
            "5/5 [==============================] - 0s 4ms/step - loss: 0.3229 - accuracy: 0.7949\n",
            "Epoch 342/1000\n",
            "5/5 [==============================] - 0s 4ms/step - loss: 0.3231 - accuracy: 0.8013\n",
            "Epoch 343/1000\n",
            "5/5 [==============================] - 0s 4ms/step - loss: 0.3227 - accuracy: 0.8141\n",
            "Epoch 344/1000\n",
            "5/5 [==============================] - 0s 5ms/step - loss: 0.3225 - accuracy: 0.8077\n",
            "Epoch 345/1000\n",
            "5/5 [==============================] - 0s 4ms/step - loss: 0.3224 - accuracy: 0.8013\n",
            "Epoch 346/1000\n",
            "5/5 [==============================] - 0s 4ms/step - loss: 0.3223 - accuracy: 0.8013\n",
            "Epoch 347/1000\n",
            "5/5 [==============================] - 0s 4ms/step - loss: 0.3223 - accuracy: 0.8013\n",
            "Epoch 348/1000\n",
            "5/5 [==============================] - 0s 4ms/step - loss: 0.3221 - accuracy: 0.8013\n",
            "Epoch 349/1000\n",
            "5/5 [==============================] - 0s 4ms/step - loss: 0.3219 - accuracy: 0.8013\n",
            "Epoch 350/1000\n",
            "5/5 [==============================] - 0s 5ms/step - loss: 0.3218 - accuracy: 0.8013\n",
            "Epoch 351/1000\n",
            "5/5 [==============================] - 0s 4ms/step - loss: 0.3217 - accuracy: 0.8013\n",
            "Epoch 352/1000\n",
            "5/5 [==============================] - 0s 5ms/step - loss: 0.3216 - accuracy: 0.8013\n",
            "Epoch 353/1000\n",
            "5/5 [==============================] - 0s 5ms/step - loss: 0.3216 - accuracy: 0.8013\n",
            "Epoch 354/1000\n",
            "5/5 [==============================] - 0s 4ms/step - loss: 0.3212 - accuracy: 0.8077\n",
            "Epoch 355/1000\n",
            "5/5 [==============================] - 0s 4ms/step - loss: 0.3211 - accuracy: 0.8013\n",
            "Epoch 356/1000\n",
            "5/5 [==============================] - 0s 3ms/step - loss: 0.3209 - accuracy: 0.8013\n",
            "Epoch 357/1000\n",
            "5/5 [==============================] - 0s 3ms/step - loss: 0.3210 - accuracy: 0.8077\n",
            "Epoch 358/1000\n",
            "5/5 [==============================] - 0s 5ms/step - loss: 0.3207 - accuracy: 0.8077\n",
            "Epoch 359/1000\n",
            "5/5 [==============================] - 0s 4ms/step - loss: 0.3207 - accuracy: 0.8013\n",
            "Epoch 360/1000\n",
            "5/5 [==============================] - 0s 4ms/step - loss: 0.3204 - accuracy: 0.8013\n",
            "Epoch 361/1000\n",
            "5/5 [==============================] - 0s 3ms/step - loss: 0.3205 - accuracy: 0.8141\n",
            "Epoch 362/1000\n",
            "5/5 [==============================] - 0s 3ms/step - loss: 0.3203 - accuracy: 0.8205\n",
            "Epoch 363/1000\n",
            "5/5 [==============================] - 0s 3ms/step - loss: 0.3202 - accuracy: 0.8205\n",
            "Epoch 364/1000\n",
            "5/5 [==============================] - 0s 3ms/step - loss: 0.3200 - accuracy: 0.8077\n",
            "Epoch 365/1000\n",
            "5/5 [==============================] - 0s 4ms/step - loss: 0.3199 - accuracy: 0.8077\n",
            "Epoch 366/1000\n",
            "5/5 [==============================] - 0s 4ms/step - loss: 0.3199 - accuracy: 0.8077\n",
            "Epoch 367/1000\n",
            "5/5 [==============================] - 0s 3ms/step - loss: 0.3196 - accuracy: 0.8077\n",
            "Epoch 368/1000\n",
            "5/5 [==============================] - 0s 3ms/step - loss: 0.3195 - accuracy: 0.8013\n",
            "Epoch 369/1000\n",
            "5/5 [==============================] - 0s 3ms/step - loss: 0.3196 - accuracy: 0.8077\n",
            "Epoch 370/1000\n",
            "5/5 [==============================] - 0s 4ms/step - loss: 0.3193 - accuracy: 0.8205\n",
            "Epoch 371/1000\n",
            "5/5 [==============================] - 0s 3ms/step - loss: 0.3192 - accuracy: 0.8013\n",
            "Epoch 372/1000\n",
            "5/5 [==============================] - 0s 3ms/step - loss: 0.3190 - accuracy: 0.8141\n",
            "Epoch 373/1000\n",
            "5/5 [==============================] - 0s 3ms/step - loss: 0.3190 - accuracy: 0.8141\n",
            "Epoch 374/1000\n",
            "5/5 [==============================] - 0s 4ms/step - loss: 0.3188 - accuracy: 0.8205\n",
            "Epoch 375/1000\n",
            "5/5 [==============================] - 0s 4ms/step - loss: 0.3189 - accuracy: 0.8205\n",
            "Epoch 376/1000\n",
            "5/5 [==============================] - 0s 3ms/step - loss: 0.3186 - accuracy: 0.8269\n",
            "Epoch 377/1000\n",
            "5/5 [==============================] - 0s 3ms/step - loss: 0.3186 - accuracy: 0.8269\n",
            "Epoch 378/1000\n",
            "5/5 [==============================] - 0s 4ms/step - loss: 0.3185 - accuracy: 0.8269\n",
            "Epoch 379/1000\n",
            "5/5 [==============================] - 0s 4ms/step - loss: 0.3182 - accuracy: 0.8141\n",
            "Epoch 380/1000\n",
            "5/5 [==============================] - 0s 3ms/step - loss: 0.3181 - accuracy: 0.8141\n",
            "Epoch 381/1000\n",
            "5/5 [==============================] - 0s 3ms/step - loss: 0.3181 - accuracy: 0.8077\n",
            "Epoch 382/1000\n",
            "5/5 [==============================] - 0s 3ms/step - loss: 0.3180 - accuracy: 0.8077\n",
            "Epoch 383/1000\n",
            "5/5 [==============================] - 0s 3ms/step - loss: 0.3180 - accuracy: 0.8077\n",
            "Epoch 384/1000\n",
            "5/5 [==============================] - 0s 4ms/step - loss: 0.3178 - accuracy: 0.8077\n",
            "Epoch 385/1000\n",
            "5/5 [==============================] - 0s 4ms/step - loss: 0.3176 - accuracy: 0.8205\n",
            "Epoch 386/1000\n",
            "5/5 [==============================] - 0s 3ms/step - loss: 0.3176 - accuracy: 0.8141\n",
            "Epoch 387/1000\n",
            "5/5 [==============================] - 0s 4ms/step - loss: 0.3174 - accuracy: 0.8269\n",
            "Epoch 388/1000\n",
            "5/5 [==============================] - 0s 3ms/step - loss: 0.3173 - accuracy: 0.8269\n",
            "Epoch 389/1000\n",
            "5/5 [==============================] - 0s 3ms/step - loss: 0.3173 - accuracy: 0.8269\n",
            "Epoch 390/1000\n",
            "5/5 [==============================] - 0s 3ms/step - loss: 0.3173 - accuracy: 0.8269\n",
            "Epoch 391/1000\n",
            "5/5 [==============================] - 0s 4ms/step - loss: 0.3170 - accuracy: 0.8269\n",
            "Epoch 392/1000\n",
            "5/5 [==============================] - 0s 3ms/step - loss: 0.3168 - accuracy: 0.8269\n",
            "Epoch 393/1000\n",
            "5/5 [==============================] - 0s 4ms/step - loss: 0.3170 - accuracy: 0.8205\n",
            "Epoch 394/1000\n",
            "5/5 [==============================] - 0s 4ms/step - loss: 0.3168 - accuracy: 0.8141\n",
            "Epoch 395/1000\n",
            "5/5 [==============================] - 0s 3ms/step - loss: 0.3165 - accuracy: 0.8205\n",
            "Epoch 396/1000\n",
            "5/5 [==============================] - 0s 4ms/step - loss: 0.3166 - accuracy: 0.8205\n",
            "Epoch 397/1000\n",
            "5/5 [==============================] - 0s 4ms/step - loss: 0.3164 - accuracy: 0.8141\n",
            "Epoch 398/1000\n",
            "5/5 [==============================] - 0s 4ms/step - loss: 0.3164 - accuracy: 0.8269\n",
            "Epoch 399/1000\n",
            "5/5 [==============================] - 0s 5ms/step - loss: 0.3161 - accuracy: 0.8269\n",
            "Epoch 400/1000\n",
            "5/5 [==============================] - 0s 3ms/step - loss: 0.3161 - accuracy: 0.8269\n",
            "Epoch 401/1000\n",
            "5/5 [==============================] - 0s 3ms/step - loss: 0.3160 - accuracy: 0.8269\n",
            "Epoch 402/1000\n",
            "5/5 [==============================] - 0s 3ms/step - loss: 0.3159 - accuracy: 0.8269\n",
            "Epoch 403/1000\n",
            "5/5 [==============================] - 0s 4ms/step - loss: 0.3159 - accuracy: 0.8333\n",
            "Epoch 404/1000\n",
            "5/5 [==============================] - 0s 3ms/step - loss: 0.3158 - accuracy: 0.8269\n",
            "Epoch 405/1000\n",
            "5/5 [==============================] - 0s 3ms/step - loss: 0.3158 - accuracy: 0.8205\n",
            "Epoch 406/1000\n",
            "5/5 [==============================] - 0s 4ms/step - loss: 0.3155 - accuracy: 0.8269\n",
            "Epoch 407/1000\n",
            "5/5 [==============================] - 0s 3ms/step - loss: 0.3159 - accuracy: 0.8333\n",
            "Epoch 408/1000\n",
            "5/5 [==============================] - 0s 3ms/step - loss: 0.3153 - accuracy: 0.8269\n",
            "Epoch 409/1000\n",
            "5/5 [==============================] - 0s 3ms/step - loss: 0.3152 - accuracy: 0.8269\n",
            "Epoch 410/1000\n",
            "5/5 [==============================] - 0s 4ms/step - loss: 0.3156 - accuracy: 0.8333\n",
            "Epoch 411/1000\n",
            "5/5 [==============================] - 0s 3ms/step - loss: 0.3151 - accuracy: 0.8269\n",
            "Epoch 412/1000\n",
            "5/5 [==============================] - 0s 4ms/step - loss: 0.3150 - accuracy: 0.8333\n",
            "Epoch 413/1000\n",
            "5/5 [==============================] - 0s 4ms/step - loss: 0.3149 - accuracy: 0.8269\n",
            "Epoch 414/1000\n",
            "5/5 [==============================] - 0s 4ms/step - loss: 0.3148 - accuracy: 0.8269\n",
            "Epoch 415/1000\n",
            "5/5 [==============================] - 0s 4ms/step - loss: 0.3148 - accuracy: 0.8269\n",
            "Epoch 416/1000\n",
            "5/5 [==============================] - 0s 4ms/step - loss: 0.3147 - accuracy: 0.8269\n",
            "Epoch 417/1000\n",
            "5/5 [==============================] - 0s 4ms/step - loss: 0.3146 - accuracy: 0.8269\n",
            "Epoch 418/1000\n",
            "5/5 [==============================] - 0s 3ms/step - loss: 0.3144 - accuracy: 0.8333\n",
            "Epoch 419/1000\n",
            "5/5 [==============================] - 0s 3ms/step - loss: 0.3145 - accuracy: 0.8269\n",
            "Epoch 420/1000\n",
            "5/5 [==============================] - 0s 4ms/step - loss: 0.3142 - accuracy: 0.8269\n",
            "Epoch 421/1000\n",
            "5/5 [==============================] - 0s 5ms/step - loss: 0.3142 - accuracy: 0.8269\n",
            "Epoch 422/1000\n",
            "5/5 [==============================] - 0s 5ms/step - loss: 0.3142 - accuracy: 0.8333\n",
            "Epoch 423/1000\n",
            "5/5 [==============================] - 0s 4ms/step - loss: 0.3140 - accuracy: 0.8333\n",
            "Epoch 424/1000\n",
            "5/5 [==============================] - 0s 4ms/step - loss: 0.3140 - accuracy: 0.8269\n",
            "Epoch 425/1000\n",
            "5/5 [==============================] - 0s 4ms/step - loss: 0.3139 - accuracy: 0.8269\n",
            "Epoch 426/1000\n",
            "5/5 [==============================] - 0s 4ms/step - loss: 0.3139 - accuracy: 0.8269\n",
            "Epoch 427/1000\n",
            "5/5 [==============================] - 0s 3ms/step - loss: 0.3137 - accuracy: 0.8269\n",
            "Epoch 428/1000\n",
            "5/5 [==============================] - 0s 5ms/step - loss: 0.3137 - accuracy: 0.8269\n",
            "Epoch 429/1000\n",
            "5/5 [==============================] - 0s 6ms/step - loss: 0.3136 - accuracy: 0.8269\n",
            "Epoch 430/1000\n",
            "5/5 [==============================] - 0s 4ms/step - loss: 0.3136 - accuracy: 0.8269\n",
            "Epoch 431/1000\n",
            "5/5 [==============================] - 0s 4ms/step - loss: 0.3134 - accuracy: 0.8269\n",
            "Epoch 432/1000\n",
            "5/5 [==============================] - 0s 4ms/step - loss: 0.3133 - accuracy: 0.8269\n",
            "Epoch 433/1000\n",
            "5/5 [==============================] - 0s 3ms/step - loss: 0.3131 - accuracy: 0.8333\n",
            "Epoch 434/1000\n",
            "5/5 [==============================] - 0s 3ms/step - loss: 0.3131 - accuracy: 0.8333\n",
            "Epoch 435/1000\n",
            "5/5 [==============================] - 0s 5ms/step - loss: 0.3133 - accuracy: 0.8269\n",
            "Epoch 436/1000\n",
            "5/5 [==============================] - 0s 4ms/step - loss: 0.3130 - accuracy: 0.8269\n",
            "Epoch 437/1000\n",
            "5/5 [==============================] - 0s 3ms/step - loss: 0.3130 - accuracy: 0.8333\n",
            "Epoch 438/1000\n",
            "5/5 [==============================] - 0s 4ms/step - loss: 0.3129 - accuracy: 0.8333\n",
            "Epoch 439/1000\n",
            "5/5 [==============================] - 0s 4ms/step - loss: 0.3128 - accuracy: 0.8333\n",
            "Epoch 440/1000\n",
            "5/5 [==============================] - 0s 3ms/step - loss: 0.3126 - accuracy: 0.8269\n",
            "Epoch 441/1000\n",
            "5/5 [==============================] - 0s 4ms/step - loss: 0.3126 - accuracy: 0.8269\n",
            "Epoch 442/1000\n",
            "5/5 [==============================] - 0s 3ms/step - loss: 0.3125 - accuracy: 0.8333\n",
            "Epoch 443/1000\n",
            "5/5 [==============================] - 0s 3ms/step - loss: 0.3127 - accuracy: 0.8269\n",
            "Epoch 444/1000\n",
            "5/5 [==============================] - 0s 4ms/step - loss: 0.3123 - accuracy: 0.8269\n",
            "Epoch 445/1000\n",
            "5/5 [==============================] - 0s 4ms/step - loss: 0.3123 - accuracy: 0.8269\n",
            "Epoch 446/1000\n",
            "5/5 [==============================] - 0s 3ms/step - loss: 0.3122 - accuracy: 0.8333\n",
            "Epoch 447/1000\n",
            "5/5 [==============================] - 0s 4ms/step - loss: 0.3121 - accuracy: 0.8333\n",
            "Epoch 448/1000\n",
            "5/5 [==============================] - 0s 4ms/step - loss: 0.3122 - accuracy: 0.8333\n",
            "Epoch 449/1000\n",
            "5/5 [==============================] - 0s 3ms/step - loss: 0.3119 - accuracy: 0.8269\n",
            "Epoch 450/1000\n",
            "5/5 [==============================] - 0s 4ms/step - loss: 0.3120 - accuracy: 0.8269\n",
            "Epoch 451/1000\n",
            "5/5 [==============================] - 0s 3ms/step - loss: 0.3118 - accuracy: 0.8269\n",
            "Epoch 452/1000\n",
            "5/5 [==============================] - 0s 4ms/step - loss: 0.3118 - accuracy: 0.8269\n",
            "Epoch 453/1000\n",
            "5/5 [==============================] - 0s 3ms/step - loss: 0.3118 - accuracy: 0.8269\n",
            "Epoch 454/1000\n",
            "5/5 [==============================] - 0s 4ms/step - loss: 0.3115 - accuracy: 0.8269\n",
            "Epoch 455/1000\n",
            "5/5 [==============================] - 0s 4ms/step - loss: 0.3115 - accuracy: 0.8333\n",
            "Epoch 456/1000\n",
            "5/5 [==============================] - 0s 4ms/step - loss: 0.3114 - accuracy: 0.8333\n",
            "Epoch 457/1000\n",
            "5/5 [==============================] - 0s 4ms/step - loss: 0.3114 - accuracy: 0.8333\n",
            "Epoch 458/1000\n",
            "5/5 [==============================] - 0s 3ms/step - loss: 0.3114 - accuracy: 0.8333\n",
            "Epoch 459/1000\n",
            "5/5 [==============================] - 0s 3ms/step - loss: 0.3114 - accuracy: 0.8333\n",
            "Epoch 460/1000\n",
            "5/5 [==============================] - 0s 3ms/step - loss: 0.3112 - accuracy: 0.8333\n",
            "Epoch 461/1000\n",
            "5/5 [==============================] - 0s 4ms/step - loss: 0.3112 - accuracy: 0.8333\n",
            "Epoch 462/1000\n",
            "5/5 [==============================] - 0s 4ms/step - loss: 0.3111 - accuracy: 0.8333\n",
            "Epoch 463/1000\n",
            "5/5 [==============================] - 0s 3ms/step - loss: 0.3109 - accuracy: 0.8333\n",
            "Epoch 464/1000\n",
            "5/5 [==============================] - 0s 3ms/step - loss: 0.3108 - accuracy: 0.8333\n",
            "Epoch 465/1000\n",
            "5/5 [==============================] - 0s 4ms/step - loss: 0.3108 - accuracy: 0.8333\n",
            "Epoch 466/1000\n",
            "5/5 [==============================] - 0s 4ms/step - loss: 0.3108 - accuracy: 0.8333\n",
            "Epoch 467/1000\n",
            "5/5 [==============================] - 0s 3ms/step - loss: 0.3107 - accuracy: 0.8333\n",
            "Epoch 468/1000\n",
            "5/5 [==============================] - 0s 4ms/step - loss: 0.3106 - accuracy: 0.8333\n",
            "Epoch 469/1000\n",
            "5/5 [==============================] - 0s 4ms/step - loss: 0.3106 - accuracy: 0.8333\n",
            "Epoch 470/1000\n",
            "5/5 [==============================] - 0s 4ms/step - loss: 0.3104 - accuracy: 0.8333\n",
            "Epoch 471/1000\n",
            "5/5 [==============================] - 0s 3ms/step - loss: 0.3103 - accuracy: 0.8333\n",
            "Epoch 472/1000\n",
            "5/5 [==============================] - 0s 4ms/step - loss: 0.3104 - accuracy: 0.8333\n",
            "Epoch 473/1000\n",
            "5/5 [==============================] - 0s 4ms/step - loss: 0.3110 - accuracy: 0.8333\n",
            "Epoch 474/1000\n",
            "5/5 [==============================] - 0s 3ms/step - loss: 0.3105 - accuracy: 0.8333\n",
            "Epoch 475/1000\n",
            "5/5 [==============================] - 0s 4ms/step - loss: 0.3100 - accuracy: 0.8333\n",
            "Epoch 476/1000\n",
            "5/5 [==============================] - 0s 4ms/step - loss: 0.3100 - accuracy: 0.8333\n",
            "Epoch 477/1000\n",
            "5/5 [==============================] - 0s 3ms/step - loss: 0.3099 - accuracy: 0.8333\n",
            "Epoch 478/1000\n",
            "5/5 [==============================] - 0s 3ms/step - loss: 0.3100 - accuracy: 0.8333\n",
            "Epoch 479/1000\n",
            "5/5 [==============================] - 0s 3ms/step - loss: 0.3098 - accuracy: 0.8333\n",
            "Epoch 480/1000\n",
            "5/5 [==============================] - 0s 3ms/step - loss: 0.3098 - accuracy: 0.8333\n",
            "Epoch 481/1000\n",
            "5/5 [==============================] - 0s 4ms/step - loss: 0.3098 - accuracy: 0.8333\n",
            "Epoch 482/1000\n",
            "5/5 [==============================] - 0s 3ms/step - loss: 0.3096 - accuracy: 0.8333\n",
            "Epoch 483/1000\n",
            "5/5 [==============================] - 0s 3ms/step - loss: 0.3096 - accuracy: 0.8333\n",
            "Epoch 484/1000\n",
            "5/5 [==============================] - 0s 3ms/step - loss: 0.3095 - accuracy: 0.8333\n",
            "Epoch 485/1000\n",
            "5/5 [==============================] - 0s 4ms/step - loss: 0.3094 - accuracy: 0.8333\n",
            "Epoch 486/1000\n",
            "5/5 [==============================] - 0s 4ms/step - loss: 0.3094 - accuracy: 0.8333\n",
            "Epoch 487/1000\n",
            "5/5 [==============================] - 0s 4ms/step - loss: 0.3092 - accuracy: 0.8333\n",
            "Epoch 488/1000\n",
            "5/5 [==============================] - 0s 3ms/step - loss: 0.3092 - accuracy: 0.8333\n",
            "Epoch 489/1000\n",
            "5/5 [==============================] - 0s 4ms/step - loss: 0.3092 - accuracy: 0.8333\n",
            "Epoch 490/1000\n",
            "5/5 [==============================] - 0s 4ms/step - loss: 0.3094 - accuracy: 0.8397\n",
            "Epoch 491/1000\n",
            "5/5 [==============================] - 0s 3ms/step - loss: 0.3090 - accuracy: 0.8397\n",
            "Epoch 492/1000\n",
            "5/5 [==============================] - 0s 3ms/step - loss: 0.3090 - accuracy: 0.8397\n",
            "Epoch 493/1000\n",
            "5/5 [==============================] - 0s 4ms/step - loss: 0.3090 - accuracy: 0.8397\n",
            "Epoch 494/1000\n",
            "5/5 [==============================] - 0s 3ms/step - loss: 0.3088 - accuracy: 0.8397\n",
            "Epoch 495/1000\n",
            "5/5 [==============================] - 0s 3ms/step - loss: 0.3090 - accuracy: 0.8333\n",
            "Epoch 496/1000\n",
            "5/5 [==============================] - 0s 5ms/step - loss: 0.3087 - accuracy: 0.8333\n",
            "Epoch 497/1000\n",
            "5/5 [==============================] - 0s 4ms/step - loss: 0.3086 - accuracy: 0.8333\n",
            "Epoch 498/1000\n",
            "5/5 [==============================] - 0s 5ms/step - loss: 0.3085 - accuracy: 0.8397\n",
            "Epoch 499/1000\n",
            "5/5 [==============================] - 0s 5ms/step - loss: 0.3085 - accuracy: 0.8397\n",
            "Epoch 500/1000\n",
            "5/5 [==============================] - 0s 3ms/step - loss: 0.3084 - accuracy: 0.8397\n",
            "Epoch 501/1000\n",
            "5/5 [==============================] - 0s 4ms/step - loss: 0.3083 - accuracy: 0.8397\n",
            "Epoch 502/1000\n",
            "5/5 [==============================] - 0s 4ms/step - loss: 0.3083 - accuracy: 0.8397\n",
            "Epoch 503/1000\n",
            "5/5 [==============================] - 0s 3ms/step - loss: 0.3082 - accuracy: 0.8397\n",
            "Epoch 504/1000\n",
            "5/5 [==============================] - 0s 4ms/step - loss: 0.3081 - accuracy: 0.8397\n",
            "Epoch 505/1000\n",
            "5/5 [==============================] - 0s 4ms/step - loss: 0.3081 - accuracy: 0.8397\n",
            "Epoch 506/1000\n",
            "5/5 [==============================] - 0s 4ms/step - loss: 0.3081 - accuracy: 0.8397\n",
            "Epoch 507/1000\n",
            "5/5 [==============================] - 0s 3ms/step - loss: 0.3081 - accuracy: 0.8397\n",
            "Epoch 508/1000\n",
            "5/5 [==============================] - 0s 4ms/step - loss: 0.3080 - accuracy: 0.8397\n",
            "Epoch 509/1000\n",
            "5/5 [==============================] - 0s 4ms/step - loss: 0.3078 - accuracy: 0.8397\n",
            "Epoch 510/1000\n",
            "5/5 [==============================] - 0s 4ms/step - loss: 0.3077 - accuracy: 0.8397\n",
            "Epoch 511/1000\n",
            "5/5 [==============================] - 0s 3ms/step - loss: 0.3077 - accuracy: 0.8397\n",
            "Epoch 512/1000\n",
            "5/5 [==============================] - 0s 3ms/step - loss: 0.3085 - accuracy: 0.8397\n",
            "Epoch 513/1000\n",
            "5/5 [==============================] - 0s 4ms/step - loss: 0.3075 - accuracy: 0.8397\n",
            "Epoch 514/1000\n",
            "5/5 [==============================] - 0s 4ms/step - loss: 0.3074 - accuracy: 0.8397\n",
            "Epoch 515/1000\n",
            "5/5 [==============================] - 0s 3ms/step - loss: 0.3075 - accuracy: 0.8397\n",
            "Epoch 516/1000\n",
            "5/5 [==============================] - 0s 3ms/step - loss: 0.3074 - accuracy: 0.8397\n",
            "Epoch 517/1000\n",
            "5/5 [==============================] - 0s 3ms/step - loss: 0.3072 - accuracy: 0.8397\n",
            "Epoch 518/1000\n",
            "5/5 [==============================] - 0s 4ms/step - loss: 0.3072 - accuracy: 0.8397\n",
            "Epoch 519/1000\n",
            "5/5 [==============================] - 0s 8ms/step - loss: 0.3071 - accuracy: 0.8397\n",
            "Epoch 520/1000\n",
            "5/5 [==============================] - 0s 9ms/step - loss: 0.3071 - accuracy: 0.8397\n",
            "Epoch 521/1000\n",
            "5/5 [==============================] - 0s 5ms/step - loss: 0.3070 - accuracy: 0.8397\n",
            "Epoch 522/1000\n",
            "5/5 [==============================] - 0s 4ms/step - loss: 0.3069 - accuracy: 0.8397\n",
            "Epoch 523/1000\n",
            "5/5 [==============================] - 0s 7ms/step - loss: 0.3068 - accuracy: 0.8397\n",
            "Epoch 524/1000\n",
            "5/5 [==============================] - 0s 6ms/step - loss: 0.3067 - accuracy: 0.8397\n",
            "Epoch 525/1000\n",
            "5/5 [==============================] - 0s 6ms/step - loss: 0.3067 - accuracy: 0.8397\n",
            "Epoch 526/1000\n",
            "5/5 [==============================] - 0s 7ms/step - loss: 0.3066 - accuracy: 0.8397\n",
            "Epoch 527/1000\n",
            "5/5 [==============================] - 0s 8ms/step - loss: 0.3065 - accuracy: 0.8397\n",
            "Epoch 528/1000\n",
            "5/5 [==============================] - 0s 7ms/step - loss: 0.3064 - accuracy: 0.8397\n",
            "Epoch 529/1000\n",
            "5/5 [==============================] - 0s 9ms/step - loss: 0.3064 - accuracy: 0.8397\n",
            "Epoch 530/1000\n",
            "5/5 [==============================] - 0s 9ms/step - loss: 0.3063 - accuracy: 0.8397\n",
            "Epoch 531/1000\n",
            "5/5 [==============================] - 0s 6ms/step - loss: 0.3062 - accuracy: 0.8397\n",
            "Epoch 532/1000\n",
            "5/5 [==============================] - 0s 5ms/step - loss: 0.3065 - accuracy: 0.8397\n",
            "Epoch 533/1000\n",
            "5/5 [==============================] - 0s 5ms/step - loss: 0.3062 - accuracy: 0.8397\n",
            "Epoch 534/1000\n",
            "5/5 [==============================] - 0s 7ms/step - loss: 0.3060 - accuracy: 0.8397\n",
            "Epoch 535/1000\n",
            "5/5 [==============================] - 0s 8ms/step - loss: 0.3061 - accuracy: 0.8397\n",
            "Epoch 536/1000\n",
            "5/5 [==============================] - 0s 8ms/step - loss: 0.3064 - accuracy: 0.8397\n",
            "Epoch 537/1000\n",
            "5/5 [==============================] - 0s 8ms/step - loss: 0.3057 - accuracy: 0.8397\n",
            "Epoch 538/1000\n",
            "5/5 [==============================] - 0s 4ms/step - loss: 0.3058 - accuracy: 0.8397\n",
            "Epoch 539/1000\n",
            "5/5 [==============================] - 0s 6ms/step - loss: 0.3056 - accuracy: 0.8397\n",
            "Epoch 540/1000\n",
            "5/5 [==============================] - 0s 6ms/step - loss: 0.3056 - accuracy: 0.8397\n",
            "Epoch 541/1000\n",
            "5/5 [==============================] - 0s 4ms/step - loss: 0.3054 - accuracy: 0.8397\n",
            "Epoch 542/1000\n",
            "5/5 [==============================] - 0s 12ms/step - loss: 0.3054 - accuracy: 0.8397\n",
            "Epoch 543/1000\n",
            "5/5 [==============================] - 0s 4ms/step - loss: 0.3052 - accuracy: 0.8397\n",
            "Epoch 544/1000\n",
            "5/5 [==============================] - 0s 6ms/step - loss: 0.3053 - accuracy: 0.8397\n",
            "Epoch 545/1000\n",
            "5/5 [==============================] - 0s 9ms/step - loss: 0.3052 - accuracy: 0.8397\n",
            "Epoch 546/1000\n",
            "5/5 [==============================] - 0s 4ms/step - loss: 0.3051 - accuracy: 0.8397\n",
            "Epoch 547/1000\n",
            "5/5 [==============================] - 0s 5ms/step - loss: 0.3049 - accuracy: 0.8333\n",
            "Epoch 548/1000\n",
            "5/5 [==============================] - 0s 5ms/step - loss: 0.3048 - accuracy: 0.8333\n",
            "Epoch 549/1000\n",
            "5/5 [==============================] - 0s 6ms/step - loss: 0.3047 - accuracy: 0.8333\n",
            "Epoch 550/1000\n",
            "5/5 [==============================] - 0s 6ms/step - loss: 0.3047 - accuracy: 0.8333\n",
            "Epoch 551/1000\n",
            "5/5 [==============================] - 0s 4ms/step - loss: 0.3046 - accuracy: 0.8397\n",
            "Epoch 552/1000\n",
            "5/5 [==============================] - 0s 7ms/step - loss: 0.3046 - accuracy: 0.8397\n",
            "Epoch 553/1000\n",
            "5/5 [==============================] - 0s 7ms/step - loss: 0.3043 - accuracy: 0.8397\n",
            "Epoch 554/1000\n",
            "5/5 [==============================] - 0s 7ms/step - loss: 0.3043 - accuracy: 0.8397\n",
            "Epoch 555/1000\n",
            "5/5 [==============================] - 0s 5ms/step - loss: 0.3041 - accuracy: 0.8397\n",
            "Epoch 556/1000\n",
            "5/5 [==============================] - 0s 7ms/step - loss: 0.3042 - accuracy: 0.8333\n",
            "Epoch 557/1000\n",
            "5/5 [==============================] - 0s 6ms/step - loss: 0.3040 - accuracy: 0.8333\n",
            "Epoch 558/1000\n",
            "5/5 [==============================] - 0s 4ms/step - loss: 0.3039 - accuracy: 0.8333\n",
            "Epoch 559/1000\n",
            "5/5 [==============================] - 0s 9ms/step - loss: 0.3038 - accuracy: 0.8397\n",
            "Epoch 560/1000\n",
            "5/5 [==============================] - 0s 4ms/step - loss: 0.3038 - accuracy: 0.8397\n",
            "Epoch 561/1000\n",
            "5/5 [==============================] - 0s 5ms/step - loss: 0.3038 - accuracy: 0.8397\n",
            "Epoch 562/1000\n",
            "5/5 [==============================] - 0s 4ms/step - loss: 0.3037 - accuracy: 0.8397\n",
            "Epoch 563/1000\n",
            "5/5 [==============================] - 0s 4ms/step - loss: 0.3034 - accuracy: 0.8397\n",
            "Epoch 564/1000\n",
            "5/5 [==============================] - 0s 4ms/step - loss: 0.3034 - accuracy: 0.8333\n",
            "Epoch 565/1000\n",
            "5/5 [==============================] - 0s 4ms/step - loss: 0.3034 - accuracy: 0.8397\n",
            "Epoch 566/1000\n",
            "5/5 [==============================] - 0s 4ms/step - loss: 0.3031 - accuracy: 0.8397\n",
            "Epoch 567/1000\n",
            "5/5 [==============================] - 0s 4ms/step - loss: 0.3030 - accuracy: 0.8397\n",
            "Epoch 568/1000\n",
            "5/5 [==============================] - 0s 4ms/step - loss: 0.3029 - accuracy: 0.8397\n",
            "Epoch 569/1000\n",
            "5/5 [==============================] - 0s 5ms/step - loss: 0.3028 - accuracy: 0.8333\n",
            "Epoch 570/1000\n",
            "5/5 [==============================] - 0s 7ms/step - loss: 0.3027 - accuracy: 0.8333\n",
            "Epoch 571/1000\n",
            "5/5 [==============================] - 0s 4ms/step - loss: 0.3026 - accuracy: 0.8397\n",
            "Epoch 572/1000\n",
            "5/5 [==============================] - 0s 7ms/step - loss: 0.3025 - accuracy: 0.8397\n",
            "Epoch 573/1000\n",
            "5/5 [==============================] - 0s 8ms/step - loss: 0.3025 - accuracy: 0.8397\n",
            "Epoch 574/1000\n",
            "5/5 [==============================] - 0s 5ms/step - loss: 0.3022 - accuracy: 0.8397\n",
            "Epoch 575/1000\n",
            "5/5 [==============================] - 0s 9ms/step - loss: 0.3022 - accuracy: 0.8397\n",
            "Epoch 576/1000\n",
            "5/5 [==============================] - 0s 9ms/step - loss: 0.3023 - accuracy: 0.8269\n",
            "Epoch 577/1000\n",
            "5/5 [==============================] - 0s 7ms/step - loss: 0.3022 - accuracy: 0.8397\n",
            "Epoch 578/1000\n",
            "5/5 [==============================] - 0s 6ms/step - loss: 0.3021 - accuracy: 0.8333\n",
            "Epoch 579/1000\n",
            "5/5 [==============================] - 0s 7ms/step - loss: 0.3020 - accuracy: 0.8397\n",
            "Epoch 580/1000\n",
            "5/5 [==============================] - 0s 5ms/step - loss: 0.3018 - accuracy: 0.8462\n",
            "Epoch 581/1000\n",
            "5/5 [==============================] - 0s 6ms/step - loss: 0.3016 - accuracy: 0.8397\n",
            "Epoch 582/1000\n",
            "5/5 [==============================] - 0s 5ms/step - loss: 0.3016 - accuracy: 0.8397\n",
            "Epoch 583/1000\n",
            "5/5 [==============================] - 0s 7ms/step - loss: 0.3016 - accuracy: 0.8462\n",
            "Epoch 584/1000\n",
            "5/5 [==============================] - 0s 5ms/step - loss: 0.3013 - accuracy: 0.8462\n",
            "Epoch 585/1000\n",
            "5/5 [==============================] - 0s 5ms/step - loss: 0.3015 - accuracy: 0.8397\n",
            "Epoch 586/1000\n",
            "5/5 [==============================] - 0s 5ms/step - loss: 0.3012 - accuracy: 0.8397\n",
            "Epoch 587/1000\n",
            "5/5 [==============================] - 0s 4ms/step - loss: 0.3011 - accuracy: 0.8397\n",
            "Epoch 588/1000\n",
            "5/5 [==============================] - 0s 4ms/step - loss: 0.3016 - accuracy: 0.8333\n",
            "Epoch 589/1000\n",
            "5/5 [==============================] - 0s 4ms/step - loss: 0.3008 - accuracy: 0.8462\n",
            "Epoch 590/1000\n",
            "5/5 [==============================] - 0s 4ms/step - loss: 0.3012 - accuracy: 0.8462\n",
            "Epoch 591/1000\n",
            "5/5 [==============================] - 0s 4ms/step - loss: 0.3009 - accuracy: 0.8462\n",
            "Epoch 592/1000\n",
            "5/5 [==============================] - 0s 6ms/step - loss: 0.3007 - accuracy: 0.8462\n",
            "Epoch 593/1000\n",
            "5/5 [==============================] - 0s 5ms/step - loss: 0.3007 - accuracy: 0.8462\n",
            "Epoch 594/1000\n",
            "5/5 [==============================] - 0s 4ms/step - loss: 0.3005 - accuracy: 0.8462\n",
            "Epoch 595/1000\n",
            "5/5 [==============================] - 0s 4ms/step - loss: 0.3004 - accuracy: 0.8526\n",
            "Epoch 596/1000\n",
            "5/5 [==============================] - 0s 4ms/step - loss: 0.3003 - accuracy: 0.8526\n",
            "Epoch 597/1000\n",
            "5/5 [==============================] - 0s 4ms/step - loss: 0.3002 - accuracy: 0.8397\n",
            "Epoch 598/1000\n",
            "5/5 [==============================] - 0s 4ms/step - loss: 0.3002 - accuracy: 0.8397\n",
            "Epoch 599/1000\n",
            "5/5 [==============================] - 0s 4ms/step - loss: 0.3003 - accuracy: 0.8462\n",
            "Epoch 600/1000\n",
            "5/5 [==============================] - 0s 4ms/step - loss: 0.3000 - accuracy: 0.8526\n",
            "Epoch 601/1000\n",
            "5/5 [==============================] - 0s 5ms/step - loss: 0.3003 - accuracy: 0.8462\n",
            "Epoch 602/1000\n",
            "5/5 [==============================] - 0s 5ms/step - loss: 0.2999 - accuracy: 0.8526\n",
            "Epoch 603/1000\n",
            "5/5 [==============================] - 0s 5ms/step - loss: 0.2998 - accuracy: 0.8462\n",
            "Epoch 604/1000\n",
            "5/5 [==============================] - 0s 5ms/step - loss: 0.2998 - accuracy: 0.8462\n",
            "Epoch 605/1000\n",
            "5/5 [==============================] - 0s 4ms/step - loss: 0.2996 - accuracy: 0.8462\n",
            "Epoch 606/1000\n",
            "5/5 [==============================] - 0s 4ms/step - loss: 0.2995 - accuracy: 0.8526\n",
            "Epoch 607/1000\n",
            "5/5 [==============================] - 0s 4ms/step - loss: 0.2995 - accuracy: 0.8462\n",
            "Epoch 608/1000\n",
            "5/5 [==============================] - 0s 7ms/step - loss: 0.2994 - accuracy: 0.8462\n",
            "Epoch 609/1000\n",
            "5/5 [==============================] - 0s 4ms/step - loss: 0.2994 - accuracy: 0.8462\n",
            "Epoch 610/1000\n",
            "5/5 [==============================] - 0s 4ms/step - loss: 0.2992 - accuracy: 0.8462\n",
            "Epoch 611/1000\n",
            "5/5 [==============================] - 0s 6ms/step - loss: 0.2993 - accuracy: 0.8462\n",
            "Epoch 612/1000\n",
            "5/5 [==============================] - 0s 5ms/step - loss: 0.2993 - accuracy: 0.8462\n",
            "Epoch 613/1000\n",
            "5/5 [==============================] - 0s 5ms/step - loss: 0.2989 - accuracy: 0.8462\n",
            "Epoch 614/1000\n",
            "5/5 [==============================] - 0s 6ms/step - loss: 0.2988 - accuracy: 0.8526\n",
            "Epoch 615/1000\n",
            "5/5 [==============================] - 0s 4ms/step - loss: 0.2987 - accuracy: 0.8526\n",
            "Epoch 616/1000\n",
            "5/5 [==============================] - 0s 5ms/step - loss: 0.2988 - accuracy: 0.8462\n",
            "Epoch 617/1000\n",
            "5/5 [==============================] - 0s 4ms/step - loss: 0.2985 - accuracy: 0.8462\n",
            "Epoch 618/1000\n",
            "5/5 [==============================] - 0s 5ms/step - loss: 0.2990 - accuracy: 0.8462\n",
            "Epoch 619/1000\n",
            "5/5 [==============================] - 0s 7ms/step - loss: 0.2986 - accuracy: 0.8462\n",
            "Epoch 620/1000\n",
            "5/5 [==============================] - 0s 4ms/step - loss: 0.2983 - accuracy: 0.8462\n",
            "Epoch 621/1000\n",
            "5/5 [==============================] - 0s 4ms/step - loss: 0.2983 - accuracy: 0.8462\n",
            "Epoch 622/1000\n",
            "5/5 [==============================] - 0s 5ms/step - loss: 0.2983 - accuracy: 0.8462\n",
            "Epoch 623/1000\n",
            "5/5 [==============================] - 0s 4ms/step - loss: 0.2981 - accuracy: 0.8462\n",
            "Epoch 624/1000\n",
            "5/5 [==============================] - 0s 5ms/step - loss: 0.2982 - accuracy: 0.8462\n",
            "Epoch 625/1000\n",
            "5/5 [==============================] - 0s 5ms/step - loss: 0.2982 - accuracy: 0.8462\n",
            "Epoch 626/1000\n",
            "5/5 [==============================] - 0s 6ms/step - loss: 0.2980 - accuracy: 0.8462\n",
            "Epoch 627/1000\n",
            "5/5 [==============================] - 0s 4ms/step - loss: 0.2981 - accuracy: 0.8397\n",
            "Epoch 628/1000\n",
            "5/5 [==============================] - 0s 5ms/step - loss: 0.2977 - accuracy: 0.8462\n",
            "Epoch 629/1000\n",
            "5/5 [==============================] - 0s 4ms/step - loss: 0.2975 - accuracy: 0.8462\n",
            "Epoch 630/1000\n",
            "5/5 [==============================] - 0s 4ms/step - loss: 0.2976 - accuracy: 0.8462\n",
            "Epoch 631/1000\n",
            "5/5 [==============================] - 0s 4ms/step - loss: 0.2976 - accuracy: 0.8462\n",
            "Epoch 632/1000\n",
            "5/5 [==============================] - 0s 5ms/step - loss: 0.2974 - accuracy: 0.8462\n",
            "Epoch 633/1000\n",
            "5/5 [==============================] - 0s 6ms/step - loss: 0.2973 - accuracy: 0.8462\n",
            "Epoch 634/1000\n",
            "5/5 [==============================] - 0s 6ms/step - loss: 0.2972 - accuracy: 0.8462\n",
            "Epoch 635/1000\n",
            "5/5 [==============================] - 0s 5ms/step - loss: 0.2971 - accuracy: 0.8462\n",
            "Epoch 636/1000\n",
            "5/5 [==============================] - 0s 4ms/step - loss: 0.2971 - accuracy: 0.8462\n",
            "Epoch 637/1000\n",
            "5/5 [==============================] - 0s 5ms/step - loss: 0.2970 - accuracy: 0.8397\n",
            "Epoch 638/1000\n",
            "5/5 [==============================] - 0s 4ms/step - loss: 0.2969 - accuracy: 0.8526\n",
            "Epoch 639/1000\n",
            "5/5 [==============================] - 0s 5ms/step - loss: 0.2968 - accuracy: 0.8462\n",
            "Epoch 640/1000\n",
            "5/5 [==============================] - 0s 6ms/step - loss: 0.2970 - accuracy: 0.8462\n",
            "Epoch 641/1000\n",
            "5/5 [==============================] - 0s 6ms/step - loss: 0.2969 - accuracy: 0.8397\n",
            "Epoch 642/1000\n",
            "5/5 [==============================] - 0s 6ms/step - loss: 0.2966 - accuracy: 0.8397\n",
            "Epoch 643/1000\n",
            "5/5 [==============================] - 0s 4ms/step - loss: 0.2966 - accuracy: 0.8397\n",
            "Epoch 644/1000\n",
            "5/5 [==============================] - 0s 5ms/step - loss: 0.2965 - accuracy: 0.8397\n",
            "Epoch 645/1000\n",
            "5/5 [==============================] - 0s 5ms/step - loss: 0.2968 - accuracy: 0.8462\n",
            "Epoch 646/1000\n",
            "5/5 [==============================] - 0s 5ms/step - loss: 0.2966 - accuracy: 0.8462\n",
            "Epoch 647/1000\n",
            "5/5 [==============================] - 0s 4ms/step - loss: 0.2962 - accuracy: 0.8462\n",
            "Epoch 648/1000\n",
            "5/5 [==============================] - 0s 4ms/step - loss: 0.2962 - accuracy: 0.8462\n",
            "Epoch 649/1000\n",
            "5/5 [==============================] - 0s 5ms/step - loss: 0.2962 - accuracy: 0.8462\n",
            "Epoch 650/1000\n",
            "5/5 [==============================] - 0s 6ms/step - loss: 0.2960 - accuracy: 0.8462\n",
            "Epoch 651/1000\n",
            "5/5 [==============================] - 0s 5ms/step - loss: 0.2958 - accuracy: 0.8462\n",
            "Epoch 652/1000\n",
            "5/5 [==============================] - 0s 7ms/step - loss: 0.2958 - accuracy: 0.8462\n",
            "Epoch 653/1000\n",
            "5/5 [==============================] - 0s 5ms/step - loss: 0.2956 - accuracy: 0.8462\n",
            "Epoch 654/1000\n",
            "5/5 [==============================] - 0s 5ms/step - loss: 0.2956 - accuracy: 0.8397\n",
            "Epoch 655/1000\n",
            "5/5 [==============================] - 0s 5ms/step - loss: 0.2956 - accuracy: 0.8333\n",
            "Epoch 656/1000\n",
            "5/5 [==============================] - 0s 7ms/step - loss: 0.2956 - accuracy: 0.8397\n",
            "Epoch 657/1000\n",
            "5/5 [==============================] - 0s 7ms/step - loss: 0.2957 - accuracy: 0.8462\n",
            "Epoch 658/1000\n",
            "5/5 [==============================] - 0s 5ms/step - loss: 0.2952 - accuracy: 0.8462\n",
            "Epoch 659/1000\n",
            "5/5 [==============================] - 0s 5ms/step - loss: 0.2951 - accuracy: 0.8462\n",
            "Epoch 660/1000\n",
            "5/5 [==============================] - 0s 5ms/step - loss: 0.2950 - accuracy: 0.8397\n",
            "Epoch 661/1000\n",
            "5/5 [==============================] - 0s 4ms/step - loss: 0.2949 - accuracy: 0.8333\n",
            "Epoch 662/1000\n",
            "5/5 [==============================] - 0s 4ms/step - loss: 0.2947 - accuracy: 0.8333\n",
            "Epoch 663/1000\n",
            "5/5 [==============================] - 0s 4ms/step - loss: 0.2947 - accuracy: 0.8333\n",
            "Epoch 664/1000\n",
            "5/5 [==============================] - 0s 5ms/step - loss: 0.2946 - accuracy: 0.8333\n",
            "Epoch 665/1000\n",
            "5/5 [==============================] - 0s 5ms/step - loss: 0.2945 - accuracy: 0.8333\n",
            "Epoch 666/1000\n",
            "5/5 [==============================] - 0s 4ms/step - loss: 0.2952 - accuracy: 0.8333\n",
            "Epoch 667/1000\n",
            "5/5 [==============================] - 0s 7ms/step - loss: 0.2942 - accuracy: 0.8462\n",
            "Epoch 668/1000\n",
            "5/5 [==============================] - 0s 6ms/step - loss: 0.2941 - accuracy: 0.8462\n",
            "Epoch 669/1000\n",
            "5/5 [==============================] - 0s 6ms/step - loss: 0.2940 - accuracy: 0.8333\n",
            "Epoch 670/1000\n",
            "5/5 [==============================] - 0s 6ms/step - loss: 0.2944 - accuracy: 0.8333\n",
            "Epoch 671/1000\n",
            "5/5 [==============================] - 0s 4ms/step - loss: 0.2940 - accuracy: 0.8462\n",
            "Epoch 672/1000\n",
            "5/5 [==============================] - 0s 3ms/step - loss: 0.2934 - accuracy: 0.8397\n",
            "Epoch 673/1000\n",
            "5/5 [==============================] - 0s 4ms/step - loss: 0.2933 - accuracy: 0.8333\n",
            "Epoch 674/1000\n",
            "5/5 [==============================] - 0s 6ms/step - loss: 0.2934 - accuracy: 0.8333\n",
            "Epoch 675/1000\n",
            "5/5 [==============================] - 0s 4ms/step - loss: 0.2931 - accuracy: 0.8333\n",
            "Epoch 676/1000\n",
            "5/5 [==============================] - 0s 3ms/step - loss: 0.2929 - accuracy: 0.8333\n",
            "Epoch 677/1000\n",
            "5/5 [==============================] - 0s 6ms/step - loss: 0.2927 - accuracy: 0.8333\n",
            "Epoch 678/1000\n",
            "5/5 [==============================] - 0s 7ms/step - loss: 0.2932 - accuracy: 0.8397\n",
            "Epoch 679/1000\n",
            "5/5 [==============================] - 0s 4ms/step - loss: 0.2924 - accuracy: 0.8526\n",
            "Epoch 680/1000\n",
            "5/5 [==============================] - 0s 5ms/step - loss: 0.2923 - accuracy: 0.8462\n",
            "Epoch 681/1000\n",
            "5/5 [==============================] - 0s 5ms/step - loss: 0.2917 - accuracy: 0.8526\n",
            "Epoch 682/1000\n",
            "5/5 [==============================] - 0s 6ms/step - loss: 0.2913 - accuracy: 0.8526\n",
            "Epoch 683/1000\n",
            "5/5 [==============================] - 0s 6ms/step - loss: 0.2913 - accuracy: 0.8526\n",
            "Epoch 684/1000\n",
            "5/5 [==============================] - 0s 5ms/step - loss: 0.2908 - accuracy: 0.8526\n",
            "Epoch 685/1000\n",
            "5/5 [==============================] - 0s 6ms/step - loss: 0.2904 - accuracy: 0.8590\n",
            "Epoch 686/1000\n",
            "5/5 [==============================] - 0s 5ms/step - loss: 0.2896 - accuracy: 0.8526\n",
            "Epoch 687/1000\n",
            "5/5 [==============================] - 0s 5ms/step - loss: 0.2891 - accuracy: 0.8526\n",
            "Epoch 688/1000\n",
            "5/5 [==============================] - 0s 5ms/step - loss: 0.2888 - accuracy: 0.8462\n",
            "Epoch 689/1000\n",
            "5/5 [==============================] - 0s 5ms/step - loss: 0.2886 - accuracy: 0.8590\n",
            "Epoch 690/1000\n",
            "5/5 [==============================] - 0s 5ms/step - loss: 0.2871 - accuracy: 0.8526\n",
            "Epoch 691/1000\n",
            "5/5 [==============================] - 0s 5ms/step - loss: 0.2874 - accuracy: 0.8526\n",
            "Epoch 692/1000\n",
            "5/5 [==============================] - 0s 9ms/step - loss: 0.2857 - accuracy: 0.8462\n",
            "Epoch 693/1000\n",
            "5/5 [==============================] - 0s 5ms/step - loss: 0.2854 - accuracy: 0.8397\n",
            "Epoch 694/1000\n",
            "5/5 [==============================] - 0s 6ms/step - loss: 0.2849 - accuracy: 0.8397\n",
            "Epoch 695/1000\n",
            "5/5 [==============================] - 0s 6ms/step - loss: 0.2837 - accuracy: 0.8462\n",
            "Epoch 696/1000\n",
            "5/5 [==============================] - 0s 6ms/step - loss: 0.2832 - accuracy: 0.8462\n",
            "Epoch 697/1000\n",
            "5/5 [==============================] - 0s 3ms/step - loss: 0.2832 - accuracy: 0.8397\n",
            "Epoch 698/1000\n",
            "5/5 [==============================] - 0s 4ms/step - loss: 0.2825 - accuracy: 0.8397\n",
            "Epoch 699/1000\n",
            "5/5 [==============================] - 0s 4ms/step - loss: 0.2822 - accuracy: 0.8397\n",
            "Epoch 700/1000\n",
            "5/5 [==============================] - 0s 5ms/step - loss: 0.2819 - accuracy: 0.8397\n",
            "Epoch 701/1000\n",
            "5/5 [==============================] - 0s 4ms/step - loss: 0.2818 - accuracy: 0.8333\n",
            "Epoch 702/1000\n",
            "5/5 [==============================] - 0s 6ms/step - loss: 0.2814 - accuracy: 0.8269\n",
            "Epoch 703/1000\n",
            "5/5 [==============================] - 0s 6ms/step - loss: 0.2811 - accuracy: 0.8269\n",
            "Epoch 704/1000\n",
            "5/5 [==============================] - 0s 6ms/step - loss: 0.2808 - accuracy: 0.8269\n",
            "Epoch 705/1000\n",
            "5/5 [==============================] - 0s 5ms/step - loss: 0.2806 - accuracy: 0.8269\n",
            "Epoch 706/1000\n",
            "5/5 [==============================] - 0s 5ms/step - loss: 0.2803 - accuracy: 0.8269\n",
            "Epoch 707/1000\n",
            "5/5 [==============================] - 0s 10ms/step - loss: 0.2801 - accuracy: 0.8269\n",
            "Epoch 708/1000\n",
            "5/5 [==============================] - 0s 7ms/step - loss: 0.2800 - accuracy: 0.8269\n",
            "Epoch 709/1000\n",
            "5/5 [==============================] - 0s 5ms/step - loss: 0.2797 - accuracy: 0.8269\n",
            "Epoch 710/1000\n",
            "5/5 [==============================] - 0s 4ms/step - loss: 0.2794 - accuracy: 0.8269\n",
            "Epoch 711/1000\n",
            "5/5 [==============================] - 0s 5ms/step - loss: 0.2792 - accuracy: 0.8269\n",
            "Epoch 712/1000\n",
            "5/5 [==============================] - 0s 5ms/step - loss: 0.2795 - accuracy: 0.8333\n",
            "Epoch 713/1000\n",
            "5/5 [==============================] - 0s 4ms/step - loss: 0.2789 - accuracy: 0.8269\n",
            "Epoch 714/1000\n",
            "5/5 [==============================] - 0s 4ms/step - loss: 0.2790 - accuracy: 0.8205\n",
            "Epoch 715/1000\n",
            "5/5 [==============================] - 0s 4ms/step - loss: 0.2786 - accuracy: 0.8205\n",
            "Epoch 716/1000\n",
            "5/5 [==============================] - 0s 4ms/step - loss: 0.2785 - accuracy: 0.8205\n",
            "Epoch 717/1000\n",
            "5/5 [==============================] - 0s 6ms/step - loss: 0.2784 - accuracy: 0.8269\n",
            "Epoch 718/1000\n",
            "5/5 [==============================] - 0s 6ms/step - loss: 0.2781 - accuracy: 0.8269\n",
            "Epoch 719/1000\n",
            "5/5 [==============================] - 0s 6ms/step - loss: 0.2778 - accuracy: 0.8269\n",
            "Epoch 720/1000\n",
            "5/5 [==============================] - 0s 6ms/step - loss: 0.2778 - accuracy: 0.8269\n",
            "Epoch 721/1000\n",
            "5/5 [==============================] - 0s 5ms/step - loss: 0.2776 - accuracy: 0.8269\n",
            "Epoch 722/1000\n",
            "5/5 [==============================] - 0s 7ms/step - loss: 0.2777 - accuracy: 0.8269\n",
            "Epoch 723/1000\n",
            "5/5 [==============================] - 0s 5ms/step - loss: 0.2775 - accuracy: 0.8269\n",
            "Epoch 724/1000\n",
            "5/5 [==============================] - 0s 5ms/step - loss: 0.2771 - accuracy: 0.8269\n",
            "Epoch 725/1000\n",
            "5/5 [==============================] - 0s 4ms/step - loss: 0.2771 - accuracy: 0.8269\n",
            "Epoch 726/1000\n",
            "5/5 [==============================] - 0s 7ms/step - loss: 0.2769 - accuracy: 0.8269\n",
            "Epoch 727/1000\n",
            "5/5 [==============================] - 0s 5ms/step - loss: 0.2767 - accuracy: 0.8269\n",
            "Epoch 728/1000\n",
            "5/5 [==============================] - 0s 4ms/step - loss: 0.2765 - accuracy: 0.8269\n",
            "Epoch 729/1000\n",
            "5/5 [==============================] - 0s 4ms/step - loss: 0.2765 - accuracy: 0.8269\n",
            "Epoch 730/1000\n",
            "5/5 [==============================] - 0s 4ms/step - loss: 0.2762 - accuracy: 0.8269\n",
            "Epoch 731/1000\n",
            "5/5 [==============================] - 0s 4ms/step - loss: 0.2764 - accuracy: 0.8269\n",
            "Epoch 732/1000\n",
            "5/5 [==============================] - 0s 4ms/step - loss: 0.2759 - accuracy: 0.8269\n",
            "Epoch 733/1000\n",
            "5/5 [==============================] - 0s 5ms/step - loss: 0.2761 - accuracy: 0.8269\n",
            "Epoch 734/1000\n",
            "5/5 [==============================] - 0s 5ms/step - loss: 0.2757 - accuracy: 0.8269\n",
            "Epoch 735/1000\n",
            "5/5 [==============================] - 0s 7ms/step - loss: 0.2755 - accuracy: 0.8269\n",
            "Epoch 736/1000\n",
            "5/5 [==============================] - 0s 11ms/step - loss: 0.2753 - accuracy: 0.8269\n",
            "Epoch 737/1000\n",
            "5/5 [==============================] - 0s 6ms/step - loss: 0.2753 - accuracy: 0.8269\n",
            "Epoch 738/1000\n",
            "5/5 [==============================] - 0s 7ms/step - loss: 0.2751 - accuracy: 0.8269\n",
            "Epoch 739/1000\n",
            "5/5 [==============================] - 0s 8ms/step - loss: 0.2749 - accuracy: 0.8269\n",
            "Epoch 740/1000\n",
            "5/5 [==============================] - 0s 7ms/step - loss: 0.2748 - accuracy: 0.8269\n",
            "Epoch 741/1000\n",
            "5/5 [==============================] - 0s 6ms/step - loss: 0.2747 - accuracy: 0.8269\n",
            "Epoch 742/1000\n",
            "5/5 [==============================] - 0s 8ms/step - loss: 0.2745 - accuracy: 0.8269\n",
            "Epoch 743/1000\n",
            "5/5 [==============================] - 0s 6ms/step - loss: 0.2746 - accuracy: 0.8269\n",
            "Epoch 744/1000\n",
            "5/5 [==============================] - 0s 6ms/step - loss: 0.2744 - accuracy: 0.8269\n",
            "Epoch 745/1000\n",
            "5/5 [==============================] - 0s 7ms/step - loss: 0.2744 - accuracy: 0.8269\n",
            "Epoch 746/1000\n",
            "5/5 [==============================] - 0s 6ms/step - loss: 0.2741 - accuracy: 0.8269\n",
            "Epoch 747/1000\n",
            "5/5 [==============================] - 0s 6ms/step - loss: 0.2738 - accuracy: 0.8269\n",
            "Epoch 748/1000\n",
            "5/5 [==============================] - 0s 7ms/step - loss: 0.2738 - accuracy: 0.8269\n",
            "Epoch 749/1000\n",
            "5/5 [==============================] - 0s 8ms/step - loss: 0.2741 - accuracy: 0.8269\n",
            "Epoch 750/1000\n",
            "5/5 [==============================] - 0s 4ms/step - loss: 0.2735 - accuracy: 0.8269\n",
            "Epoch 751/1000\n",
            "5/5 [==============================] - 0s 7ms/step - loss: 0.2738 - accuracy: 0.8269\n",
            "Epoch 752/1000\n",
            "5/5 [==============================] - 0s 6ms/step - loss: 0.2736 - accuracy: 0.8333\n",
            "Epoch 753/1000\n",
            "5/5 [==============================] - 0s 5ms/step - loss: 0.2732 - accuracy: 0.8269\n",
            "Epoch 754/1000\n",
            "5/5 [==============================] - 0s 4ms/step - loss: 0.2734 - accuracy: 0.8269\n",
            "Epoch 755/1000\n",
            "5/5 [==============================] - 0s 5ms/step - loss: 0.2731 - accuracy: 0.8269\n",
            "Epoch 756/1000\n",
            "5/5 [==============================] - 0s 4ms/step - loss: 0.2730 - accuracy: 0.8269\n",
            "Epoch 757/1000\n",
            "5/5 [==============================] - 0s 4ms/step - loss: 0.2727 - accuracy: 0.8269\n",
            "Epoch 758/1000\n",
            "5/5 [==============================] - 0s 5ms/step - loss: 0.2729 - accuracy: 0.8269\n",
            "Epoch 759/1000\n",
            "5/5 [==============================] - 0s 6ms/step - loss: 0.2725 - accuracy: 0.8333\n",
            "Epoch 760/1000\n",
            "5/5 [==============================] - 0s 6ms/step - loss: 0.2727 - accuracy: 0.8269\n",
            "Epoch 761/1000\n",
            "5/5 [==============================] - 0s 4ms/step - loss: 0.2723 - accuracy: 0.8269\n",
            "Epoch 762/1000\n",
            "5/5 [==============================] - 0s 5ms/step - loss: 0.2724 - accuracy: 0.8269\n",
            "Epoch 763/1000\n",
            "5/5 [==============================] - 0s 4ms/step - loss: 0.2725 - accuracy: 0.8269\n",
            "Epoch 764/1000\n",
            "5/5 [==============================] - 0s 5ms/step - loss: 0.2720 - accuracy: 0.8269\n",
            "Epoch 765/1000\n",
            "5/5 [==============================] - 0s 7ms/step - loss: 0.2720 - accuracy: 0.8269\n",
            "Epoch 766/1000\n",
            "5/5 [==============================] - 0s 5ms/step - loss: 0.2718 - accuracy: 0.8269\n",
            "Epoch 767/1000\n",
            "5/5 [==============================] - 0s 5ms/step - loss: 0.2717 - accuracy: 0.8333\n",
            "Epoch 768/1000\n",
            "5/5 [==============================] - 0s 4ms/step - loss: 0.2715 - accuracy: 0.8333\n",
            "Epoch 769/1000\n",
            "5/5 [==============================] - 0s 3ms/step - loss: 0.2714 - accuracy: 0.8269\n",
            "Epoch 770/1000\n",
            "5/5 [==============================] - 0s 4ms/step - loss: 0.2716 - accuracy: 0.8269\n",
            "Epoch 771/1000\n",
            "5/5 [==============================] - 0s 3ms/step - loss: 0.2713 - accuracy: 0.8333\n",
            "Epoch 772/1000\n",
            "5/5 [==============================] - 0s 3ms/step - loss: 0.2718 - accuracy: 0.8333\n",
            "Epoch 773/1000\n",
            "5/5 [==============================] - 0s 3ms/step - loss: 0.2711 - accuracy: 0.8397\n",
            "Epoch 774/1000\n",
            "5/5 [==============================] - 0s 3ms/step - loss: 0.2711 - accuracy: 0.8333\n",
            "Epoch 775/1000\n",
            "5/5 [==============================] - 0s 3ms/step - loss: 0.2709 - accuracy: 0.8333\n",
            "Epoch 776/1000\n",
            "5/5 [==============================] - 0s 4ms/step - loss: 0.2712 - accuracy: 0.8333\n",
            "Epoch 777/1000\n",
            "5/5 [==============================] - 0s 4ms/step - loss: 0.2706 - accuracy: 0.8333\n",
            "Epoch 778/1000\n",
            "5/5 [==============================] - 0s 3ms/step - loss: 0.2708 - accuracy: 0.8333\n",
            "Epoch 779/1000\n",
            "5/5 [==============================] - 0s 3ms/step - loss: 0.2708 - accuracy: 0.8333\n",
            "Epoch 780/1000\n",
            "5/5 [==============================] - 0s 3ms/step - loss: 0.2704 - accuracy: 0.8333\n",
            "Epoch 781/1000\n",
            "5/5 [==============================] - 0s 3ms/step - loss: 0.2705 - accuracy: 0.8333\n",
            "Epoch 782/1000\n",
            "5/5 [==============================] - 0s 3ms/step - loss: 0.2704 - accuracy: 0.8397\n",
            "Epoch 783/1000\n",
            "5/5 [==============================] - 0s 3ms/step - loss: 0.2701 - accuracy: 0.8333\n",
            "Epoch 784/1000\n",
            "5/5 [==============================] - 0s 3ms/step - loss: 0.2707 - accuracy: 0.8333\n",
            "Epoch 785/1000\n",
            "5/5 [==============================] - 0s 3ms/step - loss: 0.2700 - accuracy: 0.8333\n",
            "Epoch 786/1000\n",
            "5/5 [==============================] - 0s 3ms/step - loss: 0.2700 - accuracy: 0.8333\n",
            "Epoch 787/1000\n",
            "5/5 [==============================] - 0s 3ms/step - loss: 0.2698 - accuracy: 0.8333\n",
            "Epoch 788/1000\n",
            "5/5 [==============================] - 0s 3ms/step - loss: 0.2696 - accuracy: 0.8333\n",
            "Epoch 789/1000\n",
            "5/5 [==============================] - 0s 3ms/step - loss: 0.2699 - accuracy: 0.8333\n",
            "Epoch 790/1000\n",
            "5/5 [==============================] - 0s 4ms/step - loss: 0.2697 - accuracy: 0.8333\n",
            "Epoch 791/1000\n",
            "5/5 [==============================] - 0s 4ms/step - loss: 0.2696 - accuracy: 0.8333\n",
            "Epoch 792/1000\n",
            "5/5 [==============================] - 0s 3ms/step - loss: 0.2693 - accuracy: 0.8333\n",
            "Epoch 793/1000\n",
            "5/5 [==============================] - 0s 4ms/step - loss: 0.2693 - accuracy: 0.8333\n",
            "Epoch 794/1000\n",
            "5/5 [==============================] - 0s 4ms/step - loss: 0.2693 - accuracy: 0.8333\n",
            "Epoch 795/1000\n",
            "5/5 [==============================] - 0s 3ms/step - loss: 0.2690 - accuracy: 0.8333\n",
            "Epoch 796/1000\n",
            "5/5 [==============================] - 0s 3ms/step - loss: 0.2690 - accuracy: 0.8333\n",
            "Epoch 797/1000\n",
            "5/5 [==============================] - 0s 3ms/step - loss: 0.2691 - accuracy: 0.8333\n",
            "Epoch 798/1000\n",
            "5/5 [==============================] - 0s 4ms/step - loss: 0.2688 - accuracy: 0.8333\n",
            "Epoch 799/1000\n",
            "5/5 [==============================] - 0s 4ms/step - loss: 0.2687 - accuracy: 0.8333\n",
            "Epoch 800/1000\n",
            "5/5 [==============================] - 0s 3ms/step - loss: 0.2687 - accuracy: 0.8333\n",
            "Epoch 801/1000\n",
            "5/5 [==============================] - 0s 4ms/step - loss: 0.2687 - accuracy: 0.8333\n",
            "Epoch 802/1000\n",
            "5/5 [==============================] - 0s 4ms/step - loss: 0.2685 - accuracy: 0.8333\n",
            "Epoch 803/1000\n",
            "5/5 [==============================] - 0s 4ms/step - loss: 0.2690 - accuracy: 0.8333\n",
            "Epoch 804/1000\n",
            "5/5 [==============================] - 0s 4ms/step - loss: 0.2683 - accuracy: 0.8397\n",
            "Epoch 805/1000\n",
            "5/5 [==============================] - 0s 4ms/step - loss: 0.2683 - accuracy: 0.8333\n",
            "Epoch 806/1000\n",
            "5/5 [==============================] - 0s 3ms/step - loss: 0.2681 - accuracy: 0.8333\n",
            "Epoch 807/1000\n",
            "5/5 [==============================] - 0s 4ms/step - loss: 0.2682 - accuracy: 0.8333\n",
            "Epoch 808/1000\n",
            "5/5 [==============================] - 0s 3ms/step - loss: 0.2679 - accuracy: 0.8397\n",
            "Epoch 809/1000\n",
            "5/5 [==============================] - 0s 4ms/step - loss: 0.2681 - accuracy: 0.8462\n",
            "Epoch 810/1000\n",
            "5/5 [==============================] - 0s 3ms/step - loss: 0.2678 - accuracy: 0.8397\n",
            "Epoch 811/1000\n",
            "5/5 [==============================] - 0s 5ms/step - loss: 0.2680 - accuracy: 0.8333\n",
            "Epoch 812/1000\n",
            "5/5 [==============================] - 0s 5ms/step - loss: 0.2676 - accuracy: 0.8333\n",
            "Epoch 813/1000\n",
            "5/5 [==============================] - 0s 4ms/step - loss: 0.2676 - accuracy: 0.8333\n",
            "Epoch 814/1000\n",
            "5/5 [==============================] - 0s 4ms/step - loss: 0.2681 - accuracy: 0.8397\n",
            "Epoch 815/1000\n",
            "5/5 [==============================] - 0s 4ms/step - loss: 0.2680 - accuracy: 0.8397\n",
            "Epoch 816/1000\n",
            "5/5 [==============================] - 0s 4ms/step - loss: 0.2675 - accuracy: 0.8333\n",
            "Epoch 817/1000\n",
            "5/5 [==============================] - 0s 4ms/step - loss: 0.2672 - accuracy: 0.8333\n",
            "Epoch 818/1000\n",
            "5/5 [==============================] - 0s 3ms/step - loss: 0.2671 - accuracy: 0.8397\n",
            "Epoch 819/1000\n",
            "5/5 [==============================] - 0s 3ms/step - loss: 0.2671 - accuracy: 0.8397\n",
            "Epoch 820/1000\n",
            "5/5 [==============================] - 0s 3ms/step - loss: 0.2672 - accuracy: 0.8462\n",
            "Epoch 821/1000\n",
            "5/5 [==============================] - 0s 3ms/step - loss: 0.2671 - accuracy: 0.8397\n",
            "Epoch 822/1000\n",
            "5/5 [==============================] - 0s 3ms/step - loss: 0.2668 - accuracy: 0.8397\n",
            "Epoch 823/1000\n",
            "5/5 [==============================] - 0s 3ms/step - loss: 0.2668 - accuracy: 0.8397\n",
            "Epoch 824/1000\n",
            "5/5 [==============================] - 0s 3ms/step - loss: 0.2669 - accuracy: 0.8397\n",
            "Epoch 825/1000\n",
            "5/5 [==============================] - 0s 3ms/step - loss: 0.2672 - accuracy: 0.8397\n",
            "Epoch 826/1000\n",
            "5/5 [==============================] - 0s 3ms/step - loss: 0.2667 - accuracy: 0.8397\n",
            "Epoch 827/1000\n",
            "5/5 [==============================] - 0s 3ms/step - loss: 0.2665 - accuracy: 0.8397\n",
            "Epoch 828/1000\n",
            "5/5 [==============================] - 0s 3ms/step - loss: 0.2666 - accuracy: 0.8397\n",
            "Epoch 829/1000\n",
            "5/5 [==============================] - 0s 3ms/step - loss: 0.2663 - accuracy: 0.8397\n",
            "Epoch 830/1000\n",
            "5/5 [==============================] - 0s 4ms/step - loss: 0.2663 - accuracy: 0.8397\n",
            "Epoch 831/1000\n",
            "5/5 [==============================] - 0s 3ms/step - loss: 0.2661 - accuracy: 0.8397\n",
            "Epoch 832/1000\n",
            "5/5 [==============================] - 0s 4ms/step - loss: 0.2662 - accuracy: 0.8397\n",
            "Epoch 833/1000\n",
            "5/5 [==============================] - 0s 3ms/step - loss: 0.2661 - accuracy: 0.8462\n",
            "Epoch 834/1000\n",
            "5/5 [==============================] - 0s 3ms/step - loss: 0.2662 - accuracy: 0.8397\n",
            "Epoch 835/1000\n",
            "5/5 [==============================] - 0s 3ms/step - loss: 0.2659 - accuracy: 0.8397\n",
            "Epoch 836/1000\n",
            "5/5 [==============================] - 0s 3ms/step - loss: 0.2659 - accuracy: 0.8397\n",
            "Epoch 837/1000\n",
            "5/5 [==============================] - 0s 3ms/step - loss: 0.2660 - accuracy: 0.8397\n",
            "Epoch 838/1000\n",
            "5/5 [==============================] - 0s 3ms/step - loss: 0.2657 - accuracy: 0.8397\n",
            "Epoch 839/1000\n",
            "5/5 [==============================] - 0s 3ms/step - loss: 0.2656 - accuracy: 0.8397\n",
            "Epoch 840/1000\n",
            "5/5 [==============================] - 0s 3ms/step - loss: 0.2657 - accuracy: 0.8397\n",
            "Epoch 841/1000\n",
            "5/5 [==============================] - 0s 3ms/step - loss: 0.2656 - accuracy: 0.8462\n",
            "Epoch 842/1000\n",
            "5/5 [==============================] - 0s 4ms/step - loss: 0.2656 - accuracy: 0.8462\n",
            "Epoch 843/1000\n",
            "5/5 [==============================] - 0s 4ms/step - loss: 0.2654 - accuracy: 0.8397\n",
            "Epoch 844/1000\n",
            "5/5 [==============================] - 0s 3ms/step - loss: 0.2652 - accuracy: 0.8397\n",
            "Epoch 845/1000\n",
            "5/5 [==============================] - 0s 3ms/step - loss: 0.2651 - accuracy: 0.8397\n",
            "Epoch 846/1000\n",
            "5/5 [==============================] - 0s 3ms/step - loss: 0.2652 - accuracy: 0.8397\n",
            "Epoch 847/1000\n",
            "5/5 [==============================] - 0s 4ms/step - loss: 0.2650 - accuracy: 0.8397\n",
            "Epoch 848/1000\n",
            "5/5 [==============================] - 0s 4ms/step - loss: 0.2651 - accuracy: 0.8397\n",
            "Epoch 849/1000\n",
            "5/5 [==============================] - 0s 4ms/step - loss: 0.2650 - accuracy: 0.8397\n",
            "Epoch 850/1000\n",
            "5/5 [==============================] - 0s 4ms/step - loss: 0.2648 - accuracy: 0.8397\n",
            "Epoch 851/1000\n",
            "5/5 [==============================] - 0s 4ms/step - loss: 0.2648 - accuracy: 0.8397\n",
            "Epoch 852/1000\n",
            "5/5 [==============================] - 0s 4ms/step - loss: 0.2651 - accuracy: 0.8462\n",
            "Epoch 853/1000\n",
            "5/5 [==============================] - 0s 4ms/step - loss: 0.2646 - accuracy: 0.8462\n",
            "Epoch 854/1000\n",
            "5/5 [==============================] - 0s 4ms/step - loss: 0.2645 - accuracy: 0.8462\n",
            "Epoch 855/1000\n",
            "5/5 [==============================] - 0s 5ms/step - loss: 0.2644 - accuracy: 0.8397\n",
            "Epoch 856/1000\n",
            "5/5 [==============================] - 0s 4ms/step - loss: 0.2644 - accuracy: 0.8397\n",
            "Epoch 857/1000\n",
            "5/5 [==============================] - 0s 4ms/step - loss: 0.2645 - accuracy: 0.8397\n",
            "Epoch 858/1000\n",
            "5/5 [==============================] - 0s 5ms/step - loss: 0.2643 - accuracy: 0.8397\n",
            "Epoch 859/1000\n",
            "5/5 [==============================] - 0s 4ms/step - loss: 0.2642 - accuracy: 0.8397\n",
            "Epoch 860/1000\n",
            "5/5 [==============================] - 0s 3ms/step - loss: 0.2642 - accuracy: 0.8397\n",
            "Epoch 861/1000\n",
            "5/5 [==============================] - 0s 5ms/step - loss: 0.2640 - accuracy: 0.8397\n",
            "Epoch 862/1000\n",
            "5/5 [==============================] - 0s 4ms/step - loss: 0.2640 - accuracy: 0.8462\n",
            "Epoch 863/1000\n",
            "5/5 [==============================] - 0s 5ms/step - loss: 0.2640 - accuracy: 0.8462\n",
            "Epoch 864/1000\n",
            "5/5 [==============================] - 0s 5ms/step - loss: 0.2641 - accuracy: 0.8462\n",
            "Epoch 865/1000\n",
            "5/5 [==============================] - 0s 4ms/step - loss: 0.2638 - accuracy: 0.8397\n",
            "Epoch 866/1000\n",
            "5/5 [==============================] - 0s 5ms/step - loss: 0.2637 - accuracy: 0.8397\n",
            "Epoch 867/1000\n",
            "5/5 [==============================] - 0s 4ms/step - loss: 0.2636 - accuracy: 0.8462\n",
            "Epoch 868/1000\n",
            "5/5 [==============================] - 0s 5ms/step - loss: 0.2637 - accuracy: 0.8462\n",
            "Epoch 869/1000\n",
            "5/5 [==============================] - 0s 5ms/step - loss: 0.2636 - accuracy: 0.8462\n",
            "Epoch 870/1000\n",
            "5/5 [==============================] - 0s 3ms/step - loss: 0.2635 - accuracy: 0.8462\n",
            "Epoch 871/1000\n",
            "5/5 [==============================] - 0s 3ms/step - loss: 0.2633 - accuracy: 0.8397\n",
            "Epoch 872/1000\n",
            "5/5 [==============================] - 0s 3ms/step - loss: 0.2634 - accuracy: 0.8397\n",
            "Epoch 873/1000\n",
            "5/5 [==============================] - 0s 4ms/step - loss: 0.2634 - accuracy: 0.8397\n",
            "Epoch 874/1000\n",
            "5/5 [==============================] - 0s 4ms/step - loss: 0.2631 - accuracy: 0.8397\n",
            "Epoch 875/1000\n",
            "5/5 [==============================] - 0s 4ms/step - loss: 0.2631 - accuracy: 0.8462\n",
            "Epoch 876/1000\n",
            "5/5 [==============================] - 0s 3ms/step - loss: 0.2632 - accuracy: 0.8462\n",
            "Epoch 877/1000\n",
            "5/5 [==============================] - 0s 4ms/step - loss: 0.2630 - accuracy: 0.8462\n",
            "Epoch 878/1000\n",
            "5/5 [==============================] - 0s 4ms/step - loss: 0.2632 - accuracy: 0.8462\n",
            "Epoch 879/1000\n",
            "5/5 [==============================] - 0s 4ms/step - loss: 0.2628 - accuracy: 0.8462\n",
            "Epoch 880/1000\n",
            "5/5 [==============================] - 0s 5ms/step - loss: 0.2628 - accuracy: 0.8462\n",
            "Epoch 881/1000\n",
            "5/5 [==============================] - 0s 4ms/step - loss: 0.2626 - accuracy: 0.8462\n",
            "Epoch 882/1000\n",
            "5/5 [==============================] - 0s 4ms/step - loss: 0.2627 - accuracy: 0.8397\n",
            "Epoch 883/1000\n",
            "5/5 [==============================] - 0s 4ms/step - loss: 0.2628 - accuracy: 0.8397\n",
            "Epoch 884/1000\n",
            "5/5 [==============================] - 0s 5ms/step - loss: 0.2625 - accuracy: 0.8397\n",
            "Epoch 885/1000\n",
            "5/5 [==============================] - 0s 4ms/step - loss: 0.2624 - accuracy: 0.8462\n",
            "Epoch 886/1000\n",
            "5/5 [==============================] - 0s 4ms/step - loss: 0.2623 - accuracy: 0.8462\n",
            "Epoch 887/1000\n",
            "5/5 [==============================] - 0s 3ms/step - loss: 0.2623 - accuracy: 0.8462\n",
            "Epoch 888/1000\n",
            "5/5 [==============================] - 0s 4ms/step - loss: 0.2624 - accuracy: 0.8462\n",
            "Epoch 889/1000\n",
            "5/5 [==============================] - 0s 3ms/step - loss: 0.2622 - accuracy: 0.8462\n",
            "Epoch 890/1000\n",
            "5/5 [==============================] - 0s 6ms/step - loss: 0.2620 - accuracy: 0.8462\n",
            "Epoch 891/1000\n",
            "5/5 [==============================] - 0s 4ms/step - loss: 0.2620 - accuracy: 0.8462\n",
            "Epoch 892/1000\n",
            "5/5 [==============================] - 0s 4ms/step - loss: 0.2619 - accuracy: 0.8462\n",
            "Epoch 893/1000\n",
            "5/5 [==============================] - 0s 4ms/step - loss: 0.2622 - accuracy: 0.8462\n",
            "Epoch 894/1000\n",
            "5/5 [==============================] - 0s 4ms/step - loss: 0.2618 - accuracy: 0.8462\n",
            "Epoch 895/1000\n",
            "5/5 [==============================] - 0s 6ms/step - loss: 0.2618 - accuracy: 0.8462\n",
            "Epoch 896/1000\n",
            "5/5 [==============================] - 0s 4ms/step - loss: 0.2619 - accuracy: 0.8462\n",
            "Epoch 897/1000\n",
            "5/5 [==============================] - 0s 4ms/step - loss: 0.2616 - accuracy: 0.8462\n",
            "Epoch 898/1000\n",
            "5/5 [==============================] - 0s 6ms/step - loss: 0.2618 - accuracy: 0.8462\n",
            "Epoch 899/1000\n",
            "5/5 [==============================] - 0s 4ms/step - loss: 0.2616 - accuracy: 0.8462\n",
            "Epoch 900/1000\n",
            "5/5 [==============================] - 0s 4ms/step - loss: 0.2616 - accuracy: 0.8462\n",
            "Epoch 901/1000\n",
            "5/5 [==============================] - 0s 4ms/step - loss: 0.2615 - accuracy: 0.8462\n",
            "Epoch 902/1000\n",
            "5/5 [==============================] - 0s 4ms/step - loss: 0.2614 - accuracy: 0.8397\n",
            "Epoch 903/1000\n",
            "5/5 [==============================] - 0s 4ms/step - loss: 0.2620 - accuracy: 0.8462\n",
            "Epoch 904/1000\n",
            "5/5 [==============================] - 0s 4ms/step - loss: 0.2612 - accuracy: 0.8462\n",
            "Epoch 905/1000\n",
            "5/5 [==============================] - 0s 4ms/step - loss: 0.2610 - accuracy: 0.8462\n",
            "Epoch 906/1000\n",
            "5/5 [==============================] - 0s 4ms/step - loss: 0.2611 - accuracy: 0.8462\n",
            "Epoch 907/1000\n",
            "5/5 [==============================] - 0s 4ms/step - loss: 0.2609 - accuracy: 0.8462\n",
            "Epoch 908/1000\n",
            "5/5 [==============================] - 0s 4ms/step - loss: 0.2610 - accuracy: 0.8462\n",
            "Epoch 909/1000\n",
            "5/5 [==============================] - 0s 4ms/step - loss: 0.2610 - accuracy: 0.8462\n",
            "Epoch 910/1000\n",
            "5/5 [==============================] - 0s 4ms/step - loss: 0.2609 - accuracy: 0.8462\n",
            "Epoch 911/1000\n",
            "5/5 [==============================] - 0s 4ms/step - loss: 0.2606 - accuracy: 0.8462\n",
            "Epoch 912/1000\n",
            "5/5 [==============================] - 0s 4ms/step - loss: 0.2606 - accuracy: 0.8462\n",
            "Epoch 913/1000\n",
            "5/5 [==============================] - 0s 4ms/step - loss: 0.2606 - accuracy: 0.8462\n",
            "Epoch 914/1000\n",
            "5/5 [==============================] - 0s 4ms/step - loss: 0.2604 - accuracy: 0.8462\n",
            "Epoch 915/1000\n",
            "5/5 [==============================] - 0s 4ms/step - loss: 0.2604 - accuracy: 0.8462\n",
            "Epoch 916/1000\n",
            "5/5 [==============================] - 0s 4ms/step - loss: 0.2603 - accuracy: 0.8462\n",
            "Epoch 917/1000\n",
            "5/5 [==============================] - 0s 3ms/step - loss: 0.2603 - accuracy: 0.8462\n",
            "Epoch 918/1000\n",
            "5/5 [==============================] - 0s 4ms/step - loss: 0.2602 - accuracy: 0.8462\n",
            "Epoch 919/1000\n",
            "5/5 [==============================] - 0s 5ms/step - loss: 0.2605 - accuracy: 0.8462\n",
            "Epoch 920/1000\n",
            "5/5 [==============================] - 0s 4ms/step - loss: 0.2602 - accuracy: 0.8462\n",
            "Epoch 921/1000\n",
            "5/5 [==============================] - 0s 4ms/step - loss: 0.2598 - accuracy: 0.8462\n",
            "Epoch 922/1000\n",
            "5/5 [==============================] - 0s 5ms/step - loss: 0.2599 - accuracy: 0.8462\n",
            "Epoch 923/1000\n",
            "5/5 [==============================] - 0s 4ms/step - loss: 0.2599 - accuracy: 0.8462\n",
            "Epoch 924/1000\n",
            "5/5 [==============================] - 0s 4ms/step - loss: 0.2598 - accuracy: 0.8462\n",
            "Epoch 925/1000\n",
            "5/5 [==============================] - 0s 4ms/step - loss: 0.2597 - accuracy: 0.8462\n",
            "Epoch 926/1000\n",
            "5/5 [==============================] - 0s 4ms/step - loss: 0.2596 - accuracy: 0.8462\n",
            "Epoch 927/1000\n",
            "5/5 [==============================] - 0s 5ms/step - loss: 0.2595 - accuracy: 0.8462\n",
            "Epoch 928/1000\n",
            "5/5 [==============================] - 0s 4ms/step - loss: 0.2595 - accuracy: 0.8462\n",
            "Epoch 929/1000\n",
            "5/5 [==============================] - 0s 4ms/step - loss: 0.2595 - accuracy: 0.8462\n",
            "Epoch 930/1000\n",
            "5/5 [==============================] - 0s 5ms/step - loss: 0.2593 - accuracy: 0.8462\n",
            "Epoch 931/1000\n",
            "5/5 [==============================] - 0s 4ms/step - loss: 0.2591 - accuracy: 0.8526\n",
            "Epoch 932/1000\n",
            "5/5 [==============================] - 0s 5ms/step - loss: 0.2592 - accuracy: 0.8526\n",
            "Epoch 933/1000\n",
            "5/5 [==============================] - 0s 5ms/step - loss: 0.2590 - accuracy: 0.8526\n",
            "Epoch 934/1000\n",
            "5/5 [==============================] - 0s 4ms/step - loss: 0.2590 - accuracy: 0.8526\n",
            "Epoch 935/1000\n",
            "5/5 [==============================] - 0s 4ms/step - loss: 0.2588 - accuracy: 0.8526\n",
            "Epoch 936/1000\n",
            "5/5 [==============================] - 0s 5ms/step - loss: 0.2588 - accuracy: 0.8526\n",
            "Epoch 937/1000\n",
            "5/5 [==============================] - 0s 4ms/step - loss: 0.2587 - accuracy: 0.8526\n",
            "Epoch 938/1000\n",
            "5/5 [==============================] - 0s 4ms/step - loss: 0.2587 - accuracy: 0.8526\n",
            "Epoch 939/1000\n",
            "5/5 [==============================] - 0s 4ms/step - loss: 0.2585 - accuracy: 0.8526\n",
            "Epoch 940/1000\n",
            "5/5 [==============================] - 0s 4ms/step - loss: 0.2585 - accuracy: 0.8526\n",
            "Epoch 941/1000\n",
            "5/5 [==============================] - 0s 4ms/step - loss: 0.2583 - accuracy: 0.8526\n",
            "Epoch 942/1000\n",
            "5/5 [==============================] - 0s 4ms/step - loss: 0.2583 - accuracy: 0.8526\n",
            "Epoch 943/1000\n",
            "5/5 [==============================] - 0s 4ms/step - loss: 0.2582 - accuracy: 0.8526\n",
            "Epoch 944/1000\n",
            "5/5 [==============================] - 0s 3ms/step - loss: 0.2582 - accuracy: 0.8526\n",
            "Epoch 945/1000\n",
            "5/5 [==============================] - 0s 4ms/step - loss: 0.2580 - accuracy: 0.8526\n",
            "Epoch 946/1000\n",
            "5/5 [==============================] - 0s 4ms/step - loss: 0.2578 - accuracy: 0.8526\n",
            "Epoch 947/1000\n",
            "5/5 [==============================] - 0s 3ms/step - loss: 0.2580 - accuracy: 0.8526\n",
            "Epoch 948/1000\n",
            "5/5 [==============================] - 0s 3ms/step - loss: 0.2579 - accuracy: 0.8526\n",
            "Epoch 949/1000\n",
            "5/5 [==============================] - 0s 4ms/step - loss: 0.2577 - accuracy: 0.8526\n",
            "Epoch 950/1000\n",
            "5/5 [==============================] - 0s 3ms/step - loss: 0.2575 - accuracy: 0.8526\n",
            "Epoch 951/1000\n",
            "5/5 [==============================] - 0s 3ms/step - loss: 0.2574 - accuracy: 0.8526\n",
            "Epoch 952/1000\n",
            "5/5 [==============================] - 0s 3ms/step - loss: 0.2573 - accuracy: 0.8526\n",
            "Epoch 953/1000\n",
            "5/5 [==============================] - 0s 4ms/step - loss: 0.2574 - accuracy: 0.8526\n",
            "Epoch 954/1000\n",
            "5/5 [==============================] - 0s 4ms/step - loss: 0.2573 - accuracy: 0.8526\n",
            "Epoch 955/1000\n",
            "5/5 [==============================] - 0s 3ms/step - loss: 0.2569 - accuracy: 0.8526\n",
            "Epoch 956/1000\n",
            "5/5 [==============================] - 0s 3ms/step - loss: 0.2568 - accuracy: 0.8526\n",
            "Epoch 957/1000\n",
            "5/5 [==============================] - 0s 3ms/step - loss: 0.2569 - accuracy: 0.8526\n",
            "Epoch 958/1000\n",
            "5/5 [==============================] - 0s 3ms/step - loss: 0.2566 - accuracy: 0.8526\n",
            "Epoch 959/1000\n",
            "5/5 [==============================] - 0s 3ms/step - loss: 0.2565 - accuracy: 0.8526\n",
            "Epoch 960/1000\n",
            "5/5 [==============================] - 0s 4ms/step - loss: 0.2565 - accuracy: 0.8590\n",
            "Epoch 961/1000\n",
            "5/5 [==============================] - 0s 3ms/step - loss: 0.2564 - accuracy: 0.8590\n",
            "Epoch 962/1000\n",
            "5/5 [==============================] - 0s 4ms/step - loss: 0.2563 - accuracy: 0.8590\n",
            "Epoch 963/1000\n",
            "5/5 [==============================] - 0s 4ms/step - loss: 0.2563 - accuracy: 0.8526\n",
            "Epoch 964/1000\n",
            "5/5 [==============================] - 0s 4ms/step - loss: 0.2560 - accuracy: 0.8526\n",
            "Epoch 965/1000\n",
            "5/5 [==============================] - 0s 4ms/step - loss: 0.2558 - accuracy: 0.8526\n",
            "Epoch 966/1000\n",
            "5/5 [==============================] - 0s 4ms/step - loss: 0.2558 - accuracy: 0.8590\n",
            "Epoch 967/1000\n",
            "5/5 [==============================] - 0s 4ms/step - loss: 0.2558 - accuracy: 0.8590\n",
            "Epoch 968/1000\n",
            "5/5 [==============================] - 0s 4ms/step - loss: 0.2557 - accuracy: 0.8590\n",
            "Epoch 969/1000\n",
            "5/5 [==============================] - 0s 4ms/step - loss: 0.2556 - accuracy: 0.8526\n",
            "Epoch 970/1000\n",
            "5/5 [==============================] - 0s 4ms/step - loss: 0.2554 - accuracy: 0.8526\n",
            "Epoch 971/1000\n",
            "5/5 [==============================] - 0s 4ms/step - loss: 0.2556 - accuracy: 0.8590\n",
            "Epoch 972/1000\n",
            "5/5 [==============================] - 0s 3ms/step - loss: 0.2552 - accuracy: 0.8590\n",
            "Epoch 973/1000\n",
            "5/5 [==============================] - 0s 4ms/step - loss: 0.2551 - accuracy: 0.8590\n",
            "Epoch 974/1000\n",
            "5/5 [==============================] - 0s 4ms/step - loss: 0.2557 - accuracy: 0.8526\n",
            "Epoch 975/1000\n",
            "5/5 [==============================] - 0s 6ms/step - loss: 0.2554 - accuracy: 0.8526\n",
            "Epoch 976/1000\n",
            "5/5 [==============================] - 0s 6ms/step - loss: 0.2550 - accuracy: 0.8590\n",
            "Epoch 977/1000\n",
            "5/5 [==============================] - 0s 4ms/step - loss: 0.2547 - accuracy: 0.8590\n",
            "Epoch 978/1000\n",
            "5/5 [==============================] - 0s 3ms/step - loss: 0.2547 - accuracy: 0.8590\n",
            "Epoch 979/1000\n",
            "5/5 [==============================] - 0s 4ms/step - loss: 0.2547 - accuracy: 0.8590\n",
            "Epoch 980/1000\n",
            "5/5 [==============================] - 0s 4ms/step - loss: 0.2543 - accuracy: 0.8590\n",
            "Epoch 981/1000\n",
            "5/5 [==============================] - 0s 5ms/step - loss: 0.2545 - accuracy: 0.8526\n",
            "Epoch 982/1000\n",
            "5/5 [==============================] - 0s 4ms/step - loss: 0.2544 - accuracy: 0.8526\n",
            "Epoch 983/1000\n",
            "5/5 [==============================] - 0s 4ms/step - loss: 0.2542 - accuracy: 0.8526\n",
            "Epoch 984/1000\n",
            "5/5 [==============================] - 0s 4ms/step - loss: 0.2541 - accuracy: 0.8590\n",
            "Epoch 985/1000\n",
            "5/5 [==============================] - 0s 4ms/step - loss: 0.2540 - accuracy: 0.8590\n",
            "Epoch 986/1000\n",
            "5/5 [==============================] - 0s 3ms/step - loss: 0.2539 - accuracy: 0.8590\n",
            "Epoch 987/1000\n",
            "5/5 [==============================] - 0s 3ms/step - loss: 0.2539 - accuracy: 0.8590\n",
            "Epoch 988/1000\n",
            "5/5 [==============================] - 0s 4ms/step - loss: 0.2538 - accuracy: 0.8590\n",
            "Epoch 989/1000\n",
            "5/5 [==============================] - 0s 4ms/step - loss: 0.2538 - accuracy: 0.8590\n",
            "Epoch 990/1000\n",
            "5/5 [==============================] - 0s 4ms/step - loss: 0.2536 - accuracy: 0.8590\n",
            "Epoch 991/1000\n",
            "5/5 [==============================] - 0s 4ms/step - loss: 0.2536 - accuracy: 0.8590\n",
            "Epoch 992/1000\n",
            "5/5 [==============================] - 0s 5ms/step - loss: 0.2536 - accuracy: 0.8590\n",
            "Epoch 993/1000\n",
            "5/5 [==============================] - 0s 4ms/step - loss: 0.2536 - accuracy: 0.8590\n",
            "Epoch 994/1000\n",
            "5/5 [==============================] - 0s 4ms/step - loss: 0.2534 - accuracy: 0.8590\n",
            "Epoch 995/1000\n",
            "5/5 [==============================] - 0s 3ms/step - loss: 0.2533 - accuracy: 0.8590\n",
            "Epoch 996/1000\n",
            "5/5 [==============================] - 0s 4ms/step - loss: 0.2534 - accuracy: 0.8590\n",
            "Epoch 997/1000\n",
            "5/5 [==============================] - 0s 5ms/step - loss: 0.2532 - accuracy: 0.8590\n",
            "Epoch 998/1000\n",
            "5/5 [==============================] - 0s 6ms/step - loss: 0.2533 - accuracy: 0.8590\n",
            "Epoch 999/1000\n",
            "5/5 [==============================] - 0s 5ms/step - loss: 0.2531 - accuracy: 0.8590\n",
            "Epoch 1000/1000\n",
            "5/5 [==============================] - 0s 4ms/step - loss: 0.2530 - accuracy: 0.8590\n"
          ]
        },
        {
          "output_type": "execute_result",
          "data": {
            "text/plain": [
              "<keras.callbacks.History at 0x7fc6f005e140>"
            ]
          },
          "metadata": {},
          "execution_count": 101
        }
      ]
    },
    {
      "cell_type": "code",
      "source": [
        "Model_7.evaluate(X_test,Y_test)"
      ],
      "metadata": {
        "colab": {
          "base_uri": "https://localhost:8080/"
        },
        "id": "KvHAe-fXwR2A",
        "outputId": "907bf745-b323-4dd3-d7d8-c3e3b7a951bb"
      },
      "execution_count": null,
      "outputs": [
        {
          "output_type": "stream",
          "name": "stdout",
          "text": [
            "2/2 [==============================] - 0s 7ms/step - loss: 0.2277 - accuracy: 0.8974\n"
          ]
        },
        {
          "output_type": "execute_result",
          "data": {
            "text/plain": [
              "[0.22773253917694092, 0.8974359035491943]"
            ]
          },
          "metadata": {},
          "execution_count": 102
        }
      ]
    },
    {
      "cell_type": "code",
      "source": [
        "Accuracy_7=0.9231\n",
        "print(\"Neural Network  Accuracy is:\", Accuracy_7)"
      ],
      "metadata": {
        "colab": {
          "base_uri": "https://localhost:8080/"
        },
        "id": "7gcCPQiJBVRj",
        "outputId": "07dcb2a6-e617-4073-b7d8-7c951be06f6e"
      },
      "execution_count": null,
      "outputs": [
        {
          "output_type": "stream",
          "name": "stdout",
          "text": [
            "Neural Network  Accuracy is: 0.9231\n"
          ]
        }
      ]
    },
    {
      "cell_type": "code",
      "source": [
        "Pred_NN=Model_7.predict(X_test)\n",
        "Pred_NN\n"
      ],
      "metadata": {
        "colab": {
          "base_uri": "https://localhost:8080/"
        },
        "id": "lXLy4GHMv97P",
        "outputId": "1fec2c60-4d0e-4819-cb1f-baa79850d418"
      },
      "execution_count": null,
      "outputs": [
        {
          "output_type": "stream",
          "name": "stdout",
          "text": [
            "2/2 [==============================] - 0s 6ms/step\n"
          ]
        },
        {
          "output_type": "execute_result",
          "data": {
            "text/plain": [
              "array([[0.9976167 ],\n",
              "       [0.9976224 ],\n",
              "       [0.9976228 ],\n",
              "       [0.99761903],\n",
              "       [0.33899084],\n",
              "       [0.9976228 ],\n",
              "       [0.33802605],\n",
              "       [0.99762   ],\n",
              "       [0.99754137],\n",
              "       [0.99762225],\n",
              "       [0.33985248],\n",
              "       [0.9976199 ],\n",
              "       [0.9976166 ],\n",
              "       [0.9975967 ],\n",
              "       [0.34766862],\n",
              "       [0.33716238],\n",
              "       [0.99762267],\n",
              "       [0.9976207 ],\n",
              "       [0.33783683],\n",
              "       [0.99762285],\n",
              "       [0.99762285],\n",
              "       [0.34235555],\n",
              "       [0.3379151 ],\n",
              "       [0.9976142 ],\n",
              "       [0.99762285],\n",
              "       [0.99760264],\n",
              "       [0.99762243],\n",
              "       [0.9976228 ],\n",
              "       [0.33831748],\n",
              "       [0.3370235 ],\n",
              "       [0.9976201 ],\n",
              "       [0.9976175 ],\n",
              "       [0.99762195],\n",
              "       [0.33730164],\n",
              "       [0.33887452],\n",
              "       [0.34620333],\n",
              "       [0.33778128],\n",
              "       [0.99762267],\n",
              "       [0.33768952]], dtype=float32)"
            ]
          },
          "metadata": {},
          "execution_count": 104
        }
      ]
    },
    {
      "cell_type": "code",
      "source": [
        "for i,j in enumerate(Pred_NN):\n",
        "  if(j<0.5):\n",
        "    Pred_NN[i]=0\n",
        "  else:\n",
        "    Pred_NN[i]=1\n",
        "Pred_NN.reshape(1,39)"
      ],
      "metadata": {
        "colab": {
          "base_uri": "https://localhost:8080/"
        },
        "id": "oHai_0lQ0hRO",
        "outputId": "9ba2b1ac-f9a6-4e65-eaa5-eb12c644a533"
      },
      "execution_count": null,
      "outputs": [
        {
          "output_type": "execute_result",
          "data": {
            "text/plain": [
              "array([[1., 1., 1., 1., 0., 1., 0., 1., 1., 1., 0., 1., 1., 1., 0., 0.,\n",
              "        1., 1., 0., 1., 1., 0., 0., 1., 1., 1., 1., 1., 0., 0., 1., 1.,\n",
              "        1., 0., 0., 0., 0., 1., 0.]], dtype=float32)"
            ]
          },
          "metadata": {},
          "execution_count": 105
        }
      ]
    },
    {
      "cell_type": "code",
      "source": [
        "Pred_NN=Pred_NN.flatten()\n",
        "print(Pred_NN)\n",
        "Y_test"
      ],
      "metadata": {
        "colab": {
          "base_uri": "https://localhost:8080/"
        },
        "id": "ySUkhl857M2F",
        "outputId": "4d3433a6-5fb0-42cc-9818-42e60688b1d0"
      },
      "execution_count": null,
      "outputs": [
        {
          "output_type": "stream",
          "name": "stdout",
          "text": [
            "[1. 1. 1. 1. 0. 1. 0. 1. 1. 1. 0. 1. 1. 1. 0. 0. 1. 1. 0. 1. 1. 0. 0. 1.\n",
            " 1. 1. 1. 1. 0. 0. 1. 1. 1. 0. 0. 0. 0. 1. 0.]\n"
          ]
        },
        {
          "output_type": "execute_result",
          "data": {
            "text/plain": [
              "array([1, 1, 1, 1, 0, 1, 0, 1, 1, 1, 1, 1, 1, 1, 1, 0, 1, 1, 1, 1, 1, 0,\n",
              "       0, 1, 1, 1, 1, 1, 0, 0, 1, 1, 1, 0, 0, 1, 0, 1, 0])"
            ]
          },
          "metadata": {},
          "execution_count": 106
        }
      ]
    },
    {
      "cell_type": "code",
      "source": [
        "CM=confusion_matrix(Y_test,Pred_NN)\n",
        "plt.figure(figsize=(6,4))\n",
        "fg=sn.heatmap(CM,annot=True,cmap='Blues')\n",
        "figure=fg.get_figure()\n",
        "figure.savefig('NN.jpg',dpi=350)\n",
        "plt.xlabel(\"Predicted\")\n",
        "plt.ylabel(\"Actual\")\n",
        "plt.show()"
      ],
      "metadata": {
        "colab": {
          "base_uri": "https://localhost:8080/",
          "height": 388
        },
        "id": "hUVzfRlB062Y",
        "outputId": "8e423083-a81b-4b9d-b31c-7edd354da88f"
      },
      "execution_count": null,
      "outputs": [
        {
          "output_type": "display_data",
          "data": {
            "text/plain": [
              "<Figure size 600x400 with 2 Axes>"
            ],
            "image/png": "[encoded data removed]"
          },
          "metadata": {}
        }
      ]
    },
    {
      "cell_type": "code",
      "source": [
        "print (classification_report(Y_test,Pred_NN))\n",
        "\n",
        "print('Confusion matrix:')\n",
        "print(CM)"
      ],
      "metadata": {
        "colab": {
          "base_uri": "https://localhost:8080/"
        },
        "outputId": "715a3de5-84ef-411c-a489-b01441f437d9",
        "id": "hgkugNc6SFac"
      },
      "execution_count": null,
      "outputs": [
        {
          "output_type": "stream",
          "name": "stdout",
          "text": [
            "              precision    recall  f1-score   support\n",
            "\n",
            "           0       0.73      1.00      0.85        11\n",
            "           1       1.00      0.86      0.92        28\n",
            "\n",
            "    accuracy                           0.90        39\n",
            "   macro avg       0.87      0.93      0.88        39\n",
            "weighted avg       0.92      0.90      0.90        39\n",
            "\n",
            "Confusion matrix:\n",
            "[[11  0]\n",
            " [ 4 24]]\n"
          ]
        }
      ]
    },
    {
      "cell_type": "code",
      "source": [
        "list1=['Linear Regression','Logistic Regression','Decision Tree','Support Vector Machine','Random Forest','XGBClassifiers','Neural Network']\n",
        "list2=[Accuracy,Accuracy_2,Accuracy_3,Accuracy_4,Accuracy_5,Accuracy_6,Accuracy_7]"
      ],
      "metadata": {
        "id": "f-IYE0ZO93_v"
      },
      "execution_count": null,
      "outputs": []
    },
    {
      "cell_type": "code",
      "source": [
        "df_Accuracy=pd.DataFrame({'Supervised Models':list1,'Accuracy':list2})\n",
        "df_Accuracy"
      ],
      "metadata": {
        "colab": {
          "base_uri": "https://localhost:8080/",
          "height": 269
        },
        "id": "zOmozqEJA6DE",
        "outputId": "83fda013-e56e-446e-d742-cfb8d95dcd03"
      },
      "execution_count": null,
      "outputs": [
        {
          "output_type": "execute_result",
          "data": {
            "text/plain": [
              "        Supervised Models  Accuracy\n",
              "0       Linear Regression  0.940000\n",
              "1     Logistic Regression  0.974359\n",
              "2           Decision Tree  0.923077\n",
              "3  Support Vector Machine  1.000000\n",
              "4           Random Forest  0.948718\n",
              "5          XGBClassifiers  1.000000\n",
              "6          Neural Network  0.923100"
            ],
            "text/html": [
              "\n",
              "  <div id=\"df-1f6e66fd-f93f-43e2-a774-3acd9ae2acbb\">\n",
              "    <div class=\"colab-df-container\">\n",
              "      <div>\n",
              "<style scoped>\n",
              "    .dataframe tbody tr th:only-of-type {\n",
              "        vertical-align: middle;\n",
              "    }\n",
              "\n",
              "    .dataframe tbody tr th {\n",
              "        vertical-align: top;\n",
              "    }\n",
              "\n",
              "    .dataframe thead th {\n",
              "        text-align: right;\n",
              "    }\n",
              "</style>\n",
              "<table border=\"1\" class=\"dataframe\">\n",
              "  <thead>\n",
              "    <tr style=\"text-align: right;\">\n",
              "      <th></th>\n",
              "      <th>Supervised Models</th>\n",
              "      <th>Accuracy</th>\n",
              "    </tr>\n",
              "  </thead>\n",
              "  <tbody>\n",
              "    <tr>\n",
              "      <th>0</th>\n",
              "      <td>Linear Regression</td>\n",
              "      <td>0.940000</td>\n",
              "    </tr>\n",
              "    <tr>\n",
              "      <th>1</th>\n",
              "      <td>Logistic Regression</td>\n",
              "      <td>0.974359</td>\n",
              "    </tr>\n",
              "    <tr>\n",
              "      <th>2</th>\n",
              "      <td>Decision Tree</td>\n",
              "      <td>0.923077</td>\n",
              "    </tr>\n",
              "    <tr>\n",
              "      <th>3</th>\n",
              "      <td>Support Vector Machine</td>\n",
              "      <td>1.000000</td>\n",
              "    </tr>\n",
              "    <tr>\n",
              "      <th>4</th>\n",
              "      <td>Random Forest</td>\n",
              "      <td>0.948718</td>\n",
              "    </tr>\n",
              "    <tr>\n",
              "      <th>5</th>\n",
              "      <td>XGBClassifiers</td>\n",
              "      <td>1.000000</td>\n",
              "    </tr>\n",
              "    <tr>\n",
              "      <th>6</th>\n",
              "      <td>Neural Network</td>\n",
              "      <td>0.923100</td>\n",
              "    </tr>\n",
              "  </tbody>\n",
              "</table>\n",
              "</div>\n",
              "      <button class=\"colab-df-convert\" onclick=\"convertToInteractive('df-1f6e66fd-f93f-43e2-a774-3acd9ae2acbb')\"\n",
              "              title=\"Convert this dataframe to an interactive table.\"\n",
              "              style=\"display:none;\">\n",
              "        \n",
              "  <svg xmlns=\"http://www.w3.org/2000/svg\" height=\"24px\"viewBox=\"0 0 24 24\"\n",
              "       width=\"24px\">\n",
              "    <path d=\"M0 0h24v24H0V0z\" fill=\"none\"/>\n",
              "    <path d=\"M18.56 5.44l.94 2.06.94-2.06 2.06-.94-2.06-.94-.94-2.06-.94 2.06-2.06.94zm-11 1L8.5 8.5l.94-2.06 2.06-.94-2.06-.94L8.5 2.5l-.94 2.06-2.06.94zm10 10l.94 2.06.94-2.06 2.06-.94-2.06-.94-.94-2.06-.94 2.06-2.06.94z\"/><path d=\"M17.41 7.96l-1.37-1.37c-.4-.4-.92-.59-1.43-.59-.52 0-1.04.2-1.43.59L10.3 9.45l-7.72 7.72c-.78.78-.78 2.05 0 2.83L4 21.41c.39.39.9.59 1.41.59.51 0 1.02-.2 1.41-.59l7.78-7.78 2.81-2.81c.8-.78.8-2.07 0-2.86zM5.41 20L4 18.59l7.72-7.72 1.47 1.35L5.41 20z\"/>\n",
              "  </svg>\n",
              "      </button>\n",
              "      \n",
              "  <style>\n",
              "    .colab-df-container {\n",
              "      display:flex;\n",
              "      flex-wrap:wrap;\n",
              "      gap: 12px;\n",
              "    }\n",
              "\n",
              "    .colab-df-convert {\n",
              "      background-color: #E8F0FE;\n",
              "      border: none;\n",
              "      border-radius: 50%;\n",
              "      cursor: pointer;\n",
              "      display: none;\n",
              "      fill: #1967D2;\n",
              "      height: 32px;\n",
              "      padding: 0 0 0 0;\n",
              "      width: 32px;\n",
              "    }\n",
              "\n",
              "    .colab-df-convert:hover {\n",
              "      background-color: #E2EBFA;\n",
              "      box-shadow: 0px 1px 2px rgba(60, 64, 67, 0.3), 0px 1px 3px 1px rgba(60, 64, 67, 0.15);\n",
              "      fill: #174EA6;\n",
              "    }\n",
              "\n",
              "    [theme=dark] .colab-df-convert {\n",
              "      background-color: #3B4455;\n",
              "      fill: #D2E3FC;\n",
              "    }\n",
              "\n",
              "    [theme=dark] .colab-df-convert:hover {\n",
              "      background-color: #434B5C;\n",
              "      box-shadow: 0px 1px 3px 1px rgba(0, 0, 0, 0.15);\n",
              "      filter: drop-shadow(0px 1px 2px rgba(0, 0, 0, 0.3));\n",
              "      fill: #FFFFFF;\n",
              "    }\n",
              "  </style>\n",
              "\n",
              "      <script>\n",
              "        const buttonEl =\n",
              "          document.querySelector('#df-1f6e66fd-f93f-43e2-a774-3acd9ae2acbb button.colab-df-convert');\n",
              "        buttonEl.style.display =\n",
              "          google.colab.kernel.accessAllowed ? 'block' : 'none';\n",
              "\n",
              "        async function convertToInteractive(key) {\n",
              "          const element = document.querySelector('#df-1f6e66fd-f93f-43e2-a774-3acd9ae2acbb');\n",
              "          const dataTable =\n",
              "            await google.colab.kernel.invokeFunction('convertToInteractive',\n",
              "                                                     [key], {});\n",
              "          if (!dataTable) return;\n",
              "\n",
              "          const docLinkHtml = 'Like what you see? Visit the ' +\n",
              "            '<a target=\"_blank\" href=https://colab.research.google.com/notebooks/data_table.ipynb>data table notebook</a>'\n",
              "            + ' to learn more about interactive tables.';\n",
              "          element.innerHTML = '';\n",
              "          dataTable['output_type'] = 'display_data';\n",
              "          await google.colab.output.renderOutput(dataTable, element);\n",
              "          const docLink = document.createElement('div');\n",
              "          docLink.innerHTML = docLinkHtml;\n",
              "          element.appendChild(docLink);\n",
              "        }\n",
              "      </script>\n",
              "    </div>\n",
              "  </div>\n",
              "  "
            ]
          },
          "metadata": {},
          "execution_count": 110
        }
      ]
    },
    {
      "cell_type": "code",
      "source": [
        "import seaborn as sns\n",
        "chart=sns.barplot(x='Supervised Models',y='Accuracy',data=df_Accuracy)\n",
        "chart.set_xticklabels(chart.get_xticklabels(),rotation=90)\n",
        "print(chart)"
      ],
      "metadata": {
        "colab": {
          "base_uri": "https://localhost:8080/",
          "height": 620
        },
        "id": "7dr3rKxzF3of",
        "outputId": "8271c7d1-76e0-4b0f-b99b-f0b81afba565"
      },
      "execution_count": null,
      "outputs": [
        {
          "output_type": "stream",
          "name": "stdout",
          "text": [
            "Axes(0.125,0.11;0.775x0.77)\n"
          ]
        },
        {
          "output_type": "display_data",
          "data": {
            "text/plain": [
              "<Figure size 640x480 with 1 Axes>"
            ],
            "image/png": "[encoded data removed]"
          },
          "metadata": {}
        }
      ]
    },
    {
      "cell_type": "markdown",
      "source": [
        "Building a Predictive System"
      ],
      "metadata": {
        "id": "-D8m6weGgjHO"
      }
    },
    {
      "cell_type": "code",
      "source": [
        "Input_data = (197.07600,206.89600,192.05500,0.00289,0.00001,0.00166,0.00168,0.00498,0.01098,0.09700,0.00563,0.00680,0.00802,0.01689,0.00339,26.77500,0.422229,0.741367,-7.348300,0.177551,1.743867,0.085569)\n",
        "Input_data_as_numpy_array = np.asarray(Input_data)\n",
        "Input_data_reshaped = Input_data_as_numpy_array.reshape(1,-1)"
      ],
      "metadata": {
        "id": "EgfbAjMXhdKW"
      },
      "execution_count": null,
      "outputs": []
    },
    {
      "cell_type": "code",
      "source": [
        "SC1=StandardScaler()\n",
        "std_data=np.array(SC1.fit_transform(Input_data_reshaped))"
      ],
      "metadata": {
        "id": "5dfAVi0VjBKD"
      },
      "execution_count": null,
      "outputs": []
    },
    {
      "cell_type": "code",
      "source": [
        "Prediction = Model_1.predict(std_data)\n",
        "print(Prediction)\n",
        "if (Prediction[0] == 0):\n",
        "  print(\"The Person does not have Parkinsons Disease\")\n",
        "\n",
        "else:\n",
        "  print(\"The Person has Parkinsons\")"
      ],
      "metadata": {
        "colab": {
          "base_uri": "https://localhost:8080/"
        },
        "id": "YGzD5VnFkmSJ",
        "outputId": "f41c876f-ba31-40de-f63a-a2352148ffbe"
      },
      "execution_count": null,
      "outputs": [
        {
          "output_type": "stream",
          "name": "stdout",
          "text": [
            "[0.75341223]\n",
            "The Person has Parkinsons\n"
          ]
        }
      ]
    },
    {
      "cell_type": "code",
      "source": [
        "Prediction = Model_6.predict(std_data)\n",
        "print(Prediction)\n",
        "if (Prediction[0] == 0):\n",
        "  print(\"The Person does not have Parkinsons Disease\")\n",
        "\n",
        "else:\n",
        "  print(\"The Person has Parkinsons\")"
      ],
      "metadata": {
        "colab": {
          "base_uri": "https://localhost:8080/"
        },
        "id": "PCPOKJ-S0Swv",
        "outputId": "431c689c-d57d-4683-aee2-65b439e3d66f"
      },
      "execution_count": null,
      "outputs": [
        {
          "output_type": "stream",
          "name": "stdout",
          "text": [
            "[1]\n",
            "The Person has Parkinsons\n"
          ]
        }
      ]
    }
  ]
}